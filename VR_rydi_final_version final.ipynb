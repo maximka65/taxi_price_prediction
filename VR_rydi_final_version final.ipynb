{
 "cells": [
  {
   "cell_type": "markdown",
   "metadata": {
    "id": "EUTCJHFfGoOQ",
    "toc": true
   },
   "source": [
    "<h1>Содержание<span class=\"tocSkip\"></span></h1>\n",
    "<div class=\"toc\"><ul class=\"toc-item\"><li><span><a href=\"#Подготовка\" data-toc-modified-id=\"Подготовка-1\"><span class=\"toc-item-num\">1&nbsp;&nbsp;</span>Подготовка</a></span></li><li><span><a href=\"#Анализ\" data-toc-modified-id=\"Анализ-2\"><span class=\"toc-item-num\">2&nbsp;&nbsp;</span>Анализ</a></span><ul class=\"toc-item\"><li><ul class=\"toc-item\"><li><span><a href=\"#построил--недельную\" data-toc-modified-id=\"построил--недельную-2.0.1\"><span class=\"toc-item-num\">2.0.1&nbsp;&nbsp;</span>построил  недельную</a></span></li></ul></li></ul></li><li><span><a href=\"#Обучение\" data-toc-modified-id=\"Обучение-3\"><span class=\"toc-item-num\">3&nbsp;&nbsp;</span>Обучение</a></span></li><li><span><a href=\"#Тестирование\" data-toc-modified-id=\"Тестирование-4\"><span class=\"toc-item-num\">4&nbsp;&nbsp;</span>Тестирование</a></span></li><li><span><a href=\"#Чек-лист-проверки\" data-toc-modified-id=\"Чек-лист-проверки-5\"><span class=\"toc-item-num\">5&nbsp;&nbsp;</span>Чек-лист проверки</a></span></li></ul></div>"
   ]
  },
  {
   "cell_type": "markdown",
   "metadata": {
    "id": "OVN6zlJ7GoOR"
   },
   "source": [
    "#  Прогнозирование заказов такси"
   ]
  },
  {
   "cell_type": "markdown",
   "metadata": {
    "id": "3XKjHmSvGoOR"
   },
   "source": [
    "Компания «Чётенькое такси» собрала исторические данные о заказах такси в аэропортах. Чтобы привлекать больше водителей в период пиковой нагрузки, нужно спрогнозировать количество заказов такси на следующий час. Постройте модель для такого предсказания.\n",
    "\n",
    "Значение метрики *RMSE* на тестовой выборке должно быть не больше 48.\n",
    "\n",
    "Вам нужно:\n",
    "\n",
    "1. Загрузить данные и выполнить их ресемплирование по одному часу.\n",
    "2. Проанализировать данные.\n",
    "3. Обучить разные модели с различными гиперпараметрами. Сделать тестовую выборку размером 10% от исходных данных.\n",
    "4. Проверить данные на тестовой выборке и сделать выводы.\n",
    "\n",
    "\n",
    "Данные лежат в файле `taxi.csv`. Количество заказов находится в столбце `num_orders` (от англ. *number of orders*, «число заказов»)."
   ]
  },
  {
   "cell_type": "markdown",
   "metadata": {
    "id": "wg2pJ5DLGoOS"
   },
   "source": [
    "**Цель проекта** - подобрать наилучшую модель для предсказаний заказов такси.\n",
    "\n",
    "**Задачи проекта** - ресемплировать, проанализировать данные и обучить на них 2 модели."
   ]
  },
  {
   "cell_type": "markdown",
   "metadata": {
    "id": "OKb_n-yfGoOS"
   },
   "source": [
    "## Подготовка"
   ]
  },
  {
   "cell_type": "code",
   "execution_count": 1,
   "metadata": {
    "id": "TBbzqhiIGoOS"
   },
   "outputs": [
    {
     "ename": "OSError",
     "evalue": "dlopen(/Users/macbook/anaconda3/lib/python3.10/site-packages/lightgbm/lib_lightgbm.so, 0x0006): Library not loaded: /usr/local/opt/libomp/lib/libomp.dylib\n  Referenced from: <D21A7969-4567-3BC7-94ED-6A9E83AE9D78> /Users/macbook/anaconda3/lib/python3.10/site-packages/lightgbm/lib_lightgbm.so\n  Reason: tried: '/usr/local/opt/libomp/lib/libomp.dylib' (no such file), '/System/Volumes/Preboot/Cryptexes/OS/usr/local/opt/libomp/lib/libomp.dylib' (no such file), '/usr/local/opt/libomp/lib/libomp.dylib' (no such file), '/usr/local/lib/libomp.dylib' (no such file), '/usr/lib/libomp.dylib' (no such file, not in dyld cache)",
     "output_type": "error",
     "traceback": [
      "\u001b[0;31m---------------------------------------------------------------------------\u001b[0m",
      "\u001b[0;31mOSError\u001b[0m                                   Traceback (most recent call last)",
      "Cell \u001b[0;32mIn[1], line 17\u001b[0m\n\u001b[1;32m     15\u001b[0m \u001b[38;5;28;01mfrom\u001b[39;00m \u001b[38;5;21;01msklearn\u001b[39;00m\u001b[38;5;21;01m.\u001b[39;00m\u001b[38;5;21;01mlinear_model\u001b[39;00m \u001b[38;5;28;01mimport\u001b[39;00m LinearRegression \n\u001b[1;32m     16\u001b[0m \u001b[38;5;28;01mfrom\u001b[39;00m \u001b[38;5;21;01msklearn\u001b[39;00m\u001b[38;5;21;01m.\u001b[39;00m\u001b[38;5;21;01mtree\u001b[39;00m \u001b[38;5;28;01mimport\u001b[39;00m DecisionTreeRegressor \n\u001b[0;32m---> 17\u001b[0m \u001b[38;5;28;01mfrom\u001b[39;00m \u001b[38;5;21;01mlightgbm\u001b[39;00m \u001b[38;5;28;01mimport\u001b[39;00m LGBMRegressor \n\u001b[1;32m     18\u001b[0m \u001b[38;5;28;01mfrom\u001b[39;00m \u001b[38;5;21;01msklearn\u001b[39;00m\u001b[38;5;21;01m.\u001b[39;00m\u001b[38;5;21;01mmodel_selection\u001b[39;00m \u001b[38;5;28;01mimport\u001b[39;00m TimeSeriesSplit, RandomizedSearchCV\n\u001b[1;32m     20\u001b[0m \u001b[38;5;28;01mimport\u001b[39;00m \u001b[38;5;21;01mwarnings\u001b[39;00m\n",
      "File \u001b[0;32m~/anaconda3/lib/python3.10/site-packages/lightgbm/__init__.py:8\u001b[0m\n\u001b[1;32m      2\u001b[0m \u001b[38;5;124;03m\"\"\"LightGBM, Light Gradient Boosting Machine.\u001b[39;00m\n\u001b[1;32m      3\u001b[0m \n\u001b[1;32m      4\u001b[0m \u001b[38;5;124;03mContributors: https://github.com/microsoft/LightGBM/graphs/contributors.\u001b[39;00m\n\u001b[1;32m      5\u001b[0m \u001b[38;5;124;03m\"\"\"\u001b[39;00m\n\u001b[1;32m      6\u001b[0m \u001b[38;5;28;01mfrom\u001b[39;00m \u001b[38;5;21;01mpathlib\u001b[39;00m \u001b[38;5;28;01mimport\u001b[39;00m Path\n\u001b[0;32m----> 8\u001b[0m \u001b[38;5;28;01mfrom\u001b[39;00m \u001b[38;5;21;01m.\u001b[39;00m\u001b[38;5;21;01mbasic\u001b[39;00m \u001b[38;5;28;01mimport\u001b[39;00m Booster, Dataset, Sequence, register_logger\n\u001b[1;32m      9\u001b[0m \u001b[38;5;28;01mfrom\u001b[39;00m \u001b[38;5;21;01m.\u001b[39;00m\u001b[38;5;21;01mcallback\u001b[39;00m \u001b[38;5;28;01mimport\u001b[39;00m early_stopping, log_evaluation, print_evaluation, record_evaluation, reset_parameter\n\u001b[1;32m     10\u001b[0m \u001b[38;5;28;01mfrom\u001b[39;00m \u001b[38;5;21;01m.\u001b[39;00m\u001b[38;5;21;01mengine\u001b[39;00m \u001b[38;5;28;01mimport\u001b[39;00m CVBooster, cv, train\n",
      "File \u001b[0;32m~/anaconda3/lib/python3.10/site-packages/lightgbm/basic.py:110\u001b[0m\n\u001b[1;32m    106\u001b[0m         \u001b[38;5;28;01mraise\u001b[39;00m LightGBMError(lib\u001b[38;5;241m.\u001b[39mLGBM_GetLastError()\u001b[38;5;241m.\u001b[39mdecode(\u001b[38;5;124m'\u001b[39m\u001b[38;5;124mutf-8\u001b[39m\u001b[38;5;124m'\u001b[39m))\n\u001b[1;32m    107\u001b[0m     \u001b[38;5;28;01mreturn\u001b[39;00m lib\n\u001b[0;32m--> 110\u001b[0m _LIB \u001b[38;5;241m=\u001b[39m \u001b[43m_load_lib\u001b[49m\u001b[43m(\u001b[49m\u001b[43m)\u001b[49m\n\u001b[1;32m    113\u001b[0m NUMERIC_TYPES \u001b[38;5;241m=\u001b[39m (\u001b[38;5;28mint\u001b[39m, \u001b[38;5;28mfloat\u001b[39m, \u001b[38;5;28mbool\u001b[39m)\n\u001b[1;32m    116\u001b[0m \u001b[38;5;28;01mdef\u001b[39;00m \u001b[38;5;21m_safe_call\u001b[39m(ret: \u001b[38;5;28mint\u001b[39m) \u001b[38;5;241m-\u001b[39m\u001b[38;5;241m>\u001b[39m \u001b[38;5;28;01mNone\u001b[39;00m:\n",
      "File \u001b[0;32m~/anaconda3/lib/python3.10/site-packages/lightgbm/basic.py:101\u001b[0m, in \u001b[0;36m_load_lib\u001b[0;34m()\u001b[0m\n\u001b[1;32m     99\u001b[0m \u001b[38;5;28;01mif\u001b[39;00m \u001b[38;5;28mlen\u001b[39m(lib_path) \u001b[38;5;241m==\u001b[39m \u001b[38;5;241m0\u001b[39m:\n\u001b[1;32m    100\u001b[0m     \u001b[38;5;28;01mreturn\u001b[39;00m \u001b[38;5;28;01mNone\u001b[39;00m\n\u001b[0;32m--> 101\u001b[0m lib \u001b[38;5;241m=\u001b[39m \u001b[43mctypes\u001b[49m\u001b[38;5;241;43m.\u001b[39;49m\u001b[43mcdll\u001b[49m\u001b[38;5;241;43m.\u001b[39;49m\u001b[43mLoadLibrary\u001b[49m\u001b[43m(\u001b[49m\u001b[43mlib_path\u001b[49m\u001b[43m[\u001b[49m\u001b[38;5;241;43m0\u001b[39;49m\u001b[43m]\u001b[49m\u001b[43m)\u001b[49m\n\u001b[1;32m    102\u001b[0m lib\u001b[38;5;241m.\u001b[39mLGBM_GetLastError\u001b[38;5;241m.\u001b[39mrestype \u001b[38;5;241m=\u001b[39m ctypes\u001b[38;5;241m.\u001b[39mc_char_p\n\u001b[1;32m    103\u001b[0m callback \u001b[38;5;241m=\u001b[39m ctypes\u001b[38;5;241m.\u001b[39mCFUNCTYPE(\u001b[38;5;28;01mNone\u001b[39;00m, ctypes\u001b[38;5;241m.\u001b[39mc_char_p)\n",
      "File \u001b[0;32m~/anaconda3/lib/python3.10/ctypes/__init__.py:452\u001b[0m, in \u001b[0;36mLibraryLoader.LoadLibrary\u001b[0;34m(self, name)\u001b[0m\n\u001b[1;32m    451\u001b[0m \u001b[38;5;28;01mdef\u001b[39;00m \u001b[38;5;21mLoadLibrary\u001b[39m(\u001b[38;5;28mself\u001b[39m, name):\n\u001b[0;32m--> 452\u001b[0m     \u001b[38;5;28;01mreturn\u001b[39;00m \u001b[38;5;28;43mself\u001b[39;49m\u001b[38;5;241;43m.\u001b[39;49m\u001b[43m_dlltype\u001b[49m\u001b[43m(\u001b[49m\u001b[43mname\u001b[49m\u001b[43m)\u001b[49m\n",
      "File \u001b[0;32m~/anaconda3/lib/python3.10/ctypes/__init__.py:374\u001b[0m, in \u001b[0;36mCDLL.__init__\u001b[0;34m(self, name, mode, handle, use_errno, use_last_error, winmode)\u001b[0m\n\u001b[1;32m    371\u001b[0m \u001b[38;5;28mself\u001b[39m\u001b[38;5;241m.\u001b[39m_FuncPtr \u001b[38;5;241m=\u001b[39m _FuncPtr\n\u001b[1;32m    373\u001b[0m \u001b[38;5;28;01mif\u001b[39;00m handle \u001b[38;5;129;01mis\u001b[39;00m \u001b[38;5;28;01mNone\u001b[39;00m:\n\u001b[0;32m--> 374\u001b[0m     \u001b[38;5;28mself\u001b[39m\u001b[38;5;241m.\u001b[39m_handle \u001b[38;5;241m=\u001b[39m \u001b[43m_dlopen\u001b[49m\u001b[43m(\u001b[49m\u001b[38;5;28;43mself\u001b[39;49m\u001b[38;5;241;43m.\u001b[39;49m\u001b[43m_name\u001b[49m\u001b[43m,\u001b[49m\u001b[43m \u001b[49m\u001b[43mmode\u001b[49m\u001b[43m)\u001b[49m\n\u001b[1;32m    375\u001b[0m \u001b[38;5;28;01melse\u001b[39;00m:\n\u001b[1;32m    376\u001b[0m     \u001b[38;5;28mself\u001b[39m\u001b[38;5;241m.\u001b[39m_handle \u001b[38;5;241m=\u001b[39m handle\n",
      "\u001b[0;31mOSError\u001b[0m: dlopen(/Users/macbook/anaconda3/lib/python3.10/site-packages/lightgbm/lib_lightgbm.so, 0x0006): Library not loaded: /usr/local/opt/libomp/lib/libomp.dylib\n  Referenced from: <D21A7969-4567-3BC7-94ED-6A9E83AE9D78> /Users/macbook/anaconda3/lib/python3.10/site-packages/lightgbm/lib_lightgbm.so\n  Reason: tried: '/usr/local/opt/libomp/lib/libomp.dylib' (no such file), '/System/Volumes/Preboot/Cryptexes/OS/usr/local/opt/libomp/lib/libomp.dylib' (no such file), '/usr/local/opt/libomp/lib/libomp.dylib' (no such file), '/usr/local/lib/libomp.dylib' (no such file), '/usr/lib/libomp.dylib' (no such file, not in dyld cache)"
     ]
    }
   ],
   "source": [
    "import pandas as pd \n",
    "\n",
    "from statsmodels.tsa.seasonal import seasonal_decompose \n",
    "import matplotlib.pyplot as plt \n",
    "import seaborn as sns\n",
    "\n",
    "\n",
    "from sklearn.model_selection import train_test_split \n",
    "from sklearn.metrics import mean_squared_error \n",
    "from sklearn.ensemble import RandomForestRegressor\n",
    "from catboost import CatBoostRegressor \n",
    "\n",
    "from sklearn.metrics import make_scorer\n",
    "from sklearn.model_selection import GridSearchCV\n",
    "from sklearn.linear_model import LinearRegression \n",
    "from sklearn.tree import DecisionTreeRegressor \n",
    "from lightgbm import LGBMRegressor \n",
    "from sklearn.model_selection import TimeSeriesSplit, RandomizedSearchCV\n",
    "\n",
    "import warnings\n",
    "warnings.filterwarnings('ignore')"
   ]
  },
  {
   "cell_type": "code",
   "execution_count": null,
   "metadata": {
    "id": "30ZqRww0GoOT"
   },
   "outputs": [],
   "source": [
    "#подключаю датасет\n",
    "try:\n",
    "    data = pd.read_csv('/datasets/taxi.csv')\n",
    "except:\n",
    "    data = pd.read_csv('C:/Users/Ivan_v/taxi.csv')"
   ]
  },
  {
   "cell_type": "code",
   "execution_count": null,
   "metadata": {
    "id": "jZ56kdMOGoOT",
    "outputId": "928c3391-9a7b-43e6-daa0-55faa8e86fa1"
   },
   "outputs": [
    {
     "name": "stdout",
     "output_type": "stream",
     "text": [
      "Краткая информация\n",
      "Строки 26496\n",
      "Столбцы 2\n"
     ]
    }
   ],
   "source": [
    "print(f'Краткая информация')\n",
    "print(f'Строки {data.shape[0]}')\n",
    "print(f'Столбцы {data.shape[1]}')"
   ]
  },
  {
   "cell_type": "code",
   "execution_count": null,
   "metadata": {
    "id": "rxzw-js-GoOT",
    "outputId": "6d899f65-3031-4f70-d7c2-ee13188b16fb"
   },
   "outputs": [
    {
     "name": "stdout",
     "output_type": "stream",
     "text": [
      "<class 'pandas.core.frame.DataFrame'>\n",
      "RangeIndex: 26496 entries, 0 to 26495\n",
      "Data columns (total 2 columns):\n",
      " #   Column      Non-Null Count  Dtype \n",
      "---  ------      --------------  ----- \n",
      " 0   datetime    26496 non-null  object\n",
      " 1   num_orders  26496 non-null  int64 \n",
      "dtypes: int64(1), object(1)\n",
      "memory usage: 414.1+ KB\n"
     ]
    }
   ],
   "source": [
    "# вывожу информацию о данных\n",
    "data.info()"
   ]
  },
  {
   "cell_type": "code",
   "execution_count": null,
   "metadata": {
    "id": "ngQYYMq0GoOU",
    "outputId": "050c93b3-153c-441c-c4b6-0fa9254b09a3"
   },
   "outputs": [
    {
     "data": {
      "text/html": [
       "<div>\n",
       "<style scoped>\n",
       "    .dataframe tbody tr th:only-of-type {\n",
       "        vertical-align: middle;\n",
       "    }\n",
       "\n",
       "    .dataframe tbody tr th {\n",
       "        vertical-align: top;\n",
       "    }\n",
       "\n",
       "    .dataframe thead th {\n",
       "        text-align: right;\n",
       "    }\n",
       "</style>\n",
       "<table border=\"1\" class=\"dataframe\">\n",
       "  <thead>\n",
       "    <tr style=\"text-align: right;\">\n",
       "      <th></th>\n",
       "      <th>datetime</th>\n",
       "      <th>num_orders</th>\n",
       "    </tr>\n",
       "  </thead>\n",
       "  <tbody>\n",
       "    <tr>\n",
       "      <th>6251</th>\n",
       "      <td>2018-04-13 09:50:00</td>\n",
       "      <td>9</td>\n",
       "    </tr>\n",
       "    <tr>\n",
       "      <th>15904</th>\n",
       "      <td>2018-06-19 10:40:00</td>\n",
       "      <td>11</td>\n",
       "    </tr>\n",
       "    <tr>\n",
       "      <th>19398</th>\n",
       "      <td>2018-07-13 17:00:00</td>\n",
       "      <td>19</td>\n",
       "    </tr>\n",
       "    <tr>\n",
       "      <th>13932</th>\n",
       "      <td>2018-06-05 18:00:00</td>\n",
       "      <td>10</td>\n",
       "    </tr>\n",
       "    <tr>\n",
       "      <th>9156</th>\n",
       "      <td>2018-05-03 14:00:00</td>\n",
       "      <td>4</td>\n",
       "    </tr>\n",
       "    <tr>\n",
       "      <th>24263</th>\n",
       "      <td>2018-08-16 11:50:00</td>\n",
       "      <td>20</td>\n",
       "    </tr>\n",
       "    <tr>\n",
       "      <th>11465</th>\n",
       "      <td>2018-05-19 14:50:00</td>\n",
       "      <td>11</td>\n",
       "    </tr>\n",
       "    <tr>\n",
       "      <th>17709</th>\n",
       "      <td>2018-07-01 23:30:00</td>\n",
       "      <td>26</td>\n",
       "    </tr>\n",
       "    <tr>\n",
       "      <th>4854</th>\n",
       "      <td>2018-04-03 17:00:00</td>\n",
       "      <td>9</td>\n",
       "    </tr>\n",
       "    <tr>\n",
       "      <th>5065</th>\n",
       "      <td>2018-04-05 04:10:00</td>\n",
       "      <td>13</td>\n",
       "    </tr>\n",
       "  </tbody>\n",
       "</table>\n",
       "</div>"
      ],
      "text/plain": [
       "                  datetime  num_orders\n",
       "6251   2018-04-13 09:50:00           9\n",
       "15904  2018-06-19 10:40:00          11\n",
       "19398  2018-07-13 17:00:00          19\n",
       "13932  2018-06-05 18:00:00          10\n",
       "9156   2018-05-03 14:00:00           4\n",
       "24263  2018-08-16 11:50:00          20\n",
       "11465  2018-05-19 14:50:00          11\n",
       "17709  2018-07-01 23:30:00          26\n",
       "4854   2018-04-03 17:00:00           9\n",
       "5065   2018-04-05 04:10:00          13"
      ]
     },
     "execution_count": 5,
     "metadata": {},
     "output_type": "execute_result"
    }
   ],
   "source": [
    "# смотрю лучайные 10 записей из этого датасета.\n",
    "data.sample(10) "
   ]
  },
  {
   "cell_type": "code",
   "execution_count": null,
   "metadata": {
    "id": "lt0P3VfRGoOU",
    "outputId": "9c41c70c-c722-472d-f8f8-67633ef234e1"
   },
   "outputs": [
    {
     "data": {
      "text/plain": [
       "datetime      0\n",
       "num_orders    0\n",
       "dtype: int64"
      ]
     },
     "execution_count": 6,
     "metadata": {},
     "output_type": "execute_result"
    }
   ],
   "source": [
    "#ищю пропуски\n",
    "data.isna().sum()"
   ]
  },
  {
   "cell_type": "markdown",
   "metadata": {
    "id": "jv7wki_gGoOU"
   },
   "source": [
    "Провреду проверку на монотонность"
   ]
  },
  {
   "cell_type": "code",
   "execution_count": null,
   "metadata": {
    "id": "08r9VslRGoOU"
   },
   "outputs": [],
   "source": [
    "data['datetime'] = pd.to_datetime(data['datetime'])"
   ]
  },
  {
   "cell_type": "code",
   "execution_count": null,
   "metadata": {
    "id": "0_GGizr-GoOU",
    "outputId": "ce838248-3ed2-4517-f131-9f87f9a006cc"
   },
   "outputs": [
    {
     "data": {
      "text/plain": [
       "True"
      ]
     },
     "execution_count": 8,
     "metadata": {},
     "output_type": "execute_result"
    }
   ],
   "source": [
    "data = data.set_index('datetime')\n",
    "data = data.sort_index()\n",
    "data.index.is_monotonic"
   ]
  },
  {
   "cell_type": "markdown",
   "metadata": {
    "id": "jibPJYNaGoOU"
   },
   "source": [
    "Сделаю ресемплинг датасета по часам."
   ]
  },
  {
   "cell_type": "code",
   "execution_count": null,
   "metadata": {
    "id": "8b_EOM-DGoOU"
   },
   "outputs": [],
   "source": [
    "# ресемплинг\n",
    "data.sort_index(inplace=True)\n",
    "data = data.resample('1H').sum()"
   ]
  },
  {
   "cell_type": "code",
   "execution_count": null,
   "metadata": {
    "id": "C3bI1H7XGoOV",
    "outputId": "54db13c4-5746-4b66-9091-b54c680e2a02"
   },
   "outputs": [
    {
     "name": "stdout",
     "output_type": "stream",
     "text": [
      "<class 'pandas.core.frame.DataFrame'>\n",
      "DatetimeIndex: 4416 entries, 2018-03-01 00:00:00 to 2018-08-31 23:00:00\n",
      "Freq: H\n",
      "Data columns (total 1 columns):\n",
      " #   Column      Non-Null Count  Dtype\n",
      "---  ------      --------------  -----\n",
      " 0   num_orders  4416 non-null   int64\n",
      "dtypes: int64(1)\n",
      "memory usage: 69.0 KB\n"
     ]
    }
   ],
   "source": [
    "# вывожу информацию о данных\n",
    "data.info()"
   ]
  },
  {
   "cell_type": "markdown",
   "metadata": {
    "id": "8W2U-MdaGoOV"
   },
   "source": [
    "**Вывод**\n",
    "- Загрузил и обработал датасет о заказах такси. Данные за 6 месяцев 2018 года. \n",
    "- Пропуски не обнаружил- ничего не надо модернизировать\n",
    "- Сделал ресемплирование данных по 1 часу. Это должно помочь уменьшить объем данных и изменить разрешение временных рядов для анализа и прогнозирования."
   ]
  },
  {
   "cell_type": "markdown",
   "metadata": {
    "id": "DKg8sWumGoOV"
   },
   "source": [
    "## Анализ"
   ]
  },
  {
   "cell_type": "code",
   "execution_count": null,
   "metadata": {
    "id": "1KrIjavOGoOV",
    "outputId": "fdbb20b1-b677-44a7-e0f3-33ae37a8fe06"
   },
   "outputs": [
    {
     "data": {
      "text/plain": [
       "<AxesSubplot:title={'center':'Количество заказов такси в зависимости от времени'}, xlabel='Дата-время заказа такси', ylabel='Кол-во заказов'>"
      ]
     },
     "execution_count": 11,
     "metadata": {},
     "output_type": "execute_result"
    },
    {
     "data": {
      "image/png": "[encoded data removed]",
      "text/plain": [
       "<Figure size 1152x576 with 1 Axes>"
      ]
     },
     "metadata": {
      "needs_background": "light"
     },
     "output_type": "display_data"
    }
   ],
   "source": [
    "data.plot(figsize=(16,8), title='Количество заказов такси в зависимости от времени', xlabel='Дата-время заказа такси', ylabel='Кол-во заказов', color='green')"
   ]
  },
  {
   "cell_type": "code",
   "execution_count": null,
   "metadata": {
    "id": "3LdVZL6ZGoOV",
    "outputId": "a6626b76-e01d-4165-8068-8ce3c9a35fac"
   },
   "outputs": [
    {
     "data": {
      "text/plain": [
       "num_orders    84.422781\n",
       "dtype: float64"
      ]
     },
     "execution_count": 12,
     "metadata": {},
     "output_type": "execute_result"
    }
   ],
   "source": [
    "data.mean()# посмотрю среднее кол-во заказов"
   ]
  },
  {
   "cell_type": "markdown",
   "metadata": {
    "id": "pN3dBqIeGoOV"
   },
   "source": [
    "в среднем 84 заказа"
   ]
  },
  {
   "cell_type": "code",
   "execution_count": null,
   "metadata": {
    "id": "mg2Zj3rNGoOV",
    "outputId": "476f45b4-2e25-4a67-e46f-7b4019e578c8"
   },
   "outputs": [
    {
     "name": "stdout",
     "output_type": "stream",
     "text": [
      "Минимальные число и время в данных: 2018-03-01 00:00:00\n"
     ]
    }
   ],
   "source": [
    "print('Минимальные число и время в данных:', data.index.min())"
   ]
  },
  {
   "cell_type": "code",
   "execution_count": null,
   "metadata": {
    "id": "T7axHB_fGoOW",
    "outputId": "d668668b-515a-480e-afdd-621145cdef86"
   },
   "outputs": [
    {
     "name": "stdout",
     "output_type": "stream",
     "text": [
      "Максимальные число и время в данных: 2018-08-31 23:00:00\n"
     ]
    }
   ],
   "source": [
    "print('Максимальные число и время в данных:', data.index.max())"
   ]
  },
  {
   "cell_type": "markdown",
   "metadata": {
    "id": "_Eb-luBBGoOW"
   },
   "source": [
    "Проанализируем наличие тренда, сезонности и остатков"
   ]
  },
  {
   "cell_type": "code",
   "execution_count": null,
   "metadata": {
    "id": "sgEiMs37GoOW",
    "outputId": "1fe99416-85ec-4b79-f443-d51842d6c49a"
   },
   "outputs": [
    {
     "data": {
      "image/png": "[encoded data removed]",
      "text/plain": [
       "<Figure size 1008x864 with 1 Axes>"
      ]
     },
     "metadata": {
      "needs_background": "light"
     },
     "output_type": "display_data"
    }
   ],
   "source": [
    "#Посмотрю тренд в количестве заказов\n",
    "decomposed = seasonal_decompose(data)\n",
    "plt.figure(figsize=(14, 12))\n",
    "decomposed.trend.plot(ax=plt.gca(),color='darkgreen')  \n",
    "plt.title('Тренд в количестве заказов')\n",
    "plt.xlabel('Дата-время заказа такси')\n",
    "plt.ylabel('Кол-во заказов')\n",
    "\n",
    "plt.show()"
   ]
  },
  {
   "cell_type": "markdown",
   "metadata": {
    "id": "mmHRsibFGoOW"
   },
   "source": [
    "Построил тренд в заказах такси. Видно, что общий тренд показывает увеличение числа заказов "
   ]
  },
  {
   "cell_type": "code",
   "execution_count": null,
   "metadata": {
    "id": "YuchNn3EGoOW",
    "outputId": "691853e5-2959-4252-fe2e-14fa25634374"
   },
   "outputs": [
    {
     "data": {
      "image/png": "[encoded data removed]",
      "text/plain": [
       "<Figure size 1008x864 with 1 Axes>"
      ]
     },
     "metadata": {
      "needs_background": "light"
     },
     "output_type": "display_data"
    }
   ],
   "source": [
    "#Посмотрю Сезонность заказов\n",
    "decomposed = seasonal_decompose(data)\n",
    "plt.figure(figsize=(14, 12))\n",
    "decomposed.seasonal.plot(ax=plt.gca(),color='darkgreen')  \n",
    "plt.title('Сезонность заказов')\n",
    "plt.xlabel('Дата-время заказа такси')\n",
    "plt.ylabel('кол-во заказов')\n",
    "\n",
    "\n",
    "plt.show()"
   ]
  },
  {
   "cell_type": "markdown",
   "metadata": {
    "id": "JP1N6blnGoOW"
   },
   "source": [
    "Из графика видно- сезонность имеет циклический характер и повторяется каждый месяц. "
   ]
  },
  {
   "cell_type": "code",
   "execution_count": null,
   "metadata": {
    "id": "fQdZL__7GoOW",
    "outputId": "87bd77ad-de8c-4be0-a3d9-e3fc513ca673"
   },
   "outputs": [
    {
     "data": {
      "image/png": "[encoded data removed]",
      "text/plain": [
       "<Figure size 1008x864 with 1 Axes>"
      ]
     },
     "metadata": {
      "needs_background": "light"
     },
     "output_type": "display_data"
    }
   ],
   "source": [
    "#строю график остатков\n",
    "decomposed = seasonal_decompose(data)\n",
    "plt.figure(figsize=(14, 12))\n",
    "decomposed.resid.plot(ax=plt.gca(), color='darkgreen') \n",
    "plt.title('Остатки')\n",
    "plt.xlabel('Дата-время заказа такси')\n",
    "plt.ylabel('кол-во заказов')\n",
    "\n",
    "plt.show()"
   ]
  },
  {
   "cell_type": "markdown",
   "metadata": {
    "id": "vpLGlcxKGoOX"
   },
   "source": [
    "График показывает остатки временного ряда, то есть разницу между фактическими значениями ряда и которые предсказывает модель. Если остатки распределены случайным образом и не имеют явной структуры, то это говорит о том, что модель хорошо описывает данные. В данном случае, график остатков показывает, что модель описывает данные достаточно хорошо, так как остатки не имеют явных трендов, сезонности или других закономерностей."
   ]
  },
  {
   "cell_type": "markdown",
   "metadata": {
    "id": "k1hC6WLCGoOX"
   },
   "source": [
    "В целом можно заключить, что заказов становится больше-виден восходящий тренд. \n",
    "Рассмотрю сезонность более укрупненно-возьму данные за 14 дней."
   ]
  },
  {
   "cell_type": "code",
   "execution_count": null,
   "metadata": {
    "id": "cfxn3P99GoOX",
    "outputId": "d10a683a-e58a-48e2-bbd3-2e1f8e43e3c6",
    "scrolled": false
   },
   "outputs": [
    {
     "data": {
      "text/plain": [
       "<AxesSubplot:title={'center':'Cезонность(по дням)'}, xlabel='datetime'>"
      ]
     },
     "execution_count": 19,
     "metadata": {},
     "output_type": "execute_result"
    },
    {
     "data": {
      "image/png": "[encoded data removed]",
      "text/plain": [
       "<Figure size 1224x288 with 1 Axes>"
      ]
     },
     "metadata": {
      "needs_background": "light"
     },
     "output_type": "display_data"
    }
   ],
   "source": [
    "#смотрю сезонность за 2 недели\n",
    "plt.figure(figsize=(17,4))\n",
    "plt.title('Cезонность(по дням)')\n",
    "decomposed.seasonal['2018-06-01':'2018-06-14'].plot(ax=plt.gca(), color='green')"
   ]
  },
  {
   "cell_type": "markdown",
   "metadata": {
    "id": "Fw3cpDY2GoOX"
   },
   "source": [
    "Есть сезонность по дням. Посмотрим отдельно пару дней."
   ]
  },
  {
   "cell_type": "markdown",
   "metadata": {
    "id": "92KiBvMvGoOX"
   },
   "source": [
    "#### Построил  недельную сезонность количества заказов такси за период с 1 по 14 июня 2018 года."
   ]
  },
  {
   "cell_type": "markdown",
   "metadata": {
    "id": "lgflZWYhGoOX"
   },
   "source": [
    "Укруплю анализ -посмотрю сезонность в течение дня"
   ]
  },
  {
   "cell_type": "code",
   "execution_count": null,
   "metadata": {
    "id": "WUzXiydzGoOX",
    "outputId": "a1946170-07ab-4fd0-8084-ced918e0364d"
   },
   "outputs": [
    {
     "data": {
      "text/plain": [
       "<AxesSubplot:title={'center':'Дневная сезонность(часы)'}, xlabel='datetime'>"
      ]
     },
     "execution_count": 20,
     "metadata": {},
     "output_type": "execute_result"
    },
    {
     "data": {
      "image/png": "[encoded data removed]",
      "text/plain": [
       "<Figure size 432x288 with 1 Axes>"
      ]
     },
     "metadata": {
      "needs_background": "light"
     },
     "output_type": "display_data"
    }
   ],
   "source": [
    "import matplotlib.ticker as ticker\n",
    "\n",
    "\n",
    "plt.title('Дневная сезонность(часы)')\n",
    "decomposed.seasonal['2018-06-01':'2018-06-02'].plot(ax=plt.gca(), color='green')\n"
   ]
  },
  {
   "cell_type": "markdown",
   "metadata": {
    "id": "PdQBgZtFGoOX"
   },
   "source": [
    "**Вывод**\n",
    "- По тренду можно сказать что кол-во  заказа такси от марта к августу растет- сезонность.\n",
    "- Есть суточная сезонность- Меньше всего заказов в 6 утра,три пиковых всплеска заказов: в 9-10 утра, после обеда и в 00. Выделяется пиковый спрос в вечернее время (начинает расти с 18:00  достигает пика в  22:00), затем, ночью, спрос падает и достигает минимума в районе 6 часов утра.\n",
    "\n",
    "\n",
    "\n",
    "\n",
    "\n"
   ]
  },
  {
   "cell_type": "markdown",
   "metadata": {
    "id": "-QFeC7oSGoOX"
   },
   "source": [
    "## Обучение"
   ]
  },
  {
   "cell_type": "markdown",
   "metadata": {
    "id": "9F5gJeG3GoOX"
   },
   "source": [
    "Сгенерируем нужные признаки на основе имеющихся данных -добавим  — месяц, день, день недели,время, скользящее среднее и лаги. Максимальный лаг возьмем равным неделе, а скользящее среднее будем считать в интервале 24 часа."
   ]
  },
  {
   "cell_type": "markdown",
   "metadata": {
    "id": "9SfDccBrGoOY"
   },
   "source": [
    "Строю скользящее среднее с недельной разбивкой"
   ]
  },
  {
   "cell_type": "code",
   "execution_count": null,
   "metadata": {
    "id": "1l51LjIyGoOY"
   },
   "outputs": [],
   "source": [
    "data['rolling_mean'] = data.rolling(24*7).mean()\n"
   ]
  },
  {
   "cell_type": "code",
   "execution_count": null,
   "metadata": {
    "id": "d4Ot_pSfGoOY"
   },
   "outputs": [],
   "source": [
    "#создаю признаки для обучения модели\n",
    "def make_features(data, max_lag, size_of_rolling_mean):\n",
    "    data_features = data.copy()\n",
    "    data_features = data_features.drop(['rolling_mean'], axis=1)\n",
    "    #data_features['year'] = data_features.index.year\n",
    "    data_features['month'] = data_features.index.month\n",
    "    data_features['day'] = data_features.index.day\n",
    "    data_features['weekday'] = data_features.index.dayofweek\n",
    "    data_features['hour'] = data_features.index.hour\n",
    "    \n",
    "    for lag in range(1, max_lag + 1):\n",
    "        data_features['lag_{}'.format(lag)] = data_features['num_orders'].shift(lag)\n",
    "\n",
    "    data_features['rolling_mean'] = data_features['num_orders'].shift().rolling(size_of_rolling_mean).mean()\n",
    "    return data_features"
   ]
  },
  {
   "cell_type": "code",
   "execution_count": null,
   "metadata": {
    "id": "L_L86ZkkGoOY",
    "outputId": "7aa70d83-a77a-419d-9a6e-ea28240e5385"
   },
   "outputs": [
    {
     "data": {
      "text/html": [
       "<div>\n",
       "<style scoped>\n",
       "    .dataframe tbody tr th:only-of-type {\n",
       "        vertical-align: middle;\n",
       "    }\n",
       "\n",
       "    .dataframe tbody tr th {\n",
       "        vertical-align: top;\n",
       "    }\n",
       "\n",
       "    .dataframe thead th {\n",
       "        text-align: right;\n",
       "    }\n",
       "</style>\n",
       "<table border=\"1\" class=\"dataframe\">\n",
       "  <thead>\n",
       "    <tr style=\"text-align: right;\">\n",
       "      <th></th>\n",
       "      <th>num_orders</th>\n",
       "      <th>month</th>\n",
       "      <th>day</th>\n",
       "      <th>weekday</th>\n",
       "      <th>hour</th>\n",
       "      <th>lag_1</th>\n",
       "      <th>lag_2</th>\n",
       "      <th>r_mean</th>\n",
       "    </tr>\n",
       "    <tr>\n",
       "      <th>datetime</th>\n",
       "      <th></th>\n",
       "      <th></th>\n",
       "      <th></th>\n",
       "      <th></th>\n",
       "      <th></th>\n",
       "      <th></th>\n",
       "      <th></th>\n",
       "      <th></th>\n",
       "    </tr>\n",
       "  </thead>\n",
       "  <tbody>\n",
       "    <tr>\n",
       "      <th>2018-03-01 00:00:00</th>\n",
       "      <td>124</td>\n",
       "      <td>3</td>\n",
       "      <td>1</td>\n",
       "      <td>3</td>\n",
       "      <td>0</td>\n",
       "      <td>NaN</td>\n",
       "      <td>NaN</td>\n",
       "      <td>NaN</td>\n",
       "    </tr>\n",
       "    <tr>\n",
       "      <th>2018-03-01 01:00:00</th>\n",
       "      <td>85</td>\n",
       "      <td>3</td>\n",
       "      <td>1</td>\n",
       "      <td>3</td>\n",
       "      <td>1</td>\n",
       "      <td>124.0</td>\n",
       "      <td>NaN</td>\n",
       "      <td>NaN</td>\n",
       "    </tr>\n",
       "    <tr>\n",
       "      <th>2018-03-01 02:00:00</th>\n",
       "      <td>71</td>\n",
       "      <td>3</td>\n",
       "      <td>1</td>\n",
       "      <td>3</td>\n",
       "      <td>2</td>\n",
       "      <td>85.0</td>\n",
       "      <td>124.0</td>\n",
       "      <td>NaN</td>\n",
       "    </tr>\n",
       "    <tr>\n",
       "      <th>2018-03-01 03:00:00</th>\n",
       "      <td>66</td>\n",
       "      <td>3</td>\n",
       "      <td>1</td>\n",
       "      <td>3</td>\n",
       "      <td>3</td>\n",
       "      <td>71.0</td>\n",
       "      <td>85.0</td>\n",
       "      <td>NaN</td>\n",
       "    </tr>\n",
       "    <tr>\n",
       "      <th>2018-03-01 04:00:00</th>\n",
       "      <td>43</td>\n",
       "      <td>3</td>\n",
       "      <td>1</td>\n",
       "      <td>3</td>\n",
       "      <td>4</td>\n",
       "      <td>66.0</td>\n",
       "      <td>71.0</td>\n",
       "      <td>NaN</td>\n",
       "    </tr>\n",
       "    <tr>\n",
       "      <th>...</th>\n",
       "      <td>...</td>\n",
       "      <td>...</td>\n",
       "      <td>...</td>\n",
       "      <td>...</td>\n",
       "      <td>...</td>\n",
       "      <td>...</td>\n",
       "      <td>...</td>\n",
       "      <td>...</td>\n",
       "    </tr>\n",
       "    <tr>\n",
       "      <th>2018-08-31 19:00:00</th>\n",
       "      <td>136</td>\n",
       "      <td>8</td>\n",
       "      <td>31</td>\n",
       "      <td>4</td>\n",
       "      <td>19</td>\n",
       "      <td>207.0</td>\n",
       "      <td>217.0</td>\n",
       "      <td>164.875000</td>\n",
       "    </tr>\n",
       "    <tr>\n",
       "      <th>2018-08-31 20:00:00</th>\n",
       "      <td>154</td>\n",
       "      <td>8</td>\n",
       "      <td>31</td>\n",
       "      <td>4</td>\n",
       "      <td>20</td>\n",
       "      <td>136.0</td>\n",
       "      <td>207.0</td>\n",
       "      <td>167.541667</td>\n",
       "    </tr>\n",
       "    <tr>\n",
       "      <th>2018-08-31 21:00:00</th>\n",
       "      <td>159</td>\n",
       "      <td>8</td>\n",
       "      <td>31</td>\n",
       "      <td>4</td>\n",
       "      <td>21</td>\n",
       "      <td>154.0</td>\n",
       "      <td>136.0</td>\n",
       "      <td>168.041667</td>\n",
       "    </tr>\n",
       "    <tr>\n",
       "      <th>2018-08-31 22:00:00</th>\n",
       "      <td>223</td>\n",
       "      <td>8</td>\n",
       "      <td>31</td>\n",
       "      <td>4</td>\n",
       "      <td>22</td>\n",
       "      <td>159.0</td>\n",
       "      <td>154.0</td>\n",
       "      <td>166.416667</td>\n",
       "    </tr>\n",
       "    <tr>\n",
       "      <th>2018-08-31 23:00:00</th>\n",
       "      <td>205</td>\n",
       "      <td>8</td>\n",
       "      <td>31</td>\n",
       "      <td>4</td>\n",
       "      <td>23</td>\n",
       "      <td>223.0</td>\n",
       "      <td>159.0</td>\n",
       "      <td>169.125000</td>\n",
       "    </tr>\n",
       "  </tbody>\n",
       "</table>\n",
       "<p>4416 rows × 8 columns</p>\n",
       "</div>"
      ],
      "text/plain": [
       "                     num_orders  month  day  weekday  hour  lag_1  lag_2  \\\n",
       "datetime                                                                   \n",
       "2018-03-01 00:00:00         124      3    1        3     0    NaN    NaN   \n",
       "2018-03-01 01:00:00          85      3    1        3     1  124.0    NaN   \n",
       "2018-03-01 02:00:00          71      3    1        3     2   85.0  124.0   \n",
       "2018-03-01 03:00:00          66      3    1        3     3   71.0   85.0   \n",
       "2018-03-01 04:00:00          43      3    1        3     4   66.0   71.0   \n",
       "...                         ...    ...  ...      ...   ...    ...    ...   \n",
       "2018-08-31 19:00:00         136      8   31        4    19  207.0  217.0   \n",
       "2018-08-31 20:00:00         154      8   31        4    20  136.0  207.0   \n",
       "2018-08-31 21:00:00         159      8   31        4    21  154.0  136.0   \n",
       "2018-08-31 22:00:00         223      8   31        4    22  159.0  154.0   \n",
       "2018-08-31 23:00:00         205      8   31        4    23  223.0  159.0   \n",
       "\n",
       "                         r_mean  \n",
       "datetime                         \n",
       "2018-03-01 00:00:00         NaN  \n",
       "2018-03-01 01:00:00         NaN  \n",
       "2018-03-01 02:00:00         NaN  \n",
       "2018-03-01 03:00:00         NaN  \n",
       "2018-03-01 04:00:00         NaN  \n",
       "...                         ...  \n",
       "2018-08-31 19:00:00  164.875000  \n",
       "2018-08-31 20:00:00  167.541667  \n",
       "2018-08-31 21:00:00  168.041667  \n",
       "2018-08-31 22:00:00  166.416667  \n",
       "2018-08-31 23:00:00  169.125000  \n",
       "\n",
       "[4416 rows x 8 columns]"
      ]
     },
     "execution_count": 23,
     "metadata": {},
     "output_type": "execute_result"
    }
   ],
   "source": [
    "data_features = make_features(data, 2, 24)\n",
    "data_features"
   ]
  },
  {
   "cell_type": "code",
   "execution_count": null,
   "metadata": {
    "id": "74PQLaUMGoOY",
    "outputId": "3bae7991-4f44-4e38-89f2-99f270cb5acf"
   },
   "outputs": [
    {
     "name": "stdout",
     "output_type": "stream",
     "text": [
      "2018-03-02 00:00:00 2018-08-13 13:00:00\n",
      "2018-08-13 14:00:00 2018-08-31 23:00:00\n"
     ]
    }
   ],
   "source": [
    "#Разобью данные на тестовую и обучающую выборки. Выборку разбиваю на обучающую и тестовую в соотношении 90% к 10%.\n",
    "train, test = train_test_split(data_features, shuffle=False, test_size=0.1)\n",
    "train = train.dropna() # Удаляю пропуски\n",
    "test = test.dropna()\n",
    "\n",
    "print(train.index.min(), train.index.max())\n",
    "print(test.index.min(), test.index.max())"
   ]
  },
  {
   "cell_type": "code",
   "execution_count": null,
   "metadata": {
    "id": "eojnT939GoOY"
   },
   "outputs": [],
   "source": [
    "# Выделяю в датасетах фичи и целевой признак\n",
    "features_train = train.drop('num_orders', axis=1)\n",
    "target_train = train['num_orders']\n",
    "features_test = test.drop('num_orders', axis=1)\n",
    "target_test = test['num_orders']"
   ]
  },
  {
   "cell_type": "markdown",
   "metadata": {
    "id": "gGxf-OhtGoOY"
   },
   "source": [
    "**Линейная регрессия**"
   ]
  },
  {
   "cell_type": "markdown",
   "metadata": {
    "id": "B93Is26IGoOZ"
   },
   "source": [
    "Обучу модель линейной регрессии. Для кросс-валидации  использую метод time series split, специальный генератор разбиений для временных рядов."
   ]
  },
  {
   "cell_type": "code",
   "execution_count": null,
   "metadata": {
    "id": "BayUkGH_GoOZ",
    "outputId": "1319aa3a-673b-4b54-cdc8-425a88681c83"
   },
   "outputs": [
    {
     "name": "stdout",
     "output_type": "stream",
     "text": [
      "RMSE модели: 31.18628382178396\n"
     ]
    }
   ],
   "source": [
    "lin_model = LinearRegression()\n",
    "lin_params = {}\n",
    "\n",
    "lm_random= RandomizedSearchCV(lin_model, \n",
    "                           lin_params, \n",
    "                            scoring='neg_root_mean_squared_error', \n",
    "                            random_state=1988, \n",
    "                            cv=TimeSeriesSplit(n_splits=8))\n",
    "\n",
    "lm_random.fit(features_train, target_train)\n",
    "print('RMSE модели:', (rmse_lm_random := abs(lm_random.best_score_)))"
   ]
  },
  {
   "cell_type": "markdown",
   "metadata": {
    "id": "xLVka2TlGoOZ"
   },
   "source": [
    "Получил значение          метрики RMSE на линейной регрессии."
   ]
  },
  {
   "cell_type": "markdown",
   "metadata": {
    "id": "mjiISErTGoOZ"
   },
   "source": [
    "**Решающее дерево**"
   ]
  },
  {
   "cell_type": "markdown",
   "metadata": {
    "id": "4KvF92YDGoOZ"
   },
   "source": [
    "Обучаю модель дерева. ищу оптимальные значения с помощью randomized search."
   ]
  },
  {
   "cell_type": "code",
   "execution_count": null,
   "metadata": {
    "id": "lDT9lcmCGoOZ",
    "outputId": "2adff830-049a-4f26-ad13-e69674cac008"
   },
   "outputs": [
    {
     "name": "stdout",
     "output_type": "stream",
     "text": [
      "RMSE решающего дерева: 28.834619666966653\n"
     ]
    }
   ],
   "source": [
    "tree = DecisionTreeRegressor(random_state=1988)\n",
    "tree_parametrs = {'max_depth': range(2, 100, 10),\n",
    "              'min_samples_split': range(2, 10, 2)}\n",
    "\n",
    "tree_choose = RandomizedSearchCV(tree, \n",
    "                            tree_parametrs, \n",
    "                            scoring='neg_root_mean_squared_error', \n",
    "                            random_state=1988, \n",
    "                            cv=TimeSeriesSplit(n_splits=8))\n",
    "\n",
    "tree_choose.fit(features_train, target_train)\n",
    "print('RMSE решающего дерева:', (rmse_tree_choose := abs(tree_choose.best_score_)))"
   ]
  },
  {
   "cell_type": "markdown",
   "metadata": {
    "id": "uKINiLApGoOZ"
   },
   "source": [
    "**RandomForest**"
   ]
  },
  {
   "cell_type": "code",
   "execution_count": null,
   "metadata": {
    "id": "LkTYbPFKGoOZ",
    "outputId": "4b610121-50c7-471b-8870-7cc3e318c769"
   },
   "outputs": [
    {
     "name": "stdout",
     "output_type": "stream",
     "text": [
      "RMSE случайного леса: 24.57175380987068\n"
     ]
    }
   ],
   "source": [
    "rf = RandomForestRegressor(random_state=1988)\n",
    "\n",
    "rf_parametrs = {'n_estimators': range(50, 200, 20),\n",
    "                'max_depth': range(2, 20, 2),\n",
    "                'max_features': [None, 'sqrt', 'log2']}\n",
    "\n",
    "rf_choose = RandomizedSearchCV(rf, \n",
    "                               rf_parametrs, \n",
    "                               scoring='neg_root_mean_squared_error', \n",
    "                               random_state=1988, \n",
    "                               cv=TimeSeriesSplit(n_splits=8))\n",
    "\n",
    "rf_choose.fit(features_train, target_train)\n",
    "print('RMSE случайного леса:', (rmse_rf_choose := abs(rf_choose.best_score_)))"
   ]
  },
  {
   "cell_type": "markdown",
   "metadata": {
    "id": "a_ZR4p3zGoOa"
   },
   "source": [
    "**CatBoostRegressor**"
   ]
  },
  {
   "cell_type": "code",
   "execution_count": null,
   "metadata": {
    "id": "2h6ZI5l1GoOa",
    "outputId": "30eea2a0-358a-4cd2-ad7f-87cdc1c5d08f"
   },
   "outputs": [
    {
     "name": "stdout",
     "output_type": "stream",
     "text": [
      "RMSE модели CatBoost: 25.900978380790477\n"
     ]
    }
   ],
   "source": [
    "catm = CatBoostRegressor(random_state=1988)\n",
    "\n",
    "catm_parametrs = {'n_estimators': range(25, 100, 10),\n",
    "'max_depth': [10, 15, 25]}\n",
    "\n",
    "catm_choose = RandomizedSearchCV(catm,\n",
    "catm_parametrs,\n",
    "scoring='neg_root_mean_squared_error',\n",
    "random_state=1988,\n",
    "cv=TimeSeriesSplit(n_splits=8))\n",
    "\n",
    "catm_choose.fit(features_train, target_train, verbose=False)\n",
    "\n",
    "print('RMSE модели CatBoost:', (rmse_catm_choose := abs(catm_choose.best_score_)))"
   ]
  },
  {
   "cell_type": "markdown",
   "metadata": {
    "id": "0iZVC8bqGoOa"
   },
   "source": [
    "**Вывод**\n",
    "\n",
    "Обучил несколько моделей - LinearRegression, LightGBMRegressor,Решаюшее дерево, случайный лес . Лучший результат у 'случайного леса'. Далее тестирую лучшую модель на тестовой выборке."
   ]
  },
  {
   "cell_type": "code",
   "execution_count": null,
   "metadata": {
    "id": "kp727csAGoOa",
    "outputId": "db0d6509-7c08-4049-cc5b-35c4317fd29d"
   },
   "outputs": [
    {
     "data": {
      "text/html": [
       "<div>\n",
       "<style scoped>\n",
       "    .dataframe tbody tr th:only-of-type {\n",
       "        vertical-align: middle;\n",
       "    }\n",
       "\n",
       "    .dataframe tbody tr th {\n",
       "        vertical-align: top;\n",
       "    }\n",
       "\n",
       "    .dataframe thead th {\n",
       "        text-align: right;\n",
       "    }\n",
       "</style>\n",
       "<table border=\"1\" class=\"dataframe\">\n",
       "  <thead>\n",
       "    <tr style=\"text-align: right;\">\n",
       "      <th></th>\n",
       "      <th>RMSE</th>\n",
       "    </tr>\n",
       "  </thead>\n",
       "  <tbody>\n",
       "    <tr>\n",
       "      <th>Линейная регрессия</th>\n",
       "      <td>31.186284</td>\n",
       "    </tr>\n",
       "    <tr>\n",
       "      <th>Дерево</th>\n",
       "      <td>28.834620</td>\n",
       "    </tr>\n",
       "    <tr>\n",
       "      <th>catm_choose</th>\n",
       "      <td>25.900978</td>\n",
       "    </tr>\n",
       "    <tr>\n",
       "      <th>случ лес</th>\n",
       "      <td>24.571754</td>\n",
       "    </tr>\n",
       "  </tbody>\n",
       "</table>\n",
       "</div>"
      ],
      "text/plain": [
       "                         RMSE\n",
       "Линейная регрессия  31.186284\n",
       "Дерево              28.834620\n",
       "catm_choose         25.900978\n",
       "случ лес            24.571754"
      ]
     },
     "metadata": {},
     "output_type": "display_data"
    }
   ],
   "source": [
    "from IPython.display import display\n",
    "\n",
    "final_metrics = pd.DataFrame(\n",
    "    data = [rmse_lm_random, rmse_tree_choose, rmse_catm_choose, rmse_rf_choose],\n",
    "    index = ['Линейная регрессия', 'Дерево', 'CatBoost', 'RandomForest'],\n",
    "    columns = ['RMSE']\n",
    ")\n",
    "final_metrics = final_metrics.sort_values(by='RMSE', ascending=False)\n",
    "\n",
    "display(final_metrics)"
   ]
  },
  {
   "cell_type": "markdown",
   "metadata": {
    "id": "Yc-3lQdcGoOa"
   },
   "source": [
    "## Тестирование"
   ]
  },
  {
   "cell_type": "code",
   "execution_count": null,
   "metadata": {
    "id": "6MfjY7bTGoOa",
    "outputId": "f51c1542-0dc2-45ad-fa42-8da1f40fb877"
   },
   "outputs": [
    {
     "name": "stdout",
     "output_type": "stream",
     "text": [
      "RMSE для случайного леса на тестовой выборке =  47.24496933644692\n"
     ]
    }
   ],
   "source": [
    "model = RandomForestRegressor(random_state=1988)\n",
    "model.fit(features_train, target_train)\n",
    "pred_test = model.predict(features_test)\n",
    "RMSE_RF = mean_squared_error(target_test, pred_test )**0.5\n",
    "\n",
    "print('RMSE для случайного леса на тестовой выборке = ', RMSE_RF)"
   ]
  },
  {
   "cell_type": "markdown",
   "metadata": {
    "id": "zhymRd20GoOa"
   },
   "source": [
    "Условие задачи 'Значение метрики RMSE на тестовой выборке должно быть не больше 48' выполнено. Визуализируем предсказанные и целевые значения."
   ]
  },
  {
   "cell_type": "code",
   "execution_count": null,
   "metadata": {
    "id": "7qjx7fzwGoOa"
   },
   "outputs": [],
   "source": [
    "pred_test = pd.DataFrame(data = pred_test, index = target_test.index)"
   ]
  },
  {
   "cell_type": "code",
   "execution_count": null,
   "metadata": {
    "id": "CiWYezFqGoOa"
   },
   "outputs": [],
   "source": [
    "pred_test  = pred_test .rename(columns={0:'num_orders'})"
   ]
  },
  {
   "cell_type": "code",
   "execution_count": null,
   "metadata": {
    "id": "PSB11ta5GoOb",
    "outputId": "3ec1dfca-09f4-4058-9768-449cae944804"
   },
   "outputs": [
    {
     "data": {
      "image/png": "[encoded data removed]",
      "text/plain": [
       "<Figure size 1008x576 with 1 Axes>"
      ]
     },
     "metadata": {
      "needs_background": "light"
     },
     "output_type": "display_data"
    }
   ],
   "source": [
    "plt.figure(figsize=(14,8))\n",
    "sns.lineplot(data=pred_test ['num_orders'], label='Предсказания', color='red')\n",
    "sns.lineplot(data=target_test.to_frame()['num_orders'], label='Реальные значения', color='blue')\n",
    "plt.legend(fontsize=16)\n",
    "plt.ylabel('Число заказов')\n",
    "plt.xlabel('Дата')\n",
    "plt.xticks(fontsize=14, rotation=90)\n",
    "plt.yticks(fontsize=14)\n",
    "plt.title('Графики исходного и предсказанного временных рядов', fontsize=18)\n",
    "plt.gca().spines['right'].set_visible(False)\n",
    "plt.gca().spines['top'].set_visible(False)\n",
    "plt.grid(alpha=0.3)\n",
    "plt.show()"
   ]
  },
  {
   "cell_type": "markdown",
   "metadata": {
    "id": "5nUAoYhjGoOb"
   },
   "source": [
    "**Вывод**\n",
    "\n",
    "модель, которая была обучена на данных с марта по август 2018 года. Согласно предоставленным данным, среднее количество заказов в час составляет 84, виден рост количества заказов . В процессе обучения модели выделял следующие признаки: месяц заказа, день, день недели, час суток, количество заказов за предыдущий час и скользящее среднее . Всего было обучено 4 типа моделей регрессии с указанными признаками. При кросс-валидации лучшей моделью оказался 'случайный лес'. \n",
    "\n",
    "Мы добились результата RMSE меньше 48, на тестировании модель 47,2"
   ]
  },
  {
   "cell_type": "markdown",
   "metadata": {
    "id": "tp_QD6hVGoOb"
   },
   "source": [
    "## Чек-лист проверки"
   ]
  },
  {
   "cell_type": "markdown",
   "metadata": {
    "id": "3g_Xjf-UGoOb"
   },
   "source": [
    "- [x]  Jupyter Notebook открыт\n",
    "- [x]  Весь код выполняется без ошибок\n",
    "- [x]  Ячейки с кодом расположены в порядке исполнения\n",
    "- [x]  Данные загружены и подготовлены\n",
    "- [x]  Данные проанализированы\n",
    "- [x]  Модель обучена, гиперпараметры подобраны\n",
    "- [x]  Качество моделей проверено, выводы сделаны\n",
    "- [x]  Значение *RMSE* на тестовой выборке не больше 48"
   ]
  }
 ],
 "metadata": {
  "ExecuteTimeLog": [
   {
    "duration": 465,
    "start_time": "2023-02-19T17:50:27.062Z"
   },
   {
    "duration": 442,
    "start_time": "2023-02-19T17:54:46.118Z"
   },
   {
    "duration": 182,
    "start_time": "2023-02-19T17:55:12.421Z"
   },
   {
    "duration": 4,
    "start_time": "2023-02-19T17:55:17.640Z"
   },
   {
    "duration": 53,
    "start_time": "2023-02-19T17:55:18.421Z"
   },
   {
    "duration": 12,
    "start_time": "2023-02-19T18:36:38.661Z"
   },
   {
    "duration": 80,
    "start_time": "2023-02-19T18:37:41.760Z"
   },
   {
    "duration": 62,
    "start_time": "2023-02-20T10:29:14.124Z"
   },
   {
    "duration": 2405,
    "start_time": "2023-02-20T10:29:22.890Z"
   },
   {
    "duration": 220,
    "start_time": "2023-02-20T10:29:25.297Z"
   },
   {
    "duration": 14,
    "start_time": "2023-02-20T10:29:25.519Z"
   },
   {
    "duration": 147,
    "start_time": "2023-02-20T10:29:25.535Z"
   },
   {
    "duration": 13,
    "start_time": "2023-02-20T10:30:21.498Z"
   },
   {
    "duration": 12,
    "start_time": "2023-02-20T10:32:07.939Z"
   },
   {
    "duration": 7,
    "start_time": "2023-02-20T10:32:24.027Z"
   },
   {
    "duration": 13,
    "start_time": "2023-02-20T10:33:31.425Z"
   },
   {
    "duration": 14,
    "start_time": "2023-02-20T10:34:48.921Z"
   },
   {
    "duration": 65,
    "start_time": "2023-02-20T10:36:04.470Z"
   },
   {
    "duration": 6,
    "start_time": "2023-02-20T10:36:13.096Z"
   },
   {
    "duration": 7,
    "start_time": "2023-02-20T10:36:20.793Z"
   },
   {
    "duration": 9,
    "start_time": "2023-02-20T10:36:30.382Z"
   },
   {
    "duration": 397,
    "start_time": "2023-02-20T10:47:37.172Z"
   },
   {
    "duration": 13,
    "start_time": "2023-02-20T10:50:10.749Z"
   },
   {
    "duration": 310,
    "start_time": "2023-02-20T10:50:17.050Z"
   },
   {
    "duration": 211,
    "start_time": "2023-02-20T10:51:46.556Z"
   },
   {
    "duration": 254,
    "start_time": "2023-02-20T10:53:31.901Z"
   },
   {
    "duration": 327,
    "start_time": "2023-02-20T11:42:24.581Z"
   },
   {
    "duration": 309,
    "start_time": "2023-02-20T11:42:38.245Z"
   },
   {
    "duration": 290,
    "start_time": "2023-02-20T11:43:45.651Z"
   },
   {
    "duration": 393,
    "start_time": "2023-02-20T11:43:51.811Z"
   },
   {
    "duration": 234,
    "start_time": "2023-02-20T11:45:24.749Z"
   },
   {
    "duration": 231,
    "start_time": "2023-02-20T11:46:48.519Z"
   },
   {
    "duration": 10,
    "start_time": "2023-02-20T13:25:05.104Z"
   },
   {
    "duration": 15,
    "start_time": "2023-02-20T13:25:15.105Z"
   },
   {
    "duration": 27,
    "start_time": "2023-02-20T13:25:42.594Z"
   },
   {
    "duration": 10,
    "start_time": "2023-02-20T13:26:49.910Z"
   },
   {
    "duration": 1564,
    "start_time": "2023-02-20T13:27:19.492Z"
   },
   {
    "duration": 54,
    "start_time": "2023-02-20T13:27:21.058Z"
   },
   {
    "duration": 12,
    "start_time": "2023-02-20T13:27:21.114Z"
   },
   {
    "duration": 25,
    "start_time": "2023-02-20T13:27:21.127Z"
   },
   {
    "duration": 19,
    "start_time": "2023-02-20T13:27:21.154Z"
   },
   {
    "duration": 430,
    "start_time": "2023-02-20T13:27:21.175Z"
   },
   {
    "duration": 289,
    "start_time": "2023-02-20T13:27:21.606Z"
   },
   {
    "duration": 229,
    "start_time": "2023-02-20T13:27:21.903Z"
   },
   {
    "duration": 227,
    "start_time": "2023-02-20T13:27:22.134Z"
   },
   {
    "duration": 345,
    "start_time": "2023-02-20T13:27:22.362Z"
   },
   {
    "duration": 324,
    "start_time": "2023-02-20T13:27:22.709Z"
   },
   {
    "duration": 257,
    "start_time": "2023-02-20T13:27:23.035Z"
   },
   {
    "duration": 236,
    "start_time": "2023-02-20T13:27:23.294Z"
   },
   {
    "duration": 146,
    "start_time": "2023-02-20T13:27:23.533Z"
   },
   {
    "duration": 13,
    "start_time": "2023-02-20T13:28:28.829Z"
   },
   {
    "duration": 369,
    "start_time": "2023-02-20T13:28:29.490Z"
   },
   {
    "duration": 13,
    "start_time": "2023-02-20T13:28:44.893Z"
   },
   {
    "duration": 272,
    "start_time": "2023-02-20T13:28:47.792Z"
   },
   {
    "duration": 262,
    "start_time": "2023-02-20T13:29:31.186Z"
   },
   {
    "duration": 191,
    "start_time": "2023-02-20T13:29:51.148Z"
   },
   {
    "duration": 270,
    "start_time": "2023-02-20T13:31:19.322Z"
   },
   {
    "duration": 262,
    "start_time": "2023-02-20T13:31:40.887Z"
   },
   {
    "duration": 207,
    "start_time": "2023-02-20T13:32:00.507Z"
   },
   {
    "duration": 330,
    "start_time": "2023-02-20T13:32:39.119Z"
   },
   {
    "duration": 352,
    "start_time": "2023-02-20T13:33:04.040Z"
   },
   {
    "duration": 2,
    "start_time": "2023-02-20T13:33:24.597Z"
   },
   {
    "duration": 177,
    "start_time": "2023-02-20T13:33:41.736Z"
   },
   {
    "duration": 2536,
    "start_time": "2023-02-20T15:47:35.080Z"
   },
   {
    "duration": 216,
    "start_time": "2023-02-20T15:47:37.619Z"
   },
   {
    "duration": 12,
    "start_time": "2023-02-20T15:47:37.837Z"
   },
   {
    "duration": 12,
    "start_time": "2023-02-20T15:47:37.851Z"
   },
   {
    "duration": 10,
    "start_time": "2023-02-20T15:47:37.864Z"
   },
   {
    "duration": 351,
    "start_time": "2023-02-20T15:47:37.877Z"
   },
   {
    "duration": 294,
    "start_time": "2023-02-20T15:47:38.229Z"
   },
   {
    "duration": 230,
    "start_time": "2023-02-20T15:47:38.525Z"
   },
   {
    "duration": 226,
    "start_time": "2023-02-20T15:47:38.757Z"
   },
   {
    "duration": 343,
    "start_time": "2023-02-20T15:47:38.987Z"
   },
   {
    "duration": 312,
    "start_time": "2023-02-20T15:47:39.332Z"
   },
   {
    "duration": 236,
    "start_time": "2023-02-20T15:47:39.645Z"
   },
   {
    "duration": 250,
    "start_time": "2023-02-20T15:47:39.891Z"
   },
   {
    "duration": 12,
    "start_time": "2023-02-20T15:47:40.142Z"
   },
   {
    "duration": 372,
    "start_time": "2023-02-20T15:47:40.156Z"
   },
   {
    "duration": 264,
    "start_time": "2023-02-20T15:47:40.530Z"
   },
   {
    "duration": 203,
    "start_time": "2023-02-20T15:47:40.796Z"
   },
   {
    "duration": 322,
    "start_time": "2023-02-20T15:47:41.001Z"
   },
   {
    "duration": 309,
    "start_time": "2023-02-20T15:47:41.325Z"
   },
   {
    "duration": 200,
    "start_time": "2023-02-20T15:47:41.638Z"
   },
   {
    "duration": 5,
    "start_time": "2023-02-20T15:48:56.423Z"
   },
   {
    "duration": 5,
    "start_time": "2023-02-20T15:49:02.464Z"
   },
   {
    "duration": 4,
    "start_time": "2023-02-20T15:49:24.876Z"
   },
   {
    "duration": 5,
    "start_time": "2023-02-20T15:50:35.025Z"
   },
   {
    "duration": 393045,
    "start_time": "2023-02-20T16:34:53.388Z"
   },
   {
    "duration": 152,
    "start_time": "2023-02-20T18:49:14.727Z"
   },
   {
    "duration": 4,
    "start_time": "2023-02-20T18:49:53.712Z"
   },
   {
    "duration": 390980,
    "start_time": "2023-02-20T18:49:54.239Z"
   },
   {
    "duration": 222,
    "start_time": "2023-02-20T18:56:25.220Z"
   },
   {
    "duration": 5,
    "start_time": "2023-02-20T18:58:08.128Z"
   },
   {
    "duration": 61231,
    "start_time": "2023-02-20T18:58:09.041Z"
   },
   {
    "duration": 67,
    "start_time": "2023-02-20T18:59:10.274Z"
   },
   {
    "duration": 2572,
    "start_time": "2023-02-20T19:00:18.466Z"
   },
   {
    "duration": 105,
    "start_time": "2023-02-20T19:00:21.041Z"
   },
   {
    "duration": 55762,
    "start_time": "2023-02-20T19:00:39.272Z"
   },
   {
    "duration": 203,
    "start_time": "2023-02-20T19:01:35.038Z"
   },
   {
    "duration": 56201,
    "start_time": "2023-02-20T19:11:13.018Z"
   },
   {
    "duration": 119,
    "start_time": "2023-02-20T19:12:09.221Z"
   },
   {
    "duration": 56592,
    "start_time": "2023-02-20T19:12:23.565Z"
   },
   {
    "duration": 182,
    "start_time": "2023-02-20T19:13:20.160Z"
   },
   {
    "duration": 179,
    "start_time": "2023-02-20T19:13:50.363Z"
   },
   {
    "duration": 185818,
    "start_time": "2023-02-20T19:32:00.930Z"
   },
   {
    "duration": 160227,
    "start_time": "2023-02-20T19:35:51.017Z"
   },
   {
    "duration": 1164,
    "start_time": "2023-02-20T19:43:26.674Z"
   },
   {
    "duration": 220,
    "start_time": "2023-02-20T19:47:37.119Z"
   },
   {
    "duration": 2241,
    "start_time": "2023-02-24T13:58:58.041Z"
   },
   {
    "duration": 128,
    "start_time": "2023-02-24T13:59:00.284Z"
   },
   {
    "duration": 11,
    "start_time": "2023-02-24T13:59:00.413Z"
   },
   {
    "duration": 24,
    "start_time": "2023-02-24T13:59:00.426Z"
   },
   {
    "duration": 33,
    "start_time": "2023-02-24T13:59:00.451Z"
   },
   {
    "duration": 423,
    "start_time": "2023-02-24T13:59:00.485Z"
   },
   {
    "duration": 249,
    "start_time": "2023-02-24T13:59:00.910Z"
   },
   {
    "duration": 211,
    "start_time": "2023-02-24T13:59:01.160Z"
   },
   {
    "duration": 200,
    "start_time": "2023-02-24T13:59:01.373Z"
   },
   {
    "duration": 337,
    "start_time": "2023-02-24T13:59:01.576Z"
   },
   {
    "duration": 311,
    "start_time": "2023-02-24T13:59:01.916Z"
   },
   {
    "duration": 217,
    "start_time": "2023-02-24T13:59:02.228Z"
   },
   {
    "duration": 232,
    "start_time": "2023-02-24T13:59:02.447Z"
   },
   {
    "duration": 17,
    "start_time": "2023-02-24T13:59:02.681Z"
   },
   {
    "duration": 275,
    "start_time": "2023-02-24T13:59:02.699Z"
   },
   {
    "duration": 314,
    "start_time": "2023-02-24T13:59:02.976Z"
   },
   {
    "duration": 182,
    "start_time": "2023-02-24T13:59:03.292Z"
   },
   {
    "duration": 282,
    "start_time": "2023-02-24T13:59:03.476Z"
   },
   {
    "duration": 278,
    "start_time": "2023-02-24T13:59:03.760Z"
   },
   {
    "duration": 170,
    "start_time": "2023-02-24T13:59:04.039Z"
   },
   {
    "duration": 4,
    "start_time": "2023-02-24T13:59:04.210Z"
   },
   {
    "duration": 53447,
    "start_time": "2023-02-24T13:59:04.216Z"
   },
   {
    "duration": 332,
    "start_time": "2023-02-24T13:59:57.664Z"
   },
   {
    "duration": 1477,
    "start_time": "2023-02-24T14:04:40.714Z"
   },
   {
    "duration": 57,
    "start_time": "2023-02-24T14:04:42.193Z"
   },
   {
    "duration": 10,
    "start_time": "2023-02-24T14:04:42.252Z"
   },
   {
    "duration": 6,
    "start_time": "2023-02-24T14:04:42.264Z"
   },
   {
    "duration": 9,
    "start_time": "2023-02-24T14:04:42.272Z"
   },
   {
    "duration": 366,
    "start_time": "2023-02-24T14:04:42.282Z"
   },
   {
    "duration": 252,
    "start_time": "2023-02-24T14:04:42.650Z"
   },
   {
    "duration": 204,
    "start_time": "2023-02-24T14:04:42.904Z"
   },
   {
    "duration": 199,
    "start_time": "2023-02-24T14:04:43.110Z"
   },
   {
    "duration": 309,
    "start_time": "2023-02-24T14:04:43.312Z"
   },
   {
    "duration": 284,
    "start_time": "2023-02-24T14:04:43.623Z"
   },
   {
    "duration": 228,
    "start_time": "2023-02-24T14:04:43.908Z"
   },
   {
    "duration": 214,
    "start_time": "2023-02-24T14:04:44.137Z"
   },
   {
    "duration": 14,
    "start_time": "2023-02-24T14:04:44.353Z"
   },
   {
    "duration": 260,
    "start_time": "2023-02-24T14:04:44.369Z"
   },
   {
    "duration": 324,
    "start_time": "2023-02-24T14:04:44.631Z"
   },
   {
    "duration": 199,
    "start_time": "2023-02-24T14:04:44.956Z"
   },
   {
    "duration": 288,
    "start_time": "2023-02-24T14:04:45.157Z"
   },
   {
    "duration": 278,
    "start_time": "2023-02-24T14:04:45.447Z"
   },
   {
    "duration": 182,
    "start_time": "2023-02-24T14:04:45.727Z"
   },
   {
    "duration": 4,
    "start_time": "2023-02-24T14:04:45.910Z"
   },
   {
    "duration": 53827,
    "start_time": "2023-02-24T14:04:45.915Z"
   },
   {
    "duration": 50,
    "start_time": "2023-02-24T14:05:39.744Z"
   },
   {
    "duration": 1494399,
    "start_time": "2023-02-24T14:05:39.796Z"
   },
   {
    "duration": 298,
    "start_time": "2023-02-24T14:30:34.197Z"
   },
   {
    "duration": 1728,
    "start_time": "2023-02-24T16:32:16.372Z"
   },
   {
    "duration": 72,
    "start_time": "2023-02-24T16:32:18.104Z"
   },
   {
    "duration": 14,
    "start_time": "2023-02-24T16:32:18.179Z"
   },
   {
    "duration": 6,
    "start_time": "2023-02-24T16:32:18.195Z"
   },
   {
    "duration": 15,
    "start_time": "2023-02-24T16:32:18.202Z"
   },
   {
    "duration": 453,
    "start_time": "2023-02-24T16:32:18.219Z"
   },
   {
    "duration": 289,
    "start_time": "2023-02-24T16:32:18.674Z"
   },
   {
    "duration": 226,
    "start_time": "2023-02-24T16:32:18.965Z"
   },
   {
    "duration": 212,
    "start_time": "2023-02-24T16:32:19.194Z"
   },
   {
    "duration": 348,
    "start_time": "2023-02-24T16:32:19.409Z"
   },
   {
    "duration": 313,
    "start_time": "2023-02-24T16:32:19.759Z"
   },
   {
    "duration": 245,
    "start_time": "2023-02-24T16:32:20.074Z"
   },
   {
    "duration": 241,
    "start_time": "2023-02-24T16:32:20.322Z"
   },
   {
    "duration": 26,
    "start_time": "2023-02-24T16:32:20.565Z"
   },
   {
    "duration": 270,
    "start_time": "2023-02-24T16:32:20.593Z"
   },
   {
    "duration": 355,
    "start_time": "2023-02-24T16:32:20.865Z"
   },
   {
    "duration": 232,
    "start_time": "2023-02-24T16:32:21.222Z"
   },
   {
    "duration": 304,
    "start_time": "2023-02-24T16:32:21.456Z"
   },
   {
    "duration": 342,
    "start_time": "2023-02-24T16:32:21.762Z"
   },
   {
    "duration": 207,
    "start_time": "2023-02-24T16:32:22.105Z"
   },
   {
    "duration": 5,
    "start_time": "2023-02-24T16:32:22.314Z"
   },
   {
    "duration": 56662,
    "start_time": "2023-02-24T16:32:22.321Z"
   },
   {
    "duration": 210,
    "start_time": "2023-02-24T16:33:18.985Z"
   },
   {
    "duration": 1543,
    "start_time": "2023-02-24T17:02:59.510Z"
   },
   {
    "duration": 61,
    "start_time": "2023-02-24T17:03:01.055Z"
   },
   {
    "duration": 10,
    "start_time": "2023-02-24T17:03:01.118Z"
   },
   {
    "duration": 11,
    "start_time": "2023-02-24T17:03:01.130Z"
   },
   {
    "duration": 17,
    "start_time": "2023-02-24T17:03:01.143Z"
   },
   {
    "duration": 414,
    "start_time": "2023-02-24T17:03:01.162Z"
   },
   {
    "duration": 290,
    "start_time": "2023-02-24T17:03:01.578Z"
   },
   {
    "duration": 244,
    "start_time": "2023-02-24T17:03:01.870Z"
   },
   {
    "duration": 225,
    "start_time": "2023-02-24T17:03:02.116Z"
   },
   {
    "duration": 345,
    "start_time": "2023-02-24T17:03:02.344Z"
   },
   {
    "duration": 330,
    "start_time": "2023-02-24T17:03:02.691Z"
   },
   {
    "duration": 252,
    "start_time": "2023-02-24T17:03:03.023Z"
   },
   {
    "duration": 252,
    "start_time": "2023-02-24T17:03:03.276Z"
   },
   {
    "duration": 16,
    "start_time": "2023-02-24T17:03:03.531Z"
   },
   {
    "duration": 340,
    "start_time": "2023-02-24T17:03:03.549Z"
   },
   {
    "duration": 359,
    "start_time": "2023-02-24T17:03:03.893Z"
   },
   {
    "duration": 211,
    "start_time": "2023-02-24T17:03:04.253Z"
   },
   {
    "duration": 339,
    "start_time": "2023-02-24T17:03:04.466Z"
   },
   {
    "duration": 307,
    "start_time": "2023-02-24T17:03:04.808Z"
   },
   {
    "duration": 239,
    "start_time": "2023-02-24T17:03:05.116Z"
   },
   {
    "duration": 4,
    "start_time": "2023-02-24T17:03:05.357Z"
   },
   {
    "duration": 57833,
    "start_time": "2023-02-24T17:03:05.363Z"
   },
   {
    "duration": 201,
    "start_time": "2023-02-24T17:04:03.201Z"
   },
   {
    "duration": 1470,
    "start_time": "2023-02-24T18:32:26.614Z"
   },
   {
    "duration": 54,
    "start_time": "2023-02-24T18:32:28.086Z"
   },
   {
    "duration": 11,
    "start_time": "2023-02-24T18:32:28.142Z"
   },
   {
    "duration": 8,
    "start_time": "2023-02-24T18:32:28.154Z"
   },
   {
    "duration": 9,
    "start_time": "2023-02-24T18:32:28.164Z"
   },
   {
    "duration": 385,
    "start_time": "2023-02-24T18:32:28.175Z"
   },
   {
    "duration": 254,
    "start_time": "2023-02-24T18:32:28.562Z"
   },
   {
    "duration": 209,
    "start_time": "2023-02-24T18:32:28.818Z"
   },
   {
    "duration": 200,
    "start_time": "2023-02-24T18:32:29.029Z"
   },
   {
    "duration": 322,
    "start_time": "2023-02-24T18:32:29.231Z"
   },
   {
    "duration": 280,
    "start_time": "2023-02-24T18:32:29.555Z"
   },
   {
    "duration": 230,
    "start_time": "2023-02-24T18:32:29.837Z"
   },
   {
    "duration": 225,
    "start_time": "2023-02-24T18:32:30.069Z"
   },
   {
    "duration": 12,
    "start_time": "2023-02-24T18:32:30.297Z"
   },
   {
    "duration": 265,
    "start_time": "2023-02-24T18:32:30.311Z"
   },
   {
    "duration": 332,
    "start_time": "2023-02-24T18:32:30.578Z"
   },
   {
    "duration": 188,
    "start_time": "2023-02-24T18:32:30.912Z"
   },
   {
    "duration": 294,
    "start_time": "2023-02-24T18:32:31.101Z"
   },
   {
    "duration": 280,
    "start_time": "2023-02-24T18:32:31.396Z"
   },
   {
    "duration": 187,
    "start_time": "2023-02-24T18:32:31.678Z"
   },
   {
    "duration": 4,
    "start_time": "2023-02-24T18:32:31.868Z"
   },
   {
    "duration": 52869,
    "start_time": "2023-02-24T18:32:31.874Z"
   },
   {
    "duration": 255,
    "start_time": "2023-02-24T18:33:24.744Z"
   },
   {
    "duration": 1500,
    "start_time": "2023-02-24T19:05:05.718Z"
   },
   {
    "duration": 53,
    "start_time": "2023-02-24T19:05:07.220Z"
   },
   {
    "duration": 12,
    "start_time": "2023-02-24T19:05:07.275Z"
   },
   {
    "duration": 19,
    "start_time": "2023-02-24T19:05:07.288Z"
   },
   {
    "duration": 20,
    "start_time": "2023-02-24T19:05:07.308Z"
   },
   {
    "duration": 375,
    "start_time": "2023-02-24T19:05:07.329Z"
   },
   {
    "duration": 270,
    "start_time": "2023-02-24T19:05:07.706Z"
   },
   {
    "duration": 209,
    "start_time": "2023-02-24T19:05:07.978Z"
   },
   {
    "duration": 194,
    "start_time": "2023-02-24T19:05:08.191Z"
   },
   {
    "duration": 322,
    "start_time": "2023-02-24T19:05:08.390Z"
   },
   {
    "duration": 277,
    "start_time": "2023-02-24T19:05:08.714Z"
   },
   {
    "duration": 218,
    "start_time": "2023-02-24T19:05:08.993Z"
   },
   {
    "duration": 216,
    "start_time": "2023-02-24T19:05:09.213Z"
   },
   {
    "duration": 13,
    "start_time": "2023-02-24T19:05:09.431Z"
   },
   {
    "duration": 251,
    "start_time": "2023-02-24T19:05:09.446Z"
   },
   {
    "duration": 343,
    "start_time": "2023-02-24T19:05:09.700Z"
   },
   {
    "duration": 184,
    "start_time": "2023-02-24T19:05:10.045Z"
   },
   {
    "duration": 290,
    "start_time": "2023-02-24T19:05:10.231Z"
   },
   {
    "duration": 269,
    "start_time": "2023-02-24T19:05:10.522Z"
   },
   {
    "duration": 169,
    "start_time": "2023-02-24T19:05:10.793Z"
   },
   {
    "duration": 4,
    "start_time": "2023-02-24T19:05:10.964Z"
   },
   {
    "duration": 52974,
    "start_time": "2023-02-24T19:05:10.969Z"
   },
   {
    "duration": 250,
    "start_time": "2023-02-24T19:06:03.945Z"
   },
   {
    "duration": 0,
    "start_time": "2023-02-24T19:11:04.230Z"
   },
   {
    "duration": 0,
    "start_time": "2023-02-24T19:11:04.232Z"
   },
   {
    "duration": 0,
    "start_time": "2023-02-24T19:11:04.232Z"
   },
   {
    "duration": 1539,
    "start_time": "2023-02-24T19:33:49.598Z"
   },
   {
    "duration": 57,
    "start_time": "2023-02-24T19:33:51.139Z"
   },
   {
    "duration": 11,
    "start_time": "2023-02-24T19:33:51.198Z"
   },
   {
    "duration": 5,
    "start_time": "2023-02-24T19:33:51.211Z"
   },
   {
    "duration": 11,
    "start_time": "2023-02-24T19:33:51.218Z"
   },
   {
    "duration": 410,
    "start_time": "2023-02-24T19:33:51.230Z"
   },
   {
    "duration": 271,
    "start_time": "2023-02-24T19:33:51.642Z"
   },
   {
    "duration": 210,
    "start_time": "2023-02-24T19:33:51.915Z"
   },
   {
    "duration": 203,
    "start_time": "2023-02-24T19:33:52.127Z"
   },
   {
    "duration": 305,
    "start_time": "2023-02-24T19:33:52.333Z"
   },
   {
    "duration": 284,
    "start_time": "2023-02-24T19:33:52.640Z"
   },
   {
    "duration": 232,
    "start_time": "2023-02-24T19:33:52.926Z"
   },
   {
    "duration": 224,
    "start_time": "2023-02-24T19:33:53.159Z"
   },
   {
    "duration": 17,
    "start_time": "2023-02-24T19:33:53.385Z"
   },
   {
    "duration": 252,
    "start_time": "2023-02-24T19:33:53.404Z"
   },
   {
    "duration": 354,
    "start_time": "2023-02-24T19:33:53.658Z"
   },
   {
    "duration": 190,
    "start_time": "2023-02-24T19:33:54.014Z"
   },
   {
    "duration": 303,
    "start_time": "2023-02-24T19:33:54.206Z"
   },
   {
    "duration": 271,
    "start_time": "2023-02-24T19:33:54.510Z"
   },
   {
    "duration": 185,
    "start_time": "2023-02-24T19:33:54.783Z"
   },
   {
    "duration": 5,
    "start_time": "2023-02-24T19:33:54.970Z"
   },
   {
    "duration": 55354,
    "start_time": "2023-02-24T19:33:54.976Z"
   },
   {
    "duration": 159,
    "start_time": "2023-02-24T19:34:50.332Z"
   },
   {
    "duration": 5002205,
    "start_time": "2023-02-24T19:34:50.493Z"
   },
   {
    "duration": 192,
    "start_time": "2023-02-24T20:58:12.700Z"
   },
   {
    "duration": 0,
    "start_time": "2023-02-24T20:58:12.894Z"
   },
   {
    "duration": 4,
    "start_time": "2023-02-24T20:59:54.992Z"
   },
   {
    "duration": 12,
    "start_time": "2023-02-24T21:11:00.971Z"
   },
   {
    "duration": 11,
    "start_time": "2023-02-24T21:11:36.824Z"
   },
   {
    "duration": 11,
    "start_time": "2023-02-24T21:11:59.650Z"
   },
   {
    "duration": 15,
    "start_time": "2023-02-24T21:13:23.493Z"
   },
   {
    "duration": 12,
    "start_time": "2023-02-24T21:13:41.329Z"
   },
   {
    "duration": 11,
    "start_time": "2023-02-24T21:24:27.820Z"
   },
   {
    "duration": 11,
    "start_time": "2023-02-24T21:24:38.141Z"
   },
   {
    "duration": 1083795,
    "start_time": "2023-02-24T22:26:25.900Z"
   },
   {
    "duration": 3,
    "start_time": "2023-02-24T22:59:22.586Z"
   },
   {
    "duration": 4,
    "start_time": "2023-02-24T22:59:48.678Z"
   },
   {
    "duration": 781539,
    "start_time": "2023-02-24T23:01:36.761Z"
   },
   {
    "duration": 4,
    "start_time": "2023-02-24T23:14:38.303Z"
   },
   {
    "duration": 7,
    "start_time": "2023-02-24T23:14:38.308Z"
   },
   {
    "duration": 179,
    "start_time": "2023-02-24T23:14:38.317Z"
   },
   {
    "duration": 3,
    "start_time": "2023-02-24T23:16:35.094Z"
   },
   {
    "duration": 1472,
    "start_time": "2023-02-24T23:16:45.139Z"
   },
   {
    "duration": 126,
    "start_time": "2023-02-24T23:16:46.612Z"
   },
   {
    "duration": 10,
    "start_time": "2023-02-24T23:16:46.740Z"
   },
   {
    "duration": 14,
    "start_time": "2023-02-24T23:16:46.752Z"
   },
   {
    "duration": 13,
    "start_time": "2023-02-24T23:16:46.768Z"
   },
   {
    "duration": 371,
    "start_time": "2023-02-24T23:16:46.782Z"
   },
   {
    "duration": 250,
    "start_time": "2023-02-24T23:16:47.155Z"
   },
   {
    "duration": 200,
    "start_time": "2023-02-24T23:16:47.406Z"
   },
   {
    "duration": 190,
    "start_time": "2023-02-24T23:16:47.608Z"
   },
   {
    "duration": 298,
    "start_time": "2023-02-24T23:16:47.800Z"
   },
   {
    "duration": 268,
    "start_time": "2023-02-24T23:16:48.100Z"
   },
   {
    "duration": 230,
    "start_time": "2023-02-24T23:16:48.370Z"
   },
   {
    "duration": 221,
    "start_time": "2023-02-24T23:16:48.602Z"
   },
   {
    "duration": 13,
    "start_time": "2023-02-24T23:16:48.827Z"
   },
   {
    "duration": 244,
    "start_time": "2023-02-24T23:16:48.842Z"
   },
   {
    "duration": 305,
    "start_time": "2023-02-24T23:16:49.091Z"
   },
   {
    "duration": 180,
    "start_time": "2023-02-24T23:16:49.398Z"
   },
   {
    "duration": 281,
    "start_time": "2023-02-24T23:16:49.580Z"
   },
   {
    "duration": 274,
    "start_time": "2023-02-24T23:16:49.863Z"
   },
   {
    "duration": 168,
    "start_time": "2023-02-24T23:16:50.139Z"
   },
   {
    "duration": 5,
    "start_time": "2023-02-24T23:16:50.309Z"
   },
   {
    "duration": 50533,
    "start_time": "2023-02-24T23:16:50.315Z"
   },
   {
    "duration": 51,
    "start_time": "2023-02-24T23:17:40.849Z"
   },
   {
    "duration": 102,
    "start_time": "2023-02-24T23:17:40.993Z"
   },
   {
    "duration": 549604,
    "start_time": "2023-02-24T23:17:41.097Z"
   },
   {
    "duration": 3,
    "start_time": "2023-02-24T23:26:50.705Z"
   },
   {
    "duration": 6,
    "start_time": "2023-02-24T23:26:50.710Z"
   },
   {
    "duration": 177,
    "start_time": "2023-02-24T23:26:50.717Z"
   },
   {
    "duration": 1479,
    "start_time": "2023-02-24T23:29:52.508Z"
   },
   {
    "duration": 57,
    "start_time": "2023-02-24T23:29:53.988Z"
   },
   {
    "duration": 10,
    "start_time": "2023-02-24T23:29:54.047Z"
   },
   {
    "duration": 14,
    "start_time": "2023-02-24T23:29:54.059Z"
   },
   {
    "duration": 23,
    "start_time": "2023-02-24T23:29:54.075Z"
   },
   {
    "duration": 381,
    "start_time": "2023-02-24T23:29:54.099Z"
   },
   {
    "duration": 251,
    "start_time": "2023-02-24T23:29:54.482Z"
   },
   {
    "duration": 191,
    "start_time": "2023-02-24T23:29:54.734Z"
   },
   {
    "duration": 196,
    "start_time": "2023-02-24T23:29:54.926Z"
   },
   {
    "duration": 297,
    "start_time": "2023-02-24T23:29:55.124Z"
   },
   {
    "duration": 274,
    "start_time": "2023-02-24T23:29:55.422Z"
   },
   {
    "duration": 227,
    "start_time": "2023-02-24T23:29:55.697Z"
   },
   {
    "duration": 218,
    "start_time": "2023-02-24T23:29:55.926Z"
   },
   {
    "duration": 12,
    "start_time": "2023-02-24T23:29:56.147Z"
   },
   {
    "duration": 317,
    "start_time": "2023-02-24T23:29:56.161Z"
   },
   {
    "duration": 327,
    "start_time": "2023-02-24T23:29:56.480Z"
   },
   {
    "duration": 176,
    "start_time": "2023-02-24T23:29:56.808Z"
   },
   {
    "duration": 285,
    "start_time": "2023-02-24T23:29:56.986Z"
   },
   {
    "duration": 275,
    "start_time": "2023-02-24T23:29:57.273Z"
   },
   {
    "duration": 171,
    "start_time": "2023-02-24T23:29:57.550Z"
   },
   {
    "duration": 4,
    "start_time": "2023-02-24T23:29:57.723Z"
   },
   {
    "duration": 51199,
    "start_time": "2023-02-24T23:29:57.728Z"
   },
   {
    "duration": 163,
    "start_time": "2023-02-24T23:30:48.929Z"
   },
   {
    "duration": 3,
    "start_time": "2023-02-24T23:30:49.094Z"
   },
   {
    "duration": 6,
    "start_time": "2023-02-24T23:38:21.794Z"
   },
   {
    "duration": 4,
    "start_time": "2023-02-24T23:38:21.801Z"
   },
   {
    "duration": 95,
    "start_time": "2023-02-24T23:38:21.807Z"
   },
   {
    "duration": 110605,
    "start_time": "2023-02-24T23:38:22.090Z"
   },
   {
    "duration": 4,
    "start_time": "2023-02-24T23:40:12.697Z"
   },
   {
    "duration": 6,
    "start_time": "2023-02-24T23:40:12.702Z"
   },
   {
    "duration": 183,
    "start_time": "2023-02-24T23:40:12.710Z"
   },
   {
    "duration": 112453,
    "start_time": "2023-02-24T23:42:46.944Z"
   },
   {
    "duration": 3,
    "start_time": "2023-02-24T23:44:39.399Z"
   },
   {
    "duration": 2650,
    "start_time": "2023-02-25T17:07:08.358Z"
   },
   {
    "duration": 156,
    "start_time": "2023-02-25T17:07:11.010Z"
   },
   {
    "duration": 11,
    "start_time": "2023-02-25T17:07:11.168Z"
   },
   {
    "duration": 5,
    "start_time": "2023-02-25T17:07:11.181Z"
   },
   {
    "duration": 10,
    "start_time": "2023-02-25T17:07:11.188Z"
   },
   {
    "duration": 416,
    "start_time": "2023-02-25T17:07:11.199Z"
   },
   {
    "duration": 307,
    "start_time": "2023-02-25T17:07:11.617Z"
   },
   {
    "duration": 222,
    "start_time": "2023-02-25T17:07:11.926Z"
   },
   {
    "duration": 225,
    "start_time": "2023-02-25T17:07:12.150Z"
   },
   {
    "duration": 340,
    "start_time": "2023-02-25T17:07:12.378Z"
   },
   {
    "duration": 309,
    "start_time": "2023-02-25T17:07:12.726Z"
   },
   {
    "duration": 245,
    "start_time": "2023-02-25T17:07:13.037Z"
   },
   {
    "duration": 229,
    "start_time": "2023-02-25T17:07:13.284Z"
   },
   {
    "duration": 21,
    "start_time": "2023-02-25T17:07:13.515Z"
   },
   {
    "duration": 354,
    "start_time": "2023-02-25T17:07:13.538Z"
   },
   {
    "duration": 258,
    "start_time": "2023-02-25T17:07:13.893Z"
   },
   {
    "duration": 202,
    "start_time": "2023-02-25T17:07:14.153Z"
   },
   {
    "duration": 315,
    "start_time": "2023-02-25T17:07:14.356Z"
   },
   {
    "duration": 296,
    "start_time": "2023-02-25T17:07:14.673Z"
   },
   {
    "duration": 195,
    "start_time": "2023-02-25T17:07:14.971Z"
   },
   {
    "duration": 5,
    "start_time": "2023-02-25T17:07:15.168Z"
   },
   {
    "duration": 7,
    "start_time": "2023-02-25T17:07:15.174Z"
   },
   {
    "duration": 144,
    "start_time": "2023-02-25T17:07:15.183Z"
   },
   {
    "duration": 0,
    "start_time": "2023-02-25T17:07:15.329Z"
   },
   {
    "duration": 0,
    "start_time": "2023-02-25T17:07:15.330Z"
   },
   {
    "duration": 0,
    "start_time": "2023-02-25T17:07:15.331Z"
   },
   {
    "duration": 58,
    "start_time": "2023-02-25T17:15:33.106Z"
   },
   {
    "duration": 11,
    "start_time": "2023-02-25T17:15:51.491Z"
   },
   {
    "duration": 54,
    "start_time": "2023-02-25T17:15:55.891Z"
   },
   {
    "duration": 5,
    "start_time": "2023-02-25T17:17:40.403Z"
   },
   {
    "duration": 14,
    "start_time": "2023-02-25T17:17:44.033Z"
   },
   {
    "duration": 5,
    "start_time": "2023-02-25T17:18:05.224Z"
   },
   {
    "duration": 52,
    "start_time": "2023-02-25T17:18:06.514Z"
   },
   {
    "duration": 2,
    "start_time": "2023-02-25T17:18:15.732Z"
   },
   {
    "duration": 7,
    "start_time": "2023-02-25T17:18:46.586Z"
   },
   {
    "duration": 6,
    "start_time": "2023-02-25T17:19:09.636Z"
   },
   {
    "duration": 2,
    "start_time": "2023-02-25T17:19:49.798Z"
   },
   {
    "duration": 15,
    "start_time": "2023-02-25T17:20:47.861Z"
   },
   {
    "duration": 9,
    "start_time": "2023-02-25T17:20:58.416Z"
   },
   {
    "duration": 40,
    "start_time": "2023-02-25T17:23:04.042Z"
   },
   {
    "duration": 5,
    "start_time": "2023-02-25T17:23:47.244Z"
   },
   {
    "duration": 2,
    "start_time": "2023-02-25T17:23:49.104Z"
   },
   {
    "duration": 13,
    "start_time": "2023-02-25T17:23:50.252Z"
   },
   {
    "duration": 4,
    "start_time": "2023-02-25T17:23:50.912Z"
   },
   {
    "duration": 3,
    "start_time": "2023-02-25T17:23:53.563Z"
   },
   {
    "duration": 2,
    "start_time": "2023-02-25T17:23:55.115Z"
   },
   {
    "duration": 9,
    "start_time": "2023-02-25T17:23:55.797Z"
   },
   {
    "duration": 4,
    "start_time": "2023-02-25T17:34:05.528Z"
   },
   {
    "duration": 3,
    "start_time": "2023-02-25T17:34:06.574Z"
   },
   {
    "duration": 4,
    "start_time": "2023-02-25T17:34:11.876Z"
   },
   {
    "duration": 2,
    "start_time": "2023-02-25T17:34:12.600Z"
   },
   {
    "duration": 6,
    "start_time": "2023-02-25T17:34:13.672Z"
   },
   {
    "duration": 5,
    "start_time": "2023-02-25T17:34:14.355Z"
   },
   {
    "duration": 3,
    "start_time": "2023-02-25T17:34:15.536Z"
   },
   {
    "duration": 3,
    "start_time": "2023-02-25T17:34:17.207Z"
   },
   {
    "duration": 11,
    "start_time": "2023-02-25T17:34:17.769Z"
   },
   {
    "duration": 3,
    "start_time": "2023-02-25T17:34:46.480Z"
   },
   {
    "duration": 25,
    "start_time": "2023-02-25T17:34:46.989Z"
   },
   {
    "duration": 79338,
    "start_time": "2023-02-25T17:35:49.202Z"
   },
   {
    "duration": 11,
    "start_time": "2023-02-25T17:38:46.177Z"
   },
   {
    "duration": 16,
    "start_time": "2023-02-25T17:40:57.744Z"
   },
   {
    "duration": 50,
    "start_time": "2023-02-25T17:42:10.678Z"
   },
   {
    "duration": 3,
    "start_time": "2023-02-25T17:42:36.632Z"
   },
   {
    "duration": 3,
    "start_time": "2023-02-25T17:43:26.795Z"
   },
   {
    "duration": 79844,
    "start_time": "2023-02-25T17:43:43.989Z"
   },
   {
    "duration": 135941,
    "start_time": "2023-02-25T17:47:24.998Z"
   },
   {
    "duration": 4,
    "start_time": "2023-02-25T17:56:59.674Z"
   },
   {
    "duration": 2,
    "start_time": "2023-02-25T17:57:01.110Z"
   },
   {
    "duration": 7,
    "start_time": "2023-02-25T17:57:02.252Z"
   },
   {
    "duration": 5,
    "start_time": "2023-02-25T17:57:02.966Z"
   },
   {
    "duration": 3,
    "start_time": "2023-02-25T17:57:04.242Z"
   },
   {
    "duration": 3,
    "start_time": "2023-02-25T17:57:06.310Z"
   },
   {
    "duration": 10,
    "start_time": "2023-02-25T17:57:11.926Z"
   },
   {
    "duration": 89538,
    "start_time": "2023-02-25T17:57:19.898Z"
   },
   {
    "duration": 12,
    "start_time": "2023-02-25T17:59:11.262Z"
   },
   {
    "duration": 12,
    "start_time": "2023-02-25T17:59:32.700Z"
   },
   {
    "duration": 0,
    "start_time": "2023-02-25T18:06:51.146Z"
   },
   {
    "duration": 698,
    "start_time": "2023-02-25T19:00:43.739Z"
   },
   {
    "duration": 714,
    "start_time": "2023-02-25T19:01:07.152Z"
   },
   {
    "duration": 315,
    "start_time": "2023-02-25T19:01:55.929Z"
   },
   {
    "duration": 304,
    "start_time": "2023-02-25T19:03:00.839Z"
   },
   {
    "duration": 14,
    "start_time": "2023-02-25T19:04:35.080Z"
   },
   {
    "duration": 244300,
    "start_time": "2023-02-25T19:06:03.440Z"
   },
   {
    "duration": 93,
    "start_time": "2023-02-25T19:10:07.744Z"
   },
   {
    "duration": 1796,
    "start_time": "2023-02-25T22:22:12.656Z"
   },
   {
    "duration": 51,
    "start_time": "2023-02-25T22:22:14.454Z"
   },
   {
    "duration": 11,
    "start_time": "2023-02-25T22:22:14.507Z"
   },
   {
    "duration": 7,
    "start_time": "2023-02-25T22:22:14.520Z"
   },
   {
    "duration": 24,
    "start_time": "2023-02-25T22:22:14.529Z"
   },
   {
    "duration": 425,
    "start_time": "2023-02-25T22:22:14.554Z"
   },
   {
    "duration": 285,
    "start_time": "2023-02-25T22:22:14.981Z"
   },
   {
    "duration": 222,
    "start_time": "2023-02-25T22:22:15.268Z"
   },
   {
    "duration": 220,
    "start_time": "2023-02-25T22:22:15.492Z"
   },
   {
    "duration": 341,
    "start_time": "2023-02-25T22:22:15.715Z"
   },
   {
    "duration": 310,
    "start_time": "2023-02-25T22:22:16.058Z"
   },
   {
    "duration": 249,
    "start_time": "2023-02-25T22:22:16.370Z"
   },
   {
    "duration": 236,
    "start_time": "2023-02-25T22:22:16.620Z"
   },
   {
    "duration": 13,
    "start_time": "2023-02-25T22:22:16.858Z"
   },
   {
    "duration": 292,
    "start_time": "2023-02-25T22:22:16.872Z"
   },
   {
    "duration": 383,
    "start_time": "2023-02-25T22:22:17.166Z"
   },
   {
    "duration": 196,
    "start_time": "2023-02-25T22:22:17.551Z"
   },
   {
    "duration": 425,
    "start_time": "2023-02-25T22:22:17.749Z"
   },
   {
    "duration": 314,
    "start_time": "2023-02-25T22:22:18.175Z"
   },
   {
    "duration": 193,
    "start_time": "2023-02-25T22:22:18.491Z"
   },
   {
    "duration": 4,
    "start_time": "2023-02-25T22:22:18.687Z"
   },
   {
    "duration": 8,
    "start_time": "2023-02-25T22:22:18.693Z"
   },
   {
    "duration": 29,
    "start_time": "2023-02-25T22:22:18.702Z"
   },
   {
    "duration": 17,
    "start_time": "2023-02-25T22:22:18.733Z"
   },
   {
    "duration": 6,
    "start_time": "2023-02-25T22:22:18.751Z"
   },
   {
    "duration": 9,
    "start_time": "2023-02-25T22:22:18.758Z"
   },
   {
    "duration": 12,
    "start_time": "2023-02-25T22:22:18.768Z"
   },
   {
    "duration": 148,
    "start_time": "2023-02-25T22:22:18.783Z"
   },
   {
    "duration": 0,
    "start_time": "2023-02-25T22:22:18.933Z"
   },
   {
    "duration": 0,
    "start_time": "2023-02-25T22:22:18.935Z"
   },
   {
    "duration": 1867,
    "start_time": "2023-02-26T19:48:22.169Z"
   },
   {
    "duration": 406,
    "start_time": "2023-02-26T19:48:24.038Z"
   },
   {
    "duration": 14,
    "start_time": "2023-02-26T19:48:24.445Z"
   },
   {
    "duration": 6,
    "start_time": "2023-02-26T19:48:24.461Z"
   },
   {
    "duration": 13,
    "start_time": "2023-02-26T19:48:24.468Z"
   },
   {
    "duration": 422,
    "start_time": "2023-02-26T19:48:24.483Z"
   },
   {
    "duration": 327,
    "start_time": "2023-02-26T19:48:24.910Z"
   },
   {
    "duration": 258,
    "start_time": "2023-02-26T19:48:25.239Z"
   },
   {
    "duration": 274,
    "start_time": "2023-02-26T19:48:25.499Z"
   },
   {
    "duration": 415,
    "start_time": "2023-02-26T19:48:25.776Z"
   },
   {
    "duration": 323,
    "start_time": "2023-02-26T19:48:26.194Z"
   },
   {
    "duration": 277,
    "start_time": "2023-02-26T19:48:26.519Z"
   },
   {
    "duration": 244,
    "start_time": "2023-02-26T19:48:26.797Z"
   },
   {
    "duration": 14,
    "start_time": "2023-02-26T19:48:27.042Z"
   },
   {
    "duration": 371,
    "start_time": "2023-02-26T19:48:27.058Z"
   },
   {
    "duration": 292,
    "start_time": "2023-02-26T19:48:27.431Z"
   },
   {
    "duration": 205,
    "start_time": "2023-02-26T19:48:27.727Z"
   },
   {
    "duration": 326,
    "start_time": "2023-02-26T19:48:27.933Z"
   },
   {
    "duration": 314,
    "start_time": "2023-02-26T19:48:28.261Z"
   },
   {
    "duration": 197,
    "start_time": "2023-02-26T19:48:28.576Z"
   },
   {
    "duration": 18,
    "start_time": "2023-02-26T19:48:28.775Z"
   },
   {
    "duration": 53,
    "start_time": "2023-02-26T19:48:28.799Z"
   },
   {
    "duration": 13,
    "start_time": "2023-02-26T19:48:28.854Z"
   },
   {
    "duration": 6,
    "start_time": "2023-02-26T19:48:28.869Z"
   },
   {
    "duration": 4,
    "start_time": "2023-02-26T19:48:28.877Z"
   },
   {
    "duration": 47,
    "start_time": "2023-02-26T19:48:28.883Z"
   },
   {
    "duration": 25,
    "start_time": "2023-02-26T19:48:28.932Z"
   },
   {
    "duration": 188,
    "start_time": "2023-02-26T19:48:28.961Z"
   },
   {
    "duration": 1,
    "start_time": "2023-02-26T19:48:29.151Z"
   },
   {
    "duration": 0,
    "start_time": "2023-02-26T19:48:29.154Z"
   },
   {
    "duration": 5,
    "start_time": "2023-02-26T20:46:33.072Z"
   },
   {
    "duration": 7,
    "start_time": "2023-02-26T20:46:33.700Z"
   },
   {
    "duration": 11,
    "start_time": "2023-02-26T20:46:34.581Z"
   },
   {
    "duration": 5,
    "start_time": "2023-02-26T20:46:35.212Z"
   },
   {
    "duration": 3,
    "start_time": "2023-02-26T20:46:36.174Z"
   },
   {
    "duration": 4,
    "start_time": "2023-02-26T20:46:37.522Z"
   },
   {
    "duration": 17,
    "start_time": "2023-02-26T20:46:37.981Z"
   },
   {
    "duration": 4,
    "start_time": "2023-02-26T20:48:02.272Z"
   },
   {
    "duration": 5,
    "start_time": "2023-02-26T20:48:07.016Z"
   },
   {
    "duration": 3,
    "start_time": "2023-02-26T20:48:07.666Z"
   },
   {
    "duration": 7,
    "start_time": "2023-02-26T20:48:08.676Z"
   },
   {
    "duration": 8,
    "start_time": "2023-02-26T20:48:09.204Z"
   },
   {
    "duration": 3,
    "start_time": "2023-02-26T20:48:10.583Z"
   },
   {
    "duration": 3,
    "start_time": "2023-02-26T20:48:11.938Z"
   },
   {
    "duration": 14,
    "start_time": "2023-02-26T20:48:12.410Z"
   },
   {
    "duration": 5,
    "start_time": "2023-02-26T20:48:31.720Z"
   },
   {
    "duration": 23,
    "start_time": "2023-02-26T20:55:16.523Z"
   },
   {
    "duration": 2,
    "start_time": "2023-02-26T21:15:02.470Z"
   },
   {
    "duration": 15,
    "start_time": "2023-02-26T21:15:04.351Z"
   },
   {
    "duration": 2997,
    "start_time": "2023-02-26T21:37:41.332Z"
   },
   {
    "duration": 250,
    "start_time": "2023-02-26T21:37:44.331Z"
   },
   {
    "duration": 22,
    "start_time": "2023-02-26T21:37:44.583Z"
   },
   {
    "duration": 36,
    "start_time": "2023-02-26T21:37:44.608Z"
   },
   {
    "duration": 22,
    "start_time": "2023-02-26T21:37:44.646Z"
   },
   {
    "duration": 479,
    "start_time": "2023-02-26T21:37:44.670Z"
   },
   {
    "duration": 361,
    "start_time": "2023-02-26T21:37:45.150Z"
   },
   {
    "duration": 297,
    "start_time": "2023-02-26T21:37:45.516Z"
   },
   {
    "duration": 278,
    "start_time": "2023-02-26T21:37:45.815Z"
   },
   {
    "duration": 415,
    "start_time": "2023-02-26T21:37:46.103Z"
   },
   {
    "duration": 341,
    "start_time": "2023-02-26T21:37:46.520Z"
   },
   {
    "duration": 274,
    "start_time": "2023-02-26T21:37:46.863Z"
   },
   {
    "duration": 270,
    "start_time": "2023-02-26T21:37:47.140Z"
   },
   {
    "duration": 24,
    "start_time": "2023-02-26T21:37:47.411Z"
   },
   {
    "duration": 318,
    "start_time": "2023-02-26T21:37:47.437Z"
   },
   {
    "duration": 414,
    "start_time": "2023-02-26T21:37:47.757Z"
   },
   {
    "duration": 226,
    "start_time": "2023-02-26T21:37:48.173Z"
   },
   {
    "duration": 344,
    "start_time": "2023-02-26T21:37:48.402Z"
   },
   {
    "duration": 380,
    "start_time": "2023-02-26T21:37:48.750Z"
   },
   {
    "duration": 209,
    "start_time": "2023-02-26T21:37:49.132Z"
   },
   {
    "duration": 4,
    "start_time": "2023-02-26T21:37:49.343Z"
   },
   {
    "duration": 25,
    "start_time": "2023-02-26T21:37:49.349Z"
   },
   {
    "duration": 54,
    "start_time": "2023-02-26T21:37:49.376Z"
   },
   {
    "duration": 12,
    "start_time": "2023-02-26T21:37:49.432Z"
   },
   {
    "duration": 23,
    "start_time": "2023-02-26T21:37:49.446Z"
   },
   {
    "duration": 23,
    "start_time": "2023-02-26T21:37:49.471Z"
   },
   {
    "duration": 42,
    "start_time": "2023-02-26T21:37:49.501Z"
   },
   {
    "duration": 166,
    "start_time": "2023-02-26T21:37:49.547Z"
   },
   {
    "duration": 0,
    "start_time": "2023-02-26T21:37:49.719Z"
   },
   {
    "duration": 0,
    "start_time": "2023-02-26T21:37:49.720Z"
   },
   {
    "duration": 18,
    "start_time": "2023-02-26T21:39:01.000Z"
   },
   {
    "duration": 25,
    "start_time": "2023-02-26T21:39:09.895Z"
   },
   {
    "duration": 1715,
    "start_time": "2023-02-26T21:51:18.818Z"
   },
   {
    "duration": 67,
    "start_time": "2023-02-26T21:51:20.536Z"
   },
   {
    "duration": 18,
    "start_time": "2023-02-26T21:51:20.605Z"
   },
   {
    "duration": 35,
    "start_time": "2023-02-26T21:51:20.626Z"
   },
   {
    "duration": 18,
    "start_time": "2023-02-26T21:51:20.664Z"
   },
   {
    "duration": 470,
    "start_time": "2023-02-26T21:51:20.683Z"
   },
   {
    "duration": 310,
    "start_time": "2023-02-26T21:51:21.154Z"
   },
   {
    "duration": 242,
    "start_time": "2023-02-26T21:51:21.466Z"
   },
   {
    "duration": 299,
    "start_time": "2023-02-26T21:51:21.710Z"
   },
   {
    "duration": 361,
    "start_time": "2023-02-26T21:51:22.012Z"
   },
   {
    "duration": 342,
    "start_time": "2023-02-26T21:51:22.374Z"
   },
   {
    "duration": 280,
    "start_time": "2023-02-26T21:51:22.717Z"
   },
   {
    "duration": 332,
    "start_time": "2023-02-26T21:51:22.998Z"
   },
   {
    "duration": 13,
    "start_time": "2023-02-26T21:51:23.332Z"
   },
   {
    "duration": 302,
    "start_time": "2023-02-26T21:51:23.347Z"
   },
   {
    "duration": 414,
    "start_time": "2023-02-26T21:51:23.651Z"
   },
   {
    "duration": 212,
    "start_time": "2023-02-26T21:51:24.066Z"
   },
   {
    "duration": 378,
    "start_time": "2023-02-26T21:51:24.280Z"
   },
   {
    "duration": 360,
    "start_time": "2023-02-26T21:51:24.659Z"
   },
   {
    "duration": 219,
    "start_time": "2023-02-26T21:51:25.021Z"
   },
   {
    "duration": 6,
    "start_time": "2023-02-26T21:51:25.242Z"
   },
   {
    "duration": 11,
    "start_time": "2023-02-26T21:51:25.250Z"
   },
   {
    "duration": 26,
    "start_time": "2023-02-26T21:51:25.263Z"
   },
   {
    "duration": 8,
    "start_time": "2023-02-26T21:51:25.295Z"
   },
   {
    "duration": 11,
    "start_time": "2023-02-26T21:51:25.305Z"
   },
   {
    "duration": 5,
    "start_time": "2023-02-26T21:51:25.318Z"
   },
   {
    "duration": 17,
    "start_time": "2023-02-26T21:51:25.325Z"
   },
   {
    "duration": 1881,
    "start_time": "2023-02-26T21:52:55.133Z"
   },
   {
    "duration": 71,
    "start_time": "2023-02-26T21:52:57.017Z"
   },
   {
    "duration": 19,
    "start_time": "2023-02-26T21:52:57.091Z"
   },
   {
    "duration": 43,
    "start_time": "2023-02-26T21:52:57.113Z"
   },
   {
    "duration": 19,
    "start_time": "2023-02-26T21:52:57.158Z"
   },
   {
    "duration": 612,
    "start_time": "2023-02-26T21:52:57.180Z"
   },
   {
    "duration": 353,
    "start_time": "2023-02-26T21:52:57.794Z"
   },
   {
    "duration": 303,
    "start_time": "2023-02-26T21:52:58.149Z"
   },
   {
    "duration": 291,
    "start_time": "2023-02-26T21:52:58.455Z"
   },
   {
    "duration": 486,
    "start_time": "2023-02-26T21:52:58.750Z"
   },
   {
    "duration": 390,
    "start_time": "2023-02-26T21:52:59.238Z"
   },
   {
    "duration": 305,
    "start_time": "2023-02-26T21:52:59.630Z"
   },
   {
    "duration": 265,
    "start_time": "2023-02-26T21:52:59.937Z"
   },
   {
    "duration": 15,
    "start_time": "2023-02-26T21:53:00.204Z"
   },
   {
    "duration": 308,
    "start_time": "2023-02-26T21:53:00.221Z"
   },
   {
    "duration": 392,
    "start_time": "2023-02-26T21:53:00.531Z"
   },
   {
    "duration": 299,
    "start_time": "2023-02-26T21:53:00.925Z"
   },
   {
    "duration": 338,
    "start_time": "2023-02-26T21:53:01.226Z"
   },
   {
    "duration": 378,
    "start_time": "2023-02-26T21:53:01.567Z"
   },
   {
    "duration": 285,
    "start_time": "2023-02-26T21:53:01.948Z"
   },
   {
    "duration": 7,
    "start_time": "2023-02-26T21:53:02.235Z"
   },
   {
    "duration": 38,
    "start_time": "2023-02-26T21:53:02.244Z"
   },
   {
    "duration": 58,
    "start_time": "2023-02-26T21:53:02.285Z"
   },
   {
    "duration": 52,
    "start_time": "2023-02-26T21:53:02.345Z"
   },
   {
    "duration": 33,
    "start_time": "2023-02-26T21:53:02.399Z"
   },
   {
    "duration": 21,
    "start_time": "2023-02-26T21:53:02.434Z"
   },
   {
    "duration": 21,
    "start_time": "2023-02-26T21:53:02.458Z"
   },
   {
    "duration": 1901,
    "start_time": "2023-02-26T21:56:06.082Z"
   },
   {
    "duration": 54,
    "start_time": "2023-02-26T21:56:07.985Z"
   },
   {
    "duration": 20,
    "start_time": "2023-02-26T21:56:08.041Z"
   },
   {
    "duration": 9,
    "start_time": "2023-02-26T21:56:08.064Z"
   },
   {
    "duration": 26,
    "start_time": "2023-02-26T21:56:08.075Z"
   },
   {
    "duration": 656,
    "start_time": "2023-02-26T21:56:08.103Z"
   },
   {
    "duration": 341,
    "start_time": "2023-02-26T21:56:08.762Z"
   },
   {
    "duration": 293,
    "start_time": "2023-02-26T21:56:09.106Z"
   },
   {
    "duration": 253,
    "start_time": "2023-02-26T21:56:09.401Z"
   },
   {
    "duration": 356,
    "start_time": "2023-02-26T21:56:09.658Z"
   },
   {
    "duration": 439,
    "start_time": "2023-02-26T21:56:10.016Z"
   },
   {
    "duration": 317,
    "start_time": "2023-02-26T21:56:10.459Z"
   },
   {
    "duration": 242,
    "start_time": "2023-02-26T21:56:10.778Z"
   },
   {
    "duration": 18,
    "start_time": "2023-02-26T21:56:11.022Z"
   },
   {
    "duration": 325,
    "start_time": "2023-02-26T21:56:11.042Z"
   },
   {
    "duration": 389,
    "start_time": "2023-02-26T21:56:11.373Z"
   },
   {
    "duration": 215,
    "start_time": "2023-02-26T21:56:11.764Z"
   },
   {
    "duration": 331,
    "start_time": "2023-02-26T21:56:11.981Z"
   },
   {
    "duration": 352,
    "start_time": "2023-02-26T21:56:12.314Z"
   },
   {
    "duration": 239,
    "start_time": "2023-02-26T21:56:12.668Z"
   },
   {
    "duration": 11,
    "start_time": "2023-02-26T21:56:12.910Z"
   },
   {
    "duration": 15,
    "start_time": "2023-02-26T21:56:12.924Z"
   },
   {
    "duration": 14,
    "start_time": "2023-02-26T21:56:12.941Z"
   },
   {
    "duration": 44,
    "start_time": "2023-02-26T21:56:12.957Z"
   },
   {
    "duration": 11,
    "start_time": "2023-02-26T21:56:13.004Z"
   },
   {
    "duration": 34,
    "start_time": "2023-02-26T21:56:13.018Z"
   },
   {
    "duration": 34,
    "start_time": "2023-02-26T21:56:13.056Z"
   },
   {
    "duration": 1626,
    "start_time": "2023-02-26T21:56:48.341Z"
   },
   {
    "duration": 65,
    "start_time": "2023-02-26T21:56:49.969Z"
   },
   {
    "duration": 12,
    "start_time": "2023-02-26T21:56:50.036Z"
   },
   {
    "duration": 32,
    "start_time": "2023-02-26T21:56:50.050Z"
   },
   {
    "duration": 34,
    "start_time": "2023-02-26T21:56:50.084Z"
   },
   {
    "duration": 437,
    "start_time": "2023-02-26T21:56:50.119Z"
   },
   {
    "duration": 299,
    "start_time": "2023-02-26T21:56:50.558Z"
   },
   {
    "duration": 239,
    "start_time": "2023-02-26T21:56:50.859Z"
   },
   {
    "duration": 205,
    "start_time": "2023-02-26T21:56:51.102Z"
   },
   {
    "duration": 343,
    "start_time": "2023-02-26T21:56:51.309Z"
   },
   {
    "duration": 328,
    "start_time": "2023-02-26T21:56:51.654Z"
   },
   {
    "duration": 248,
    "start_time": "2023-02-26T21:56:51.985Z"
   },
   {
    "duration": 243,
    "start_time": "2023-02-26T21:56:52.235Z"
   },
   {
    "duration": 23,
    "start_time": "2023-02-26T21:56:52.480Z"
   },
   {
    "duration": 281,
    "start_time": "2023-02-26T21:56:52.505Z"
   },
   {
    "duration": 392,
    "start_time": "2023-02-26T21:56:52.788Z"
   },
   {
    "duration": 218,
    "start_time": "2023-02-26T21:56:53.181Z"
   },
   {
    "duration": 324,
    "start_time": "2023-02-26T21:56:53.400Z"
   },
   {
    "duration": 318,
    "start_time": "2023-02-26T21:56:53.726Z"
   },
   {
    "duration": 224,
    "start_time": "2023-02-26T21:56:54.046Z"
   },
   {
    "duration": 5,
    "start_time": "2023-02-26T21:56:54.272Z"
   },
   {
    "duration": 7,
    "start_time": "2023-02-26T21:56:54.290Z"
   },
   {
    "duration": 11,
    "start_time": "2023-02-26T21:56:54.300Z"
   },
   {
    "duration": 9,
    "start_time": "2023-02-26T21:56:54.312Z"
   },
   {
    "duration": 6,
    "start_time": "2023-02-26T21:56:54.323Z"
   },
   {
    "duration": 7,
    "start_time": "2023-02-26T21:56:54.331Z"
   },
   {
    "duration": 15,
    "start_time": "2023-02-26T21:56:54.339Z"
   },
   {
    "duration": 1434531,
    "start_time": "2023-02-26T21:56:54.357Z"
   },
   {
    "duration": 2,
    "start_time": "2023-02-26T22:20:48.890Z"
   },
   {
    "duration": 14,
    "start_time": "2023-02-26T22:20:48.893Z"
   },
   {
    "duration": 2087,
    "start_time": "2023-02-26T22:20:48.908Z"
   },
   {
    "duration": 93,
    "start_time": "2023-02-26T22:20:50.996Z"
   },
   {
    "duration": 1671,
    "start_time": "2023-02-26T22:32:22.517Z"
   },
   {
    "duration": 53,
    "start_time": "2023-02-26T22:32:24.192Z"
   },
   {
    "duration": 12,
    "start_time": "2023-02-26T22:32:24.246Z"
   },
   {
    "duration": 5,
    "start_time": "2023-02-26T22:32:24.259Z"
   },
   {
    "duration": 12,
    "start_time": "2023-02-26T22:32:24.266Z"
   },
   {
    "duration": 400,
    "start_time": "2023-02-26T22:32:24.280Z"
   },
   {
    "duration": 283,
    "start_time": "2023-02-26T22:32:24.683Z"
   },
   {
    "duration": 265,
    "start_time": "2023-02-26T22:32:24.968Z"
   },
   {
    "duration": 228,
    "start_time": "2023-02-26T22:32:25.235Z"
   },
   {
    "duration": 383,
    "start_time": "2023-02-26T22:32:25.465Z"
   },
   {
    "duration": 312,
    "start_time": "2023-02-26T22:32:25.850Z"
   },
   {
    "duration": 259,
    "start_time": "2023-02-26T22:32:26.163Z"
   },
   {
    "duration": 251,
    "start_time": "2023-02-26T22:32:26.424Z"
   },
   {
    "duration": 23,
    "start_time": "2023-02-26T22:32:26.677Z"
   },
   {
    "duration": 270,
    "start_time": "2023-02-26T22:32:26.703Z"
   },
   {
    "duration": 355,
    "start_time": "2023-02-26T22:32:26.975Z"
   },
   {
    "duration": 206,
    "start_time": "2023-02-26T22:32:27.332Z"
   },
   {
    "duration": 339,
    "start_time": "2023-02-26T22:32:27.540Z"
   },
   {
    "duration": 308,
    "start_time": "2023-02-26T22:32:27.881Z"
   },
   {
    "duration": 198,
    "start_time": "2023-02-26T22:32:28.191Z"
   },
   {
    "duration": 5,
    "start_time": "2023-02-26T22:32:28.391Z"
   },
   {
    "duration": 13,
    "start_time": "2023-02-26T22:32:28.397Z"
   },
   {
    "duration": 7,
    "start_time": "2023-02-26T22:32:28.412Z"
   },
   {
    "duration": 7,
    "start_time": "2023-02-26T22:32:28.421Z"
   },
   {
    "duration": 13,
    "start_time": "2023-02-26T22:32:28.430Z"
   },
   {
    "duration": 12,
    "start_time": "2023-02-26T22:32:28.449Z"
   },
   {
    "duration": 1704751,
    "start_time": "2023-02-26T22:32:28.464Z"
   },
   {
    "duration": 14980,
    "start_time": "2023-02-26T23:00:53.216Z"
   },
   {
    "duration": 11,
    "start_time": "2023-02-26T23:01:08.197Z"
   },
   {
    "duration": 4,
    "start_time": "2023-02-26T23:07:25.844Z"
   },
   {
    "duration": 4,
    "start_time": "2023-02-26T23:08:08.058Z"
   },
   {
    "duration": 23,
    "start_time": "2023-02-26T23:08:52.705Z"
   },
   {
    "duration": 4,
    "start_time": "2023-02-26T23:10:04.975Z"
   },
   {
    "duration": 125,
    "start_time": "2023-02-26T23:12:18.815Z"
   },
   {
    "duration": 11,
    "start_time": "2023-02-26T23:12:28.300Z"
   },
   {
    "duration": 36,
    "start_time": "2023-02-26T23:12:45.349Z"
   },
   {
    "duration": 28,
    "start_time": "2023-02-26T23:12:52.950Z"
   },
   {
    "duration": 3,
    "start_time": "2023-02-26T23:13:01.603Z"
   },
   {
    "duration": 2,
    "start_time": "2023-02-26T23:13:02.064Z"
   },
   {
    "duration": 7,
    "start_time": "2023-02-26T23:15:12.679Z"
   },
   {
    "duration": 5,
    "start_time": "2023-02-26T23:15:13.247Z"
   },
   {
    "duration": 4,
    "start_time": "2023-02-26T23:15:14.064Z"
   },
   {
    "duration": 20,
    "start_time": "2023-02-26T23:15:14.947Z"
   },
   {
    "duration": 3,
    "start_time": "2023-02-26T23:15:15.891Z"
   },
   {
    "duration": 23,
    "start_time": "2023-02-26T23:15:17.181Z"
   },
   {
    "duration": 2,
    "start_time": "2023-02-26T23:15:17.830Z"
   },
   {
    "duration": 2,
    "start_time": "2023-02-26T23:15:18.323Z"
   },
   {
    "duration": 19462,
    "start_time": "2023-02-26T23:15:49.029Z"
   },
   {
    "duration": 2,
    "start_time": "2023-02-26T23:20:49.895Z"
   },
   {
    "duration": 10,
    "start_time": "2023-02-26T23:48:48.931Z"
   },
   {
    "duration": 11,
    "start_time": "2023-02-26T23:48:58.605Z"
   },
   {
    "duration": 1730,
    "start_time": "2023-02-26T23:49:14.864Z"
   },
   {
    "duration": 18775,
    "start_time": "2023-02-26T23:50:27.116Z"
   },
   {
    "duration": 1893,
    "start_time": "2023-02-26T23:50:45.893Z"
   },
   {
    "duration": 8,
    "start_time": "2023-02-26T23:52:54.270Z"
   },
   {
    "duration": 255,
    "start_time": "2023-02-26T23:53:04.863Z"
   },
   {
    "duration": 7,
    "start_time": "2023-02-26T23:55:49.308Z"
   },
   {
    "duration": 48,
    "start_time": "2023-02-26T23:56:19.510Z"
   },
   {
    "duration": 8,
    "start_time": "2023-02-26T23:56:35.660Z"
   },
   {
    "duration": 1726,
    "start_time": "2023-02-26T23:59:56.377Z"
   },
   {
    "duration": 1622,
    "start_time": "2023-02-27T00:00:14.272Z"
   },
   {
    "duration": 6,
    "start_time": "2023-02-27T00:02:45.763Z"
   },
   {
    "duration": 4,
    "start_time": "2023-02-27T00:02:46.195Z"
   },
   {
    "duration": 4,
    "start_time": "2023-02-27T00:02:46.617Z"
   },
   {
    "duration": 20,
    "start_time": "2023-02-27T00:02:47.175Z"
   },
   {
    "duration": 3,
    "start_time": "2023-02-27T00:02:48.463Z"
   },
   {
    "duration": 21,
    "start_time": "2023-02-27T00:02:49.758Z"
   },
   {
    "duration": 16194,
    "start_time": "2023-02-27T00:03:07.798Z"
   },
   {
    "duration": 2001,
    "start_time": "2023-02-27T00:03:23.994Z"
   },
   {
    "duration": 9,
    "start_time": "2023-02-27T00:03:25.996Z"
   },
   {
    "duration": 271,
    "start_time": "2023-02-27T00:03:26.007Z"
   },
   {
    "duration": 1654,
    "start_time": "2023-02-27T10:25:28.717Z"
   },
   {
    "duration": 157,
    "start_time": "2023-02-27T10:25:30.373Z"
   },
   {
    "duration": 11,
    "start_time": "2023-02-27T10:25:30.531Z"
   },
   {
    "duration": 34,
    "start_time": "2023-02-27T10:25:30.544Z"
   },
   {
    "duration": 37,
    "start_time": "2023-02-27T10:25:30.580Z"
   },
   {
    "duration": 430,
    "start_time": "2023-02-27T10:25:30.618Z"
   },
   {
    "duration": 261,
    "start_time": "2023-02-27T10:25:31.050Z"
   },
   {
    "duration": 214,
    "start_time": "2023-02-27T10:25:31.312Z"
   },
   {
    "duration": 195,
    "start_time": "2023-02-27T10:25:31.527Z"
   },
   {
    "duration": 347,
    "start_time": "2023-02-27T10:25:31.724Z"
   },
   {
    "duration": 293,
    "start_time": "2023-02-27T10:25:32.073Z"
   },
   {
    "duration": 227,
    "start_time": "2023-02-27T10:25:32.368Z"
   },
   {
    "duration": 210,
    "start_time": "2023-02-27T10:25:32.596Z"
   },
   {
    "duration": 10,
    "start_time": "2023-02-27T10:25:32.809Z"
   },
   {
    "duration": 343,
    "start_time": "2023-02-27T10:25:32.820Z"
   },
   {
    "duration": 229,
    "start_time": "2023-02-27T10:25:33.164Z"
   },
   {
    "duration": 184,
    "start_time": "2023-02-27T10:25:33.395Z"
   },
   {
    "duration": 295,
    "start_time": "2023-02-27T10:25:33.580Z"
   },
   {
    "duration": 286,
    "start_time": "2023-02-27T10:25:33.877Z"
   },
   {
    "duration": 175,
    "start_time": "2023-02-27T10:25:34.164Z"
   },
   {
    "duration": 5,
    "start_time": "2023-02-27T10:25:34.340Z"
   },
   {
    "duration": 12,
    "start_time": "2023-02-27T10:25:34.347Z"
   },
   {
    "duration": 6,
    "start_time": "2023-02-27T10:25:34.360Z"
   },
   {
    "duration": 5,
    "start_time": "2023-02-27T10:25:34.368Z"
   },
   {
    "duration": 35,
    "start_time": "2023-02-27T10:25:34.375Z"
   },
   {
    "duration": 2,
    "start_time": "2023-02-27T10:25:34.412Z"
   },
   {
    "duration": 30,
    "start_time": "2023-02-27T10:25:34.416Z"
   },
   {
    "duration": 22561,
    "start_time": "2023-02-27T10:25:34.449Z"
   },
   {
    "duration": 2103,
    "start_time": "2023-02-27T10:25:57.012Z"
   },
   {
    "duration": 9,
    "start_time": "2023-02-27T10:25:59.118Z"
   },
   {
    "duration": 293,
    "start_time": "2023-02-27T10:25:59.209Z"
   },
   {
    "duration": 1464,
    "start_time": "2023-02-27T10:44:33.732Z"
   },
   {
    "duration": 50,
    "start_time": "2023-02-27T10:44:35.198Z"
   },
   {
    "duration": 11,
    "start_time": "2023-02-27T10:44:35.249Z"
   },
   {
    "duration": 6,
    "start_time": "2023-02-27T10:44:35.261Z"
   },
   {
    "duration": 10,
    "start_time": "2023-02-27T10:44:35.269Z"
   },
   {
    "duration": 380,
    "start_time": "2023-02-27T10:44:35.280Z"
   },
   {
    "duration": 253,
    "start_time": "2023-02-27T10:44:35.662Z"
   },
   {
    "duration": 205,
    "start_time": "2023-02-27T10:44:35.916Z"
   },
   {
    "duration": 202,
    "start_time": "2023-02-27T10:44:36.123Z"
   },
   {
    "duration": 325,
    "start_time": "2023-02-27T10:44:36.328Z"
   },
   {
    "duration": 302,
    "start_time": "2023-02-27T10:44:36.655Z"
   },
   {
    "duration": 252,
    "start_time": "2023-02-27T10:44:36.958Z"
   },
   {
    "duration": 218,
    "start_time": "2023-02-27T10:44:37.212Z"
   },
   {
    "duration": 12,
    "start_time": "2023-02-27T10:44:37.432Z"
   },
   {
    "duration": 268,
    "start_time": "2023-02-27T10:44:37.446Z"
   },
   {
    "duration": 312,
    "start_time": "2023-02-27T10:44:37.716Z"
   },
   {
    "duration": 187,
    "start_time": "2023-02-27T10:44:38.029Z"
   },
   {
    "duration": 299,
    "start_time": "2023-02-27T10:44:38.217Z"
   },
   {
    "duration": 287,
    "start_time": "2023-02-27T10:44:38.518Z"
   },
   {
    "duration": 189,
    "start_time": "2023-02-27T10:44:38.810Z"
   },
   {
    "duration": 9,
    "start_time": "2023-02-27T10:44:39.001Z"
   },
   {
    "duration": 8,
    "start_time": "2023-02-27T10:44:39.012Z"
   },
   {
    "duration": 8,
    "start_time": "2023-02-27T10:44:39.021Z"
   },
   {
    "duration": 5,
    "start_time": "2023-02-27T10:44:39.031Z"
   },
   {
    "duration": 22,
    "start_time": "2023-02-27T10:44:39.038Z"
   },
   {
    "duration": 3,
    "start_time": "2023-02-27T10:44:39.061Z"
   },
   {
    "duration": 48,
    "start_time": "2023-02-27T10:44:39.065Z"
   },
   {
    "duration": 26394,
    "start_time": "2023-02-27T10:44:39.116Z"
   },
   {
    "duration": 2104,
    "start_time": "2023-02-27T10:45:05.512Z"
   },
   {
    "duration": 8,
    "start_time": "2023-02-27T10:45:07.618Z"
   },
   {
    "duration": 387,
    "start_time": "2023-02-27T10:45:07.627Z"
   },
   {
    "duration": 4,
    "start_time": "2023-02-27T10:45:59.790Z"
   },
   {
    "duration": 7,
    "start_time": "2023-02-27T10:46:01.171Z"
   },
   {
    "duration": 5,
    "start_time": "2023-02-27T10:46:01.726Z"
   },
   {
    "duration": 4,
    "start_time": "2023-02-27T10:46:02.297Z"
   },
   {
    "duration": 18,
    "start_time": "2023-02-27T10:46:02.856Z"
   },
   {
    "duration": 3,
    "start_time": "2023-02-27T10:46:03.957Z"
   },
   {
    "duration": 18,
    "start_time": "2023-02-27T10:46:05.191Z"
   },
   {
    "duration": 21390,
    "start_time": "2023-02-27T10:46:06.822Z"
   },
   {
    "duration": 2404,
    "start_time": "2023-02-27T10:46:28.214Z"
   },
   {
    "duration": 95,
    "start_time": "2023-02-27T10:46:30.619Z"
   },
   {
    "duration": 328,
    "start_time": "2023-02-27T10:46:30.716Z"
   },
   {
    "duration": 6,
    "start_time": "2023-02-27T10:46:48.042Z"
   },
   {
    "duration": 7,
    "start_time": "2023-02-27T10:46:49.604Z"
   },
   {
    "duration": 5,
    "start_time": "2023-02-27T10:46:50.070Z"
   },
   {
    "duration": 6,
    "start_time": "2023-02-27T10:46:50.626Z"
   },
   {
    "duration": 24,
    "start_time": "2023-02-27T10:46:51.260Z"
   },
   {
    "duration": 3,
    "start_time": "2023-02-27T10:46:52.584Z"
   },
   {
    "duration": 24,
    "start_time": "2023-02-27T10:46:53.896Z"
   },
   {
    "duration": 1558,
    "start_time": "2023-02-27T10:57:50.198Z"
   },
   {
    "duration": 55,
    "start_time": "2023-02-27T10:57:51.758Z"
   },
   {
    "duration": 14,
    "start_time": "2023-02-27T10:57:51.815Z"
   },
   {
    "duration": 9,
    "start_time": "2023-02-27T10:57:51.831Z"
   },
   {
    "duration": 10,
    "start_time": "2023-02-27T10:57:51.842Z"
   },
   {
    "duration": 418,
    "start_time": "2023-02-27T10:57:51.854Z"
   },
   {
    "duration": 263,
    "start_time": "2023-02-27T10:57:52.274Z"
   },
   {
    "duration": 217,
    "start_time": "2023-02-27T10:57:52.539Z"
   },
   {
    "duration": 217,
    "start_time": "2023-02-27T10:57:52.757Z"
   },
   {
    "duration": 435,
    "start_time": "2023-02-27T10:57:52.977Z"
   },
   {
    "duration": 301,
    "start_time": "2023-02-27T10:57:53.414Z"
   },
   {
    "duration": 242,
    "start_time": "2023-02-27T10:57:53.717Z"
   },
   {
    "duration": 236,
    "start_time": "2023-02-27T10:57:53.961Z"
   },
   {
    "duration": 22,
    "start_time": "2023-02-27T10:57:54.199Z"
   },
   {
    "duration": 276,
    "start_time": "2023-02-27T10:57:54.223Z"
   },
   {
    "duration": 341,
    "start_time": "2023-02-27T10:57:54.501Z"
   },
   {
    "duration": 201,
    "start_time": "2023-02-27T10:57:54.844Z"
   },
   {
    "duration": 315,
    "start_time": "2023-02-27T10:57:55.047Z"
   },
   {
    "duration": 323,
    "start_time": "2023-02-27T10:57:55.364Z"
   },
   {
    "duration": 196,
    "start_time": "2023-02-27T10:57:55.689Z"
   },
   {
    "duration": 149,
    "start_time": "2023-02-27T10:57:55.887Z"
   },
   {
    "duration": 0,
    "start_time": "2023-02-27T10:57:56.038Z"
   },
   {
    "duration": 0,
    "start_time": "2023-02-27T10:57:56.040Z"
   },
   {
    "duration": 0,
    "start_time": "2023-02-27T10:57:56.041Z"
   },
   {
    "duration": 0,
    "start_time": "2023-02-27T10:57:56.043Z"
   },
   {
    "duration": 0,
    "start_time": "2023-02-27T10:57:56.044Z"
   },
   {
    "duration": 0,
    "start_time": "2023-02-27T10:57:56.045Z"
   },
   {
    "duration": 0,
    "start_time": "2023-02-27T10:57:56.046Z"
   },
   {
    "duration": 0,
    "start_time": "2023-02-27T10:57:56.047Z"
   },
   {
    "duration": 0,
    "start_time": "2023-02-27T10:57:56.048Z"
   },
   {
    "duration": 0,
    "start_time": "2023-02-27T10:57:56.050Z"
   },
   {
    "duration": 0,
    "start_time": "2023-02-27T10:57:56.051Z"
   },
   {
    "duration": 1427,
    "start_time": "2023-02-27T10:58:37.860Z"
   },
   {
    "duration": 50,
    "start_time": "2023-02-27T10:58:39.291Z"
   },
   {
    "duration": 11,
    "start_time": "2023-02-27T10:58:39.343Z"
   },
   {
    "duration": 5,
    "start_time": "2023-02-27T10:58:39.356Z"
   },
   {
    "duration": 9,
    "start_time": "2023-02-27T10:58:39.362Z"
   },
   {
    "duration": 395,
    "start_time": "2023-02-27T10:58:39.373Z"
   },
   {
    "duration": 260,
    "start_time": "2023-02-27T10:58:39.770Z"
   },
   {
    "duration": 224,
    "start_time": "2023-02-27T10:58:40.032Z"
   },
   {
    "duration": 218,
    "start_time": "2023-02-27T10:58:40.259Z"
   },
   {
    "duration": 327,
    "start_time": "2023-02-27T10:58:40.479Z"
   },
   {
    "duration": 296,
    "start_time": "2023-02-27T10:58:40.810Z"
   },
   {
    "duration": 236,
    "start_time": "2023-02-27T10:58:41.108Z"
   },
   {
    "duration": 229,
    "start_time": "2023-02-27T10:58:41.345Z"
   },
   {
    "duration": 10,
    "start_time": "2023-02-27T10:58:41.575Z"
   },
   {
    "duration": 255,
    "start_time": "2023-02-27T10:58:41.587Z"
   },
   {
    "duration": 318,
    "start_time": "2023-02-27T10:58:41.844Z"
   },
   {
    "duration": 194,
    "start_time": "2023-02-27T10:58:42.164Z"
   },
   {
    "duration": 300,
    "start_time": "2023-02-27T10:58:42.359Z"
   },
   {
    "duration": 285,
    "start_time": "2023-02-27T10:58:42.660Z"
   },
   {
    "duration": 215,
    "start_time": "2023-02-27T10:58:42.946Z"
   },
   {
    "duration": 155,
    "start_time": "2023-02-27T10:58:43.163Z"
   },
   {
    "duration": 0,
    "start_time": "2023-02-27T10:58:43.320Z"
   },
   {
    "duration": 0,
    "start_time": "2023-02-27T10:58:43.322Z"
   },
   {
    "duration": 0,
    "start_time": "2023-02-27T10:58:43.323Z"
   },
   {
    "duration": 0,
    "start_time": "2023-02-27T10:58:43.324Z"
   },
   {
    "duration": 0,
    "start_time": "2023-02-27T10:58:43.326Z"
   },
   {
    "duration": 0,
    "start_time": "2023-02-27T10:58:43.327Z"
   },
   {
    "duration": 0,
    "start_time": "2023-02-27T10:58:43.328Z"
   },
   {
    "duration": 0,
    "start_time": "2023-02-27T10:58:43.330Z"
   },
   {
    "duration": 0,
    "start_time": "2023-02-27T10:58:43.331Z"
   },
   {
    "duration": 0,
    "start_time": "2023-02-27T10:58:43.332Z"
   },
   {
    "duration": 0,
    "start_time": "2023-02-27T10:58:43.333Z"
   },
   {
    "duration": 11,
    "start_time": "2023-02-27T11:08:16.274Z"
   },
   {
    "duration": 38,
    "start_time": "2023-02-27T11:08:22.800Z"
   },
   {
    "duration": 1367,
    "start_time": "2023-02-27T11:11:17.273Z"
   },
   {
    "duration": 50,
    "start_time": "2023-02-27T11:11:18.642Z"
   },
   {
    "duration": 11,
    "start_time": "2023-02-27T11:11:18.694Z"
   },
   {
    "duration": 5,
    "start_time": "2023-02-27T11:11:18.709Z"
   },
   {
    "duration": 9,
    "start_time": "2023-02-27T11:11:18.715Z"
   },
   {
    "duration": 318,
    "start_time": "2023-02-27T11:11:18.726Z"
   },
   {
    "duration": 259,
    "start_time": "2023-02-27T11:11:19.045Z"
   },
   {
    "duration": 289,
    "start_time": "2023-02-27T11:11:19.306Z"
   },
   {
    "duration": 203,
    "start_time": "2023-02-27T11:11:19.597Z"
   },
   {
    "duration": 315,
    "start_time": "2023-02-27T11:11:19.810Z"
   },
   {
    "duration": 287,
    "start_time": "2023-02-27T11:11:20.127Z"
   },
   {
    "duration": 230,
    "start_time": "2023-02-27T11:11:20.415Z"
   },
   {
    "duration": 214,
    "start_time": "2023-02-27T11:11:20.647Z"
   },
   {
    "duration": 11,
    "start_time": "2023-02-27T11:11:20.862Z"
   },
   {
    "duration": 249,
    "start_time": "2023-02-27T11:11:20.874Z"
   },
   {
    "duration": 240,
    "start_time": "2023-02-27T11:11:21.124Z"
   },
   {
    "duration": 180,
    "start_time": "2023-02-27T11:11:21.366Z"
   },
   {
    "duration": 367,
    "start_time": "2023-02-27T11:11:21.548Z"
   },
   {
    "duration": 284,
    "start_time": "2023-02-27T11:11:21.917Z"
   },
   {
    "duration": 180,
    "start_time": "2023-02-27T11:11:22.203Z"
   },
   {
    "duration": 148,
    "start_time": "2023-02-27T11:11:22.384Z"
   },
   {
    "duration": 0,
    "start_time": "2023-02-27T11:11:22.534Z"
   },
   {
    "duration": 0,
    "start_time": "2023-02-27T11:11:22.535Z"
   },
   {
    "duration": 0,
    "start_time": "2023-02-27T11:11:22.536Z"
   },
   {
    "duration": 0,
    "start_time": "2023-02-27T11:11:22.536Z"
   },
   {
    "duration": 0,
    "start_time": "2023-02-27T11:11:22.538Z"
   },
   {
    "duration": 0,
    "start_time": "2023-02-27T11:11:22.538Z"
   },
   {
    "duration": 0,
    "start_time": "2023-02-27T11:11:22.539Z"
   },
   {
    "duration": 0,
    "start_time": "2023-02-27T11:11:22.540Z"
   },
   {
    "duration": 0,
    "start_time": "2023-02-27T11:11:22.542Z"
   },
   {
    "duration": 0,
    "start_time": "2023-02-27T11:11:22.542Z"
   },
   {
    "duration": 0,
    "start_time": "2023-02-27T11:11:22.543Z"
   },
   {
    "duration": 0,
    "start_time": "2023-02-27T11:11:22.544Z"
   },
   {
    "duration": 11,
    "start_time": "2023-02-27T11:16:37.700Z"
   },
   {
    "duration": 1316,
    "start_time": "2023-02-27T11:17:08.829Z"
   },
   {
    "duration": 52,
    "start_time": "2023-02-27T11:17:10.147Z"
   },
   {
    "duration": 11,
    "start_time": "2023-02-27T11:17:10.201Z"
   },
   {
    "duration": 8,
    "start_time": "2023-02-27T11:17:10.213Z"
   },
   {
    "duration": 10,
    "start_time": "2023-02-27T11:17:10.223Z"
   },
   {
    "duration": 318,
    "start_time": "2023-02-27T11:17:10.234Z"
   },
   {
    "duration": 259,
    "start_time": "2023-02-27T11:17:10.554Z"
   },
   {
    "duration": 262,
    "start_time": "2023-02-27T11:17:10.814Z"
   },
   {
    "duration": 209,
    "start_time": "2023-02-27T11:17:11.077Z"
   },
   {
    "duration": 324,
    "start_time": "2023-02-27T11:17:11.288Z"
   },
   {
    "duration": 288,
    "start_time": "2023-02-27T11:17:11.614Z"
   },
   {
    "duration": 220,
    "start_time": "2023-02-27T11:17:11.909Z"
   },
   {
    "duration": 228,
    "start_time": "2023-02-27T11:17:12.131Z"
   },
   {
    "duration": 12,
    "start_time": "2023-02-27T11:17:12.361Z"
   },
   {
    "duration": 260,
    "start_time": "2023-02-27T11:17:12.375Z"
   },
   {
    "duration": 236,
    "start_time": "2023-02-27T11:17:12.637Z"
   },
   {
    "duration": 202,
    "start_time": "2023-02-27T11:17:12.874Z"
   },
   {
    "duration": 378,
    "start_time": "2023-02-27T11:17:13.078Z"
   },
   {
    "duration": 298,
    "start_time": "2023-02-27T11:17:13.458Z"
   },
   {
    "duration": 175,
    "start_time": "2023-02-27T11:17:13.758Z"
   },
   {
    "duration": 1482,
    "start_time": "2023-02-27T11:17:13.935Z"
   },
   {
    "duration": 311,
    "start_time": "2023-02-27T11:17:15.419Z"
   },
   {
    "duration": 0,
    "start_time": "2023-02-27T11:17:15.732Z"
   },
   {
    "duration": 0,
    "start_time": "2023-02-27T11:17:15.733Z"
   },
   {
    "duration": 0,
    "start_time": "2023-02-27T11:17:15.734Z"
   },
   {
    "duration": 0,
    "start_time": "2023-02-27T11:17:15.736Z"
   },
   {
    "duration": 0,
    "start_time": "2023-02-27T11:17:15.736Z"
   },
   {
    "duration": 0,
    "start_time": "2023-02-27T11:17:15.737Z"
   },
   {
    "duration": 0,
    "start_time": "2023-02-27T11:17:15.739Z"
   },
   {
    "duration": 0,
    "start_time": "2023-02-27T11:17:15.740Z"
   },
   {
    "duration": 0,
    "start_time": "2023-02-27T11:17:15.740Z"
   },
   {
    "duration": 0,
    "start_time": "2023-02-27T11:17:15.741Z"
   },
   {
    "duration": 0,
    "start_time": "2023-02-27T11:17:15.742Z"
   },
   {
    "duration": 0,
    "start_time": "2023-02-27T11:17:15.743Z"
   },
   {
    "duration": 309,
    "start_time": "2023-02-27T11:19:42.337Z"
   },
   {
    "duration": 18,
    "start_time": "2023-02-27T11:22:10.298Z"
   },
   {
    "duration": 2,
    "start_time": "2023-02-27T11:23:26.429Z"
   },
   {
    "duration": 24,
    "start_time": "2023-02-27T11:23:26.968Z"
   },
   {
    "duration": 240,
    "start_time": "2023-02-27T11:24:47.486Z"
   },
   {
    "duration": 2,
    "start_time": "2023-02-27T11:25:11.527Z"
   },
   {
    "duration": 3,
    "start_time": "2023-02-27T11:25:16.377Z"
   },
   {
    "duration": 54,
    "start_time": "2023-02-27T11:25:36.634Z"
   },
   {
    "duration": 19,
    "start_time": "2023-02-27T11:26:05.119Z"
   },
   {
    "duration": 2,
    "start_time": "2023-02-27T11:27:00.125Z"
   },
   {
    "duration": 340,
    "start_time": "2023-02-27T11:27:02.205Z"
   },
   {
    "duration": 209,
    "start_time": "2023-02-27T11:27:03.392Z"
   },
   {
    "duration": 2,
    "start_time": "2023-02-27T11:27:04.203Z"
   },
   {
    "duration": 3,
    "start_time": "2023-02-27T11:27:05.077Z"
   },
   {
    "duration": 24,
    "start_time": "2023-02-27T11:27:06.505Z"
   },
   {
    "duration": 57,
    "start_time": "2023-02-27T11:27:56.972Z"
   },
   {
    "duration": 1326,
    "start_time": "2023-02-27T11:28:08.048Z"
   },
   {
    "duration": 51,
    "start_time": "2023-02-27T11:28:09.376Z"
   },
   {
    "duration": 10,
    "start_time": "2023-02-27T11:28:09.429Z"
   },
   {
    "duration": 5,
    "start_time": "2023-02-27T11:28:09.441Z"
   },
   {
    "duration": 3,
    "start_time": "2023-02-27T11:28:09.448Z"
   },
   {
    "duration": 324,
    "start_time": "2023-02-27T11:28:09.452Z"
   },
   {
    "duration": 196,
    "start_time": "2023-02-27T11:28:09.778Z"
   },
   {
    "duration": 3,
    "start_time": "2023-02-27T11:28:09.975Z"
   },
   {
    "duration": 5,
    "start_time": "2023-02-27T11:28:09.979Z"
   },
   {
    "duration": 410,
    "start_time": "2023-02-27T11:28:09.988Z"
   },
   {
    "duration": 314,
    "start_time": "2023-02-27T11:28:10.399Z"
   },
   {
    "duration": 129,
    "start_time": "2023-02-27T11:28:10.715Z"
   },
   {
    "duration": 0,
    "start_time": "2023-02-27T11:28:10.846Z"
   },
   {
    "duration": 0,
    "start_time": "2023-02-27T11:28:10.847Z"
   },
   {
    "duration": 0,
    "start_time": "2023-02-27T11:28:10.848Z"
   },
   {
    "duration": 0,
    "start_time": "2023-02-27T11:28:10.849Z"
   },
   {
    "duration": 0,
    "start_time": "2023-02-27T11:28:10.849Z"
   },
   {
    "duration": 0,
    "start_time": "2023-02-27T11:28:10.850Z"
   },
   {
    "duration": 0,
    "start_time": "2023-02-27T11:28:10.851Z"
   },
   {
    "duration": 0,
    "start_time": "2023-02-27T11:28:10.852Z"
   },
   {
    "duration": 0,
    "start_time": "2023-02-27T11:28:10.854Z"
   },
   {
    "duration": 0,
    "start_time": "2023-02-27T11:28:10.854Z"
   },
   {
    "duration": 0,
    "start_time": "2023-02-27T11:28:10.855Z"
   },
   {
    "duration": 0,
    "start_time": "2023-02-27T11:28:10.856Z"
   },
   {
    "duration": 0,
    "start_time": "2023-02-27T11:28:10.857Z"
   },
   {
    "duration": 0,
    "start_time": "2023-02-27T11:28:10.858Z"
   },
   {
    "duration": 0,
    "start_time": "2023-02-27T11:28:10.859Z"
   },
   {
    "duration": 0,
    "start_time": "2023-02-27T11:28:10.860Z"
   },
   {
    "duration": 0,
    "start_time": "2023-02-27T11:28:10.861Z"
   },
   {
    "duration": 0,
    "start_time": "2023-02-27T11:28:10.862Z"
   },
   {
    "duration": 0,
    "start_time": "2023-02-27T11:28:10.863Z"
   },
   {
    "duration": 0,
    "start_time": "2023-02-27T11:28:10.864Z"
   },
   {
    "duration": 0,
    "start_time": "2023-02-27T11:28:10.865Z"
   },
   {
    "duration": 0,
    "start_time": "2023-02-27T11:28:10.866Z"
   },
   {
    "duration": 0,
    "start_time": "2023-02-27T11:28:10.867Z"
   },
   {
    "duration": 11,
    "start_time": "2023-02-27T11:28:40.906Z"
   },
   {
    "duration": 49,
    "start_time": "2023-02-27T11:28:55.143Z"
   },
   {
    "duration": 8,
    "start_time": "2023-02-27T11:28:55.675Z"
   },
   {
    "duration": 5,
    "start_time": "2023-02-27T11:28:56.091Z"
   },
   {
    "duration": 2,
    "start_time": "2023-02-27T11:28:56.910Z"
   },
   {
    "duration": 264,
    "start_time": "2023-02-27T11:28:58.615Z"
   },
   {
    "duration": 195,
    "start_time": "2023-02-27T11:28:59.572Z"
   },
   {
    "duration": 2,
    "start_time": "2023-02-27T11:29:00.484Z"
   },
   {
    "duration": 2,
    "start_time": "2023-02-27T11:29:01.403Z"
   },
   {
    "duration": 351,
    "start_time": "2023-02-27T11:29:02.992Z"
   },
   {
    "duration": 16,
    "start_time": "2023-02-27T11:29:29.662Z"
   },
   {
    "duration": 304,
    "start_time": "2023-02-27T11:31:14.724Z"
   },
   {
    "duration": 97,
    "start_time": "2023-02-27T11:31:37.900Z"
   },
   {
    "duration": 49,
    "start_time": "2023-02-27T11:31:38.733Z"
   },
   {
    "duration": 8,
    "start_time": "2023-02-27T11:31:39.171Z"
   },
   {
    "duration": 6,
    "start_time": "2023-02-27T11:31:39.572Z"
   },
   {
    "duration": 2,
    "start_time": "2023-02-27T11:31:40.333Z"
   },
   {
    "duration": 273,
    "start_time": "2023-02-27T11:31:41.853Z"
   },
   {
    "duration": 209,
    "start_time": "2023-02-27T11:31:42.836Z"
   },
   {
    "duration": 2,
    "start_time": "2023-02-27T11:31:43.824Z"
   },
   {
    "duration": 2,
    "start_time": "2023-02-27T11:31:44.721Z"
   },
   {
    "duration": 334,
    "start_time": "2023-02-27T11:31:46.035Z"
   },
   {
    "duration": 224,
    "start_time": "2023-02-27T11:31:48.227Z"
   },
   {
    "duration": 316,
    "start_time": "2023-02-27T11:31:52.027Z"
   },
   {
    "duration": 16,
    "start_time": "2023-02-27T11:31:54.432Z"
   },
   {
    "duration": 9,
    "start_time": "2023-02-27T11:31:55.710Z"
   },
   {
    "duration": 10,
    "start_time": "2023-02-27T11:31:57.568Z"
   },
   {
    "duration": 2,
    "start_time": "2023-02-27T11:31:59.410Z"
   },
   {
    "duration": 11,
    "start_time": "2023-02-27T11:32:00.568Z"
   },
   {
    "duration": 2,
    "start_time": "2023-02-27T11:32:01.789Z"
   },
   {
    "duration": 10,
    "start_time": "2023-02-27T11:32:59.139Z"
   },
   {
    "duration": 23,
    "start_time": "2023-02-27T11:33:03.880Z"
   },
   {
    "duration": 30,
    "start_time": "2023-02-27T11:33:33.022Z"
   },
   {
    "duration": 1453,
    "start_time": "2023-02-27T11:33:44.696Z"
   },
   {
    "duration": 55,
    "start_time": "2023-02-27T11:33:46.151Z"
   },
   {
    "duration": 13,
    "start_time": "2023-02-27T11:33:46.207Z"
   },
   {
    "duration": 5,
    "start_time": "2023-02-27T11:33:46.222Z"
   },
   {
    "duration": 3,
    "start_time": "2023-02-27T11:33:46.229Z"
   },
   {
    "duration": 351,
    "start_time": "2023-02-27T11:33:46.233Z"
   },
   {
    "duration": 360,
    "start_time": "2023-02-27T11:33:46.586Z"
   },
   {
    "duration": 2,
    "start_time": "2023-02-27T11:33:46.949Z"
   },
   {
    "duration": 8,
    "start_time": "2023-02-27T11:33:46.953Z"
   },
   {
    "duration": 373,
    "start_time": "2023-02-27T11:33:46.962Z"
   },
   {
    "duration": 239,
    "start_time": "2023-02-27T11:33:47.337Z"
   },
   {
    "duration": 415,
    "start_time": "2023-02-27T11:33:47.577Z"
   },
   {
    "duration": 334,
    "start_time": "2023-02-27T11:33:47.993Z"
   },
   {
    "duration": 138,
    "start_time": "2023-02-27T11:33:48.330Z"
   },
   {
    "duration": 0,
    "start_time": "2023-02-27T11:33:48.469Z"
   },
   {
    "duration": 0,
    "start_time": "2023-02-27T11:33:48.470Z"
   },
   {
    "duration": 0,
    "start_time": "2023-02-27T11:33:48.471Z"
   },
   {
    "duration": 0,
    "start_time": "2023-02-27T11:33:48.472Z"
   },
   {
    "duration": 0,
    "start_time": "2023-02-27T11:33:48.473Z"
   },
   {
    "duration": 0,
    "start_time": "2023-02-27T11:33:48.474Z"
   },
   {
    "duration": 0,
    "start_time": "2023-02-27T11:33:48.475Z"
   },
   {
    "duration": 0,
    "start_time": "2023-02-27T11:33:48.476Z"
   },
   {
    "duration": 0,
    "start_time": "2023-02-27T11:33:48.477Z"
   },
   {
    "duration": 0,
    "start_time": "2023-02-27T11:33:48.478Z"
   },
   {
    "duration": 0,
    "start_time": "2023-02-27T11:33:48.479Z"
   },
   {
    "duration": 0,
    "start_time": "2023-02-27T11:33:48.480Z"
   },
   {
    "duration": 0,
    "start_time": "2023-02-27T11:33:48.481Z"
   },
   {
    "duration": 0,
    "start_time": "2023-02-27T11:33:48.481Z"
   },
   {
    "duration": 0,
    "start_time": "2023-02-27T11:33:48.482Z"
   },
   {
    "duration": 0,
    "start_time": "2023-02-27T11:33:48.483Z"
   },
   {
    "duration": 0,
    "start_time": "2023-02-27T11:33:48.510Z"
   },
   {
    "duration": 0,
    "start_time": "2023-02-27T11:33:48.511Z"
   },
   {
    "duration": 0,
    "start_time": "2023-02-27T11:33:48.512Z"
   },
   {
    "duration": 0,
    "start_time": "2023-02-27T11:33:48.513Z"
   },
   {
    "duration": 0,
    "start_time": "2023-02-27T11:33:48.514Z"
   },
   {
    "duration": 0,
    "start_time": "2023-02-27T11:33:48.515Z"
   },
   {
    "duration": 0,
    "start_time": "2023-02-27T11:33:48.516Z"
   },
   {
    "duration": 12,
    "start_time": "2023-02-27T11:39:09.727Z"
   },
   {
    "duration": 1393,
    "start_time": "2023-02-27T11:39:23.640Z"
   },
   {
    "duration": 57,
    "start_time": "2023-02-27T11:39:25.035Z"
   },
   {
    "duration": 15,
    "start_time": "2023-02-27T11:39:25.094Z"
   },
   {
    "duration": 6,
    "start_time": "2023-02-27T11:39:25.112Z"
   },
   {
    "duration": 9,
    "start_time": "2023-02-27T11:39:25.120Z"
   },
   {
    "duration": 358,
    "start_time": "2023-02-27T11:39:25.130Z"
   },
   {
    "duration": 265,
    "start_time": "2023-02-27T11:39:25.490Z"
   },
   {
    "duration": 2,
    "start_time": "2023-02-27T11:39:25.757Z"
   },
   {
    "duration": 12,
    "start_time": "2023-02-27T11:39:25.761Z"
   },
   {
    "duration": 338,
    "start_time": "2023-02-27T11:39:25.775Z"
   },
   {
    "duration": 239,
    "start_time": "2023-02-27T11:39:26.114Z"
   },
   {
    "duration": 503,
    "start_time": "2023-02-27T11:39:26.354Z"
   },
   {
    "duration": 328,
    "start_time": "2023-02-27T11:39:26.858Z"
   },
   {
    "duration": 139,
    "start_time": "2023-02-27T11:39:27.187Z"
   },
   {
    "duration": 0,
    "start_time": "2023-02-27T11:39:27.328Z"
   },
   {
    "duration": 0,
    "start_time": "2023-02-27T11:39:27.329Z"
   },
   {
    "duration": 0,
    "start_time": "2023-02-27T11:39:27.331Z"
   },
   {
    "duration": 0,
    "start_time": "2023-02-27T11:39:27.332Z"
   },
   {
    "duration": 0,
    "start_time": "2023-02-27T11:39:27.333Z"
   },
   {
    "duration": 0,
    "start_time": "2023-02-27T11:39:27.334Z"
   },
   {
    "duration": 0,
    "start_time": "2023-02-27T11:39:27.335Z"
   },
   {
    "duration": 0,
    "start_time": "2023-02-27T11:39:27.336Z"
   },
   {
    "duration": 0,
    "start_time": "2023-02-27T11:39:27.337Z"
   },
   {
    "duration": 0,
    "start_time": "2023-02-27T11:39:27.339Z"
   },
   {
    "duration": 0,
    "start_time": "2023-02-27T11:39:27.340Z"
   },
   {
    "duration": 0,
    "start_time": "2023-02-27T11:39:27.341Z"
   },
   {
    "duration": 0,
    "start_time": "2023-02-27T11:39:27.342Z"
   },
   {
    "duration": 0,
    "start_time": "2023-02-27T11:39:27.343Z"
   },
   {
    "duration": 0,
    "start_time": "2023-02-27T11:39:27.344Z"
   },
   {
    "duration": 0,
    "start_time": "2023-02-27T11:39:27.345Z"
   },
   {
    "duration": 0,
    "start_time": "2023-02-27T11:39:27.346Z"
   },
   {
    "duration": 0,
    "start_time": "2023-02-27T11:39:27.347Z"
   },
   {
    "duration": 0,
    "start_time": "2023-02-27T11:39:27.348Z"
   },
   {
    "duration": 0,
    "start_time": "2023-02-27T11:39:27.349Z"
   },
   {
    "duration": 0,
    "start_time": "2023-02-27T11:39:27.350Z"
   },
   {
    "duration": 0,
    "start_time": "2023-02-27T11:39:27.351Z"
   },
   {
    "duration": 0,
    "start_time": "2023-02-27T11:39:27.352Z"
   },
   {
    "duration": 1423,
    "start_time": "2023-02-27T11:39:47.288Z"
   },
   {
    "duration": 52,
    "start_time": "2023-02-27T11:39:48.712Z"
   },
   {
    "duration": 12,
    "start_time": "2023-02-27T11:39:48.766Z"
   },
   {
    "duration": 12,
    "start_time": "2023-02-27T11:39:48.781Z"
   },
   {
    "duration": 5,
    "start_time": "2023-02-27T11:39:48.795Z"
   },
   {
    "duration": 323,
    "start_time": "2023-02-27T11:39:48.801Z"
   },
   {
    "duration": 280,
    "start_time": "2023-02-27T11:39:49.127Z"
   },
   {
    "duration": 2,
    "start_time": "2023-02-27T11:39:49.410Z"
   },
   {
    "duration": 11,
    "start_time": "2023-02-27T11:39:49.414Z"
   },
   {
    "duration": 349,
    "start_time": "2023-02-27T11:39:49.428Z"
   },
   {
    "duration": 242,
    "start_time": "2023-02-27T11:39:49.779Z"
   },
   {
    "duration": 410,
    "start_time": "2023-02-27T11:39:50.023Z"
   },
   {
    "duration": 316,
    "start_time": "2023-02-27T11:39:50.435Z"
   },
   {
    "duration": 142,
    "start_time": "2023-02-27T11:39:50.753Z"
   },
   {
    "duration": 0,
    "start_time": "2023-02-27T11:39:50.897Z"
   },
   {
    "duration": 0,
    "start_time": "2023-02-27T11:39:50.899Z"
   },
   {
    "duration": 0,
    "start_time": "2023-02-27T11:39:50.900Z"
   },
   {
    "duration": 0,
    "start_time": "2023-02-27T11:39:50.910Z"
   },
   {
    "duration": 0,
    "start_time": "2023-02-27T11:39:50.911Z"
   },
   {
    "duration": 0,
    "start_time": "2023-02-27T11:39:50.913Z"
   },
   {
    "duration": 0,
    "start_time": "2023-02-27T11:39:50.914Z"
   },
   {
    "duration": 0,
    "start_time": "2023-02-27T11:39:50.916Z"
   },
   {
    "duration": 0,
    "start_time": "2023-02-27T11:39:50.917Z"
   },
   {
    "duration": 0,
    "start_time": "2023-02-27T11:39:50.918Z"
   },
   {
    "duration": 0,
    "start_time": "2023-02-27T11:39:50.920Z"
   },
   {
    "duration": 0,
    "start_time": "2023-02-27T11:39:50.921Z"
   },
   {
    "duration": 0,
    "start_time": "2023-02-27T11:39:50.923Z"
   },
   {
    "duration": 0,
    "start_time": "2023-02-27T11:39:50.924Z"
   },
   {
    "duration": 0,
    "start_time": "2023-02-27T11:39:50.926Z"
   },
   {
    "duration": 0,
    "start_time": "2023-02-27T11:39:50.928Z"
   },
   {
    "duration": 0,
    "start_time": "2023-02-27T11:39:50.930Z"
   },
   {
    "duration": 1,
    "start_time": "2023-02-27T11:39:50.931Z"
   },
   {
    "duration": 0,
    "start_time": "2023-02-27T11:39:50.933Z"
   },
   {
    "duration": 0,
    "start_time": "2023-02-27T11:39:50.934Z"
   },
   {
    "duration": 0,
    "start_time": "2023-02-27T11:39:50.936Z"
   },
   {
    "duration": 1,
    "start_time": "2023-02-27T11:39:50.937Z"
   },
   {
    "duration": 0,
    "start_time": "2023-02-27T11:39:50.939Z"
   },
   {
    "duration": 11,
    "start_time": "2023-02-27T11:57:45.277Z"
   },
   {
    "duration": 1361,
    "start_time": "2023-02-27T11:57:57.758Z"
   },
   {
    "duration": 52,
    "start_time": "2023-02-27T11:57:59.121Z"
   },
   {
    "duration": 12,
    "start_time": "2023-02-27T11:57:59.174Z"
   },
   {
    "duration": 5,
    "start_time": "2023-02-27T11:57:59.188Z"
   },
   {
    "duration": 3,
    "start_time": "2023-02-27T11:57:59.194Z"
   },
   {
    "duration": 349,
    "start_time": "2023-02-27T11:57:59.199Z"
   },
   {
    "duration": 264,
    "start_time": "2023-02-27T11:57:59.549Z"
   },
   {
    "duration": 2,
    "start_time": "2023-02-27T11:57:59.815Z"
   },
   {
    "duration": 8,
    "start_time": "2023-02-27T11:57:59.818Z"
   },
   {
    "duration": 257,
    "start_time": "2023-02-27T11:57:59.828Z"
   },
   {
    "duration": 221,
    "start_time": "2023-02-27T11:58:00.086Z"
   },
   {
    "duration": 423,
    "start_time": "2023-02-27T11:58:00.309Z"
   },
   {
    "duration": 326,
    "start_time": "2023-02-27T11:58:00.734Z"
   },
   {
    "duration": 137,
    "start_time": "2023-02-27T11:58:01.062Z"
   },
   {
    "duration": 0,
    "start_time": "2023-02-27T11:58:01.200Z"
   },
   {
    "duration": 0,
    "start_time": "2023-02-27T11:58:01.210Z"
   },
   {
    "duration": 0,
    "start_time": "2023-02-27T11:58:01.211Z"
   },
   {
    "duration": 0,
    "start_time": "2023-02-27T11:58:01.212Z"
   },
   {
    "duration": 0,
    "start_time": "2023-02-27T11:58:01.212Z"
   },
   {
    "duration": 0,
    "start_time": "2023-02-27T11:58:01.213Z"
   },
   {
    "duration": 0,
    "start_time": "2023-02-27T11:58:01.214Z"
   },
   {
    "duration": 0,
    "start_time": "2023-02-27T11:58:01.215Z"
   },
   {
    "duration": 0,
    "start_time": "2023-02-27T11:58:01.216Z"
   },
   {
    "duration": 0,
    "start_time": "2023-02-27T11:58:01.217Z"
   },
   {
    "duration": 0,
    "start_time": "2023-02-27T11:58:01.217Z"
   },
   {
    "duration": 0,
    "start_time": "2023-02-27T11:58:01.218Z"
   },
   {
    "duration": 0,
    "start_time": "2023-02-27T11:58:01.220Z"
   },
   {
    "duration": 0,
    "start_time": "2023-02-27T11:58:01.220Z"
   },
   {
    "duration": 0,
    "start_time": "2023-02-27T11:58:01.221Z"
   },
   {
    "duration": 0,
    "start_time": "2023-02-27T11:58:01.222Z"
   },
   {
    "duration": 0,
    "start_time": "2023-02-27T11:58:01.223Z"
   },
   {
    "duration": 0,
    "start_time": "2023-02-27T11:58:01.224Z"
   },
   {
    "duration": 0,
    "start_time": "2023-02-27T11:58:01.225Z"
   },
   {
    "duration": 0,
    "start_time": "2023-02-27T11:58:01.226Z"
   },
   {
    "duration": 0,
    "start_time": "2023-02-27T11:58:01.226Z"
   },
   {
    "duration": 0,
    "start_time": "2023-02-27T11:58:01.227Z"
   },
   {
    "duration": 0,
    "start_time": "2023-02-27T11:58:01.228Z"
   },
   {
    "duration": 385,
    "start_time": "2023-02-27T11:58:21.131Z"
   },
   {
    "duration": 409,
    "start_time": "2023-02-27T11:58:30.622Z"
   },
   {
    "duration": 24,
    "start_time": "2023-02-27T11:58:45.505Z"
   },
   {
    "duration": 1376,
    "start_time": "2023-02-27T11:58:59.854Z"
   },
   {
    "duration": 52,
    "start_time": "2023-02-27T11:59:01.232Z"
   },
   {
    "duration": 13,
    "start_time": "2023-02-27T11:59:01.286Z"
   },
   {
    "duration": 45,
    "start_time": "2023-02-27T11:59:01.300Z"
   },
   {
    "duration": 27,
    "start_time": "2023-02-27T11:59:01.348Z"
   },
   {
    "duration": 335,
    "start_time": "2023-02-27T11:59:01.377Z"
   },
   {
    "duration": 273,
    "start_time": "2023-02-27T11:59:01.714Z"
   },
   {
    "duration": 2,
    "start_time": "2023-02-27T11:59:01.989Z"
   },
   {
    "duration": 37,
    "start_time": "2023-02-27T11:59:01.993Z"
   },
   {
    "duration": 285,
    "start_time": "2023-02-27T11:59:02.032Z"
   },
   {
    "duration": 306,
    "start_time": "2023-02-27T11:59:02.318Z"
   },
   {
    "duration": 279,
    "start_time": "2023-02-27T11:59:02.625Z"
   },
   {
    "duration": 206,
    "start_time": "2023-02-27T11:59:02.905Z"
   },
   {
    "duration": 456,
    "start_time": "2023-02-27T11:59:03.115Z"
   },
   {
    "duration": 397,
    "start_time": "2023-02-27T11:59:03.572Z"
   },
   {
    "duration": 132,
    "start_time": "2023-02-27T11:59:03.971Z"
   },
   {
    "duration": 0,
    "start_time": "2023-02-27T11:59:04.105Z"
   },
   {
    "duration": 0,
    "start_time": "2023-02-27T11:59:04.109Z"
   },
   {
    "duration": 0,
    "start_time": "2023-02-27T11:59:04.111Z"
   },
   {
    "duration": 0,
    "start_time": "2023-02-27T11:59:04.112Z"
   },
   {
    "duration": 0,
    "start_time": "2023-02-27T11:59:04.113Z"
   },
   {
    "duration": 0,
    "start_time": "2023-02-27T11:59:04.114Z"
   },
   {
    "duration": 0,
    "start_time": "2023-02-27T11:59:04.115Z"
   },
   {
    "duration": 0,
    "start_time": "2023-02-27T11:59:04.116Z"
   },
   {
    "duration": 0,
    "start_time": "2023-02-27T11:59:04.117Z"
   },
   {
    "duration": 0,
    "start_time": "2023-02-27T11:59:04.118Z"
   },
   {
    "duration": 0,
    "start_time": "2023-02-27T11:59:04.119Z"
   },
   {
    "duration": 0,
    "start_time": "2023-02-27T11:59:04.120Z"
   },
   {
    "duration": 0,
    "start_time": "2023-02-27T11:59:04.121Z"
   },
   {
    "duration": 0,
    "start_time": "2023-02-27T11:59:04.121Z"
   },
   {
    "duration": 0,
    "start_time": "2023-02-27T11:59:04.122Z"
   },
   {
    "duration": 0,
    "start_time": "2023-02-27T11:59:04.123Z"
   },
   {
    "duration": 0,
    "start_time": "2023-02-27T11:59:04.124Z"
   },
   {
    "duration": 0,
    "start_time": "2023-02-27T11:59:04.124Z"
   },
   {
    "duration": 0,
    "start_time": "2023-02-27T11:59:04.125Z"
   },
   {
    "duration": 0,
    "start_time": "2023-02-27T11:59:04.126Z"
   },
   {
    "duration": 0,
    "start_time": "2023-02-27T11:59:04.127Z"
   },
   {
    "duration": 0,
    "start_time": "2023-02-27T11:59:04.128Z"
   },
   {
    "duration": 0,
    "start_time": "2023-02-27T11:59:04.129Z"
   },
   {
    "duration": 393,
    "start_time": "2023-02-27T11:59:24.721Z"
   },
   {
    "duration": 345,
    "start_time": "2023-02-27T11:59:33.026Z"
   },
   {
    "duration": 23,
    "start_time": "2023-02-27T11:59:49.217Z"
   },
   {
    "duration": 1373,
    "start_time": "2023-02-27T11:59:59.053Z"
   },
   {
    "duration": 52,
    "start_time": "2023-02-27T12:00:00.427Z"
   },
   {
    "duration": 12,
    "start_time": "2023-02-27T12:00:00.480Z"
   },
   {
    "duration": 22,
    "start_time": "2023-02-27T12:00:00.493Z"
   },
   {
    "duration": 28,
    "start_time": "2023-02-27T12:00:00.517Z"
   },
   {
    "duration": 338,
    "start_time": "2023-02-27T12:00:00.546Z"
   },
   {
    "duration": 270,
    "start_time": "2023-02-27T12:00:00.885Z"
   },
   {
    "duration": 2,
    "start_time": "2023-02-27T12:00:01.157Z"
   },
   {
    "duration": 38,
    "start_time": "2023-02-27T12:00:01.160Z"
   },
   {
    "duration": 267,
    "start_time": "2023-02-27T12:00:01.199Z"
   },
   {
    "duration": 309,
    "start_time": "2023-02-27T12:00:01.468Z"
   },
   {
    "duration": 287,
    "start_time": "2023-02-27T12:00:01.779Z"
   },
   {
    "duration": 194,
    "start_time": "2023-02-27T12:00:02.068Z"
   },
   {
    "duration": 185,
    "start_time": "2023-02-27T12:00:02.265Z"
   },
   {
    "duration": 191,
    "start_time": "2023-02-27T12:00:02.452Z"
   },
   {
    "duration": 414,
    "start_time": "2023-02-27T12:00:02.645Z"
   },
   {
    "duration": 336,
    "start_time": "2023-02-27T12:00:03.061Z"
   },
   {
    "duration": 137,
    "start_time": "2023-02-27T12:00:03.399Z"
   },
   {
    "duration": 0,
    "start_time": "2023-02-27T12:00:03.538Z"
   },
   {
    "duration": 0,
    "start_time": "2023-02-27T12:00:03.539Z"
   },
   {
    "duration": 0,
    "start_time": "2023-02-27T12:00:03.539Z"
   },
   {
    "duration": 0,
    "start_time": "2023-02-27T12:00:03.541Z"
   },
   {
    "duration": 0,
    "start_time": "2023-02-27T12:00:03.542Z"
   },
   {
    "duration": 0,
    "start_time": "2023-02-27T12:00:03.542Z"
   },
   {
    "duration": 0,
    "start_time": "2023-02-27T12:00:03.544Z"
   },
   {
    "duration": 0,
    "start_time": "2023-02-27T12:00:03.545Z"
   },
   {
    "duration": 0,
    "start_time": "2023-02-27T12:00:03.546Z"
   },
   {
    "duration": 0,
    "start_time": "2023-02-27T12:00:03.546Z"
   },
   {
    "duration": 0,
    "start_time": "2023-02-27T12:00:03.547Z"
   },
   {
    "duration": 0,
    "start_time": "2023-02-27T12:00:03.548Z"
   },
   {
    "duration": 0,
    "start_time": "2023-02-27T12:00:03.549Z"
   },
   {
    "duration": 0,
    "start_time": "2023-02-27T12:00:03.550Z"
   },
   {
    "duration": 0,
    "start_time": "2023-02-27T12:00:03.551Z"
   },
   {
    "duration": 0,
    "start_time": "2023-02-27T12:00:03.552Z"
   },
   {
    "duration": 0,
    "start_time": "2023-02-27T12:00:03.553Z"
   },
   {
    "duration": 0,
    "start_time": "2023-02-27T12:00:03.555Z"
   },
   {
    "duration": 0,
    "start_time": "2023-02-27T12:00:03.555Z"
   },
   {
    "duration": 0,
    "start_time": "2023-02-27T12:00:03.556Z"
   },
   {
    "duration": 0,
    "start_time": "2023-02-27T12:00:03.557Z"
   },
   {
    "duration": 0,
    "start_time": "2023-02-27T12:00:03.558Z"
   },
   {
    "duration": 0,
    "start_time": "2023-02-27T12:00:03.558Z"
   },
   {
    "duration": 394,
    "start_time": "2023-02-27T12:00:23.396Z"
   },
   {
    "duration": 325,
    "start_time": "2023-02-27T12:00:30.493Z"
   },
   {
    "duration": 2,
    "start_time": "2023-02-27T12:01:31.925Z"
   },
   {
    "duration": 2,
    "start_time": "2023-02-27T12:01:36.500Z"
   },
   {
    "duration": 3,
    "start_time": "2023-02-27T12:01:44.569Z"
   },
   {
    "duration": 2,
    "start_time": "2023-02-27T12:01:48.833Z"
   },
   {
    "duration": 2,
    "start_time": "2023-02-27T12:01:55.495Z"
   },
   {
    "duration": 13,
    "start_time": "2023-02-27T12:01:55.868Z"
   },
   {
    "duration": 2,
    "start_time": "2023-02-27T12:01:56.230Z"
   },
   {
    "duration": 2,
    "start_time": "2023-02-27T12:02:05.401Z"
   },
   {
    "duration": 3,
    "start_time": "2023-02-27T12:02:05.767Z"
   },
   {
    "duration": 3,
    "start_time": "2023-02-27T12:02:06.124Z"
   },
   {
    "duration": 2,
    "start_time": "2023-02-27T12:02:06.453Z"
   },
   {
    "duration": 3,
    "start_time": "2023-02-27T12:02:06.798Z"
   },
   {
    "duration": 2,
    "start_time": "2023-02-27T12:02:07.120Z"
   },
   {
    "duration": 23,
    "start_time": "2023-02-27T12:02:08.410Z"
   },
   {
    "duration": 21,
    "start_time": "2023-02-27T12:02:24.268Z"
   },
   {
    "duration": 10,
    "start_time": "2023-02-27T12:02:32.352Z"
   },
   {
    "duration": 1488,
    "start_time": "2023-02-27T12:02:55.965Z"
   },
   {
    "duration": 51,
    "start_time": "2023-02-27T12:02:57.455Z"
   },
   {
    "duration": 12,
    "start_time": "2023-02-27T12:02:57.507Z"
   },
   {
    "duration": 5,
    "start_time": "2023-02-27T12:02:57.522Z"
   },
   {
    "duration": 4,
    "start_time": "2023-02-27T12:02:57.529Z"
   },
   {
    "duration": 337,
    "start_time": "2023-02-27T12:02:57.535Z"
   },
   {
    "duration": 265,
    "start_time": "2023-02-27T12:02:57.874Z"
   },
   {
    "duration": 2,
    "start_time": "2023-02-27T12:02:58.141Z"
   },
   {
    "duration": 6,
    "start_time": "2023-02-27T12:02:58.144Z"
   },
   {
    "duration": 257,
    "start_time": "2023-02-27T12:02:58.153Z"
   },
   {
    "duration": 324,
    "start_time": "2023-02-27T12:02:58.411Z"
   },
   {
    "duration": 284,
    "start_time": "2023-02-27T12:02:58.737Z"
   },
   {
    "duration": 184,
    "start_time": "2023-02-27T12:02:59.023Z"
   },
   {
    "duration": 223,
    "start_time": "2023-02-27T12:02:59.210Z"
   },
   {
    "duration": 189,
    "start_time": "2023-02-27T12:02:59.435Z"
   },
   {
    "duration": 384,
    "start_time": "2023-02-27T12:02:59.625Z"
   },
   {
    "duration": 394,
    "start_time": "2023-02-27T12:03:00.011Z"
   },
   {
    "duration": 340,
    "start_time": "2023-02-27T12:03:00.407Z"
   },
   {
    "duration": 2,
    "start_time": "2023-02-27T12:03:00.749Z"
   },
   {
    "duration": 15,
    "start_time": "2023-02-27T12:03:00.752Z"
   },
   {
    "duration": 13,
    "start_time": "2023-02-27T12:03:00.768Z"
   },
   {
    "duration": 22,
    "start_time": "2023-02-27T12:03:00.783Z"
   },
   {
    "duration": 21,
    "start_time": "2023-02-27T12:03:00.807Z"
   },
   {
    "duration": 26,
    "start_time": "2023-02-27T12:03:00.829Z"
   },
   {
    "duration": 26,
    "start_time": "2023-02-27T12:03:00.857Z"
   },
   {
    "duration": 24,
    "start_time": "2023-02-27T12:03:00.884Z"
   },
   {
    "duration": 24,
    "start_time": "2023-02-27T12:03:00.909Z"
   },
   {
    "duration": 28,
    "start_time": "2023-02-27T12:03:00.936Z"
   },
   {
    "duration": 32,
    "start_time": "2023-02-27T12:03:00.965Z"
   },
   {
    "duration": 28,
    "start_time": "2023-02-27T12:03:00.998Z"
   },
   {
    "duration": 144,
    "start_time": "2023-02-27T12:03:01.028Z"
   },
   {
    "duration": 0,
    "start_time": "2023-02-27T12:03:01.174Z"
   },
   {
    "duration": 0,
    "start_time": "2023-02-27T12:03:01.176Z"
   },
   {
    "duration": 0,
    "start_time": "2023-02-27T12:03:01.177Z"
   },
   {
    "duration": 0,
    "start_time": "2023-02-27T12:03:01.179Z"
   },
   {
    "duration": 0,
    "start_time": "2023-02-27T12:03:01.180Z"
   },
   {
    "duration": 0,
    "start_time": "2023-02-27T12:03:01.182Z"
   },
   {
    "duration": 0,
    "start_time": "2023-02-27T12:03:01.183Z"
   },
   {
    "duration": 0,
    "start_time": "2023-02-27T12:03:01.185Z"
   },
   {
    "duration": 0,
    "start_time": "2023-02-27T12:03:01.186Z"
   },
   {
    "duration": 0,
    "start_time": "2023-02-27T12:03:01.210Z"
   },
   {
    "duration": 0,
    "start_time": "2023-02-27T12:03:01.212Z"
   },
   {
    "duration": 0,
    "start_time": "2023-02-27T12:03:01.213Z"
   },
   {
    "duration": 1447,
    "start_time": "2023-02-27T12:05:54.702Z"
   },
   {
    "duration": 69,
    "start_time": "2023-02-27T12:05:56.151Z"
   },
   {
    "duration": 15,
    "start_time": "2023-02-27T12:05:56.222Z"
   },
   {
    "duration": 6,
    "start_time": "2023-02-27T12:05:56.238Z"
   },
   {
    "duration": 3,
    "start_time": "2023-02-27T12:05:56.246Z"
   },
   {
    "duration": 338,
    "start_time": "2023-02-27T12:05:56.250Z"
   },
   {
    "duration": 297,
    "start_time": "2023-02-27T12:05:56.589Z"
   },
   {
    "duration": 3,
    "start_time": "2023-02-27T12:05:56.887Z"
   },
   {
    "duration": 25,
    "start_time": "2023-02-27T12:05:56.892Z"
   },
   {
    "duration": 253,
    "start_time": "2023-02-27T12:05:56.918Z"
   },
   {
    "duration": 309,
    "start_time": "2023-02-27T12:05:57.173Z"
   },
   {
    "duration": 257,
    "start_time": "2023-02-27T12:05:57.484Z"
   },
   {
    "duration": 168,
    "start_time": "2023-02-27T12:05:57.742Z"
   },
   {
    "duration": 184,
    "start_time": "2023-02-27T12:05:57.913Z"
   },
   {
    "duration": 182,
    "start_time": "2023-02-27T12:05:58.099Z"
   },
   {
    "duration": 183,
    "start_time": "2023-02-27T12:05:58.282Z"
   },
   {
    "duration": 213,
    "start_time": "2023-02-27T12:05:58.467Z"
   },
   {
    "duration": 257,
    "start_time": "2023-02-27T12:05:58.682Z"
   },
   {
    "duration": 2,
    "start_time": "2023-02-27T12:05:58.940Z"
   },
   {
    "duration": 5,
    "start_time": "2023-02-27T12:05:58.944Z"
   },
   {
    "duration": 5,
    "start_time": "2023-02-27T12:05:58.950Z"
   },
   {
    "duration": 4,
    "start_time": "2023-02-27T12:05:58.957Z"
   },
   {
    "duration": 9,
    "start_time": "2023-02-27T12:05:58.962Z"
   },
   {
    "duration": 5,
    "start_time": "2023-02-27T12:05:58.972Z"
   },
   {
    "duration": 6,
    "start_time": "2023-02-27T12:05:58.978Z"
   },
   {
    "duration": 4,
    "start_time": "2023-02-27T12:05:58.985Z"
   },
   {
    "duration": 2,
    "start_time": "2023-02-27T12:05:59.011Z"
   },
   {
    "duration": 7,
    "start_time": "2023-02-27T12:05:59.015Z"
   },
   {
    "duration": 6,
    "start_time": "2023-02-27T12:05:59.023Z"
   },
   {
    "duration": 10,
    "start_time": "2023-02-27T12:05:59.030Z"
   },
   {
    "duration": 138,
    "start_time": "2023-02-27T12:05:59.041Z"
   },
   {
    "duration": 0,
    "start_time": "2023-02-27T12:05:59.180Z"
   },
   {
    "duration": 0,
    "start_time": "2023-02-27T12:05:59.181Z"
   },
   {
    "duration": 0,
    "start_time": "2023-02-27T12:05:59.183Z"
   },
   {
    "duration": 0,
    "start_time": "2023-02-27T12:05:59.184Z"
   },
   {
    "duration": 0,
    "start_time": "2023-02-27T12:05:59.184Z"
   },
   {
    "duration": 0,
    "start_time": "2023-02-27T12:05:59.185Z"
   },
   {
    "duration": 0,
    "start_time": "2023-02-27T12:05:59.186Z"
   },
   {
    "duration": 0,
    "start_time": "2023-02-27T12:05:59.187Z"
   },
   {
    "duration": 0,
    "start_time": "2023-02-27T12:05:59.188Z"
   },
   {
    "duration": 0,
    "start_time": "2023-02-27T12:05:59.189Z"
   },
   {
    "duration": 0,
    "start_time": "2023-02-27T12:05:59.189Z"
   },
   {
    "duration": 0,
    "start_time": "2023-02-27T12:05:59.190Z"
   },
   {
    "duration": 1428,
    "start_time": "2023-02-27T12:06:19.580Z"
   },
   {
    "duration": 51,
    "start_time": "2023-02-27T12:06:21.010Z"
   },
   {
    "duration": 14,
    "start_time": "2023-02-27T12:06:21.063Z"
   },
   {
    "duration": 6,
    "start_time": "2023-02-27T12:06:21.079Z"
   },
   {
    "duration": 3,
    "start_time": "2023-02-27T12:06:21.087Z"
   },
   {
    "duration": 365,
    "start_time": "2023-02-27T12:06:21.091Z"
   },
   {
    "duration": 257,
    "start_time": "2023-02-27T12:06:21.458Z"
   },
   {
    "duration": 2,
    "start_time": "2023-02-27T12:06:21.717Z"
   },
   {
    "duration": 6,
    "start_time": "2023-02-27T12:06:21.721Z"
   },
   {
    "duration": 269,
    "start_time": "2023-02-27T12:06:21.728Z"
   },
   {
    "duration": 310,
    "start_time": "2023-02-27T12:06:21.999Z"
   },
   {
    "duration": 264,
    "start_time": "2023-02-27T12:06:22.311Z"
   },
   {
    "duration": 186,
    "start_time": "2023-02-27T12:06:22.577Z"
   },
   {
    "duration": 180,
    "start_time": "2023-02-27T12:06:22.765Z"
   },
   {
    "duration": 215,
    "start_time": "2023-02-27T12:06:22.946Z"
   },
   {
    "duration": 391,
    "start_time": "2023-02-27T12:06:23.162Z"
   },
   {
    "duration": 401,
    "start_time": "2023-02-27T12:06:23.554Z"
   },
   {
    "duration": 348,
    "start_time": "2023-02-27T12:06:23.956Z"
   },
   {
    "duration": 4,
    "start_time": "2023-02-27T12:06:24.306Z"
   },
   {
    "duration": 4,
    "start_time": "2023-02-27T12:06:24.312Z"
   },
   {
    "duration": 6,
    "start_time": "2023-02-27T12:06:24.317Z"
   },
   {
    "duration": 8,
    "start_time": "2023-02-27T12:06:24.324Z"
   },
   {
    "duration": 10,
    "start_time": "2023-02-27T12:06:24.334Z"
   },
   {
    "duration": 5,
    "start_time": "2023-02-27T12:06:24.345Z"
   },
   {
    "duration": 5,
    "start_time": "2023-02-27T12:06:24.351Z"
   },
   {
    "duration": 7,
    "start_time": "2023-02-27T12:06:24.357Z"
   },
   {
    "duration": 5,
    "start_time": "2023-02-27T12:06:24.365Z"
   },
   {
    "duration": 6,
    "start_time": "2023-02-27T12:06:24.371Z"
   },
   {
    "duration": 4,
    "start_time": "2023-02-27T12:06:24.378Z"
   },
   {
    "duration": 29,
    "start_time": "2023-02-27T12:06:24.384Z"
   },
   {
    "duration": 135,
    "start_time": "2023-02-27T12:06:24.414Z"
   },
   {
    "duration": 0,
    "start_time": "2023-02-27T12:06:24.551Z"
   },
   {
    "duration": 0,
    "start_time": "2023-02-27T12:06:24.552Z"
   },
   {
    "duration": 0,
    "start_time": "2023-02-27T12:06:24.553Z"
   },
   {
    "duration": 1,
    "start_time": "2023-02-27T12:06:24.553Z"
   },
   {
    "duration": 0,
    "start_time": "2023-02-27T12:06:24.555Z"
   },
   {
    "duration": 0,
    "start_time": "2023-02-27T12:06:24.555Z"
   },
   {
    "duration": 0,
    "start_time": "2023-02-27T12:06:24.556Z"
   },
   {
    "duration": 0,
    "start_time": "2023-02-27T12:06:24.557Z"
   },
   {
    "duration": 0,
    "start_time": "2023-02-27T12:06:24.558Z"
   },
   {
    "duration": 0,
    "start_time": "2023-02-27T12:06:24.559Z"
   },
   {
    "duration": 0,
    "start_time": "2023-02-27T12:06:24.560Z"
   },
   {
    "duration": 0,
    "start_time": "2023-02-27T12:06:24.561Z"
   },
   {
    "duration": 1405,
    "start_time": "2023-02-27T12:06:49.103Z"
   },
   {
    "duration": 52,
    "start_time": "2023-02-27T12:06:50.511Z"
   },
   {
    "duration": 12,
    "start_time": "2023-02-27T12:06:50.566Z"
   },
   {
    "duration": 16,
    "start_time": "2023-02-27T12:06:50.579Z"
   },
   {
    "duration": 14,
    "start_time": "2023-02-27T12:06:50.597Z"
   },
   {
    "duration": 339,
    "start_time": "2023-02-27T12:06:50.613Z"
   },
   {
    "duration": 268,
    "start_time": "2023-02-27T12:06:50.954Z"
   },
   {
    "duration": 3,
    "start_time": "2023-02-27T12:06:51.224Z"
   },
   {
    "duration": 5,
    "start_time": "2023-02-27T12:06:51.230Z"
   },
   {
    "duration": 268,
    "start_time": "2023-02-27T12:06:51.237Z"
   },
   {
    "duration": 315,
    "start_time": "2023-02-27T12:06:51.511Z"
   },
   {
    "duration": 270,
    "start_time": "2023-02-27T12:06:51.827Z"
   },
   {
    "duration": 196,
    "start_time": "2023-02-27T12:06:52.099Z"
   },
   {
    "duration": 187,
    "start_time": "2023-02-27T12:06:52.296Z"
   },
   {
    "duration": 190,
    "start_time": "2023-02-27T12:06:52.484Z"
   },
   {
    "duration": 399,
    "start_time": "2023-02-27T12:06:52.676Z"
   },
   {
    "duration": 416,
    "start_time": "2023-02-27T12:06:53.077Z"
   },
   {
    "duration": 351,
    "start_time": "2023-02-27T12:06:53.495Z"
   },
   {
    "duration": 2,
    "start_time": "2023-02-27T12:06:53.848Z"
   },
   {
    "duration": 7,
    "start_time": "2023-02-27T12:06:53.851Z"
   },
   {
    "duration": 4,
    "start_time": "2023-02-27T12:06:53.860Z"
   },
   {
    "duration": 4,
    "start_time": "2023-02-27T12:06:53.865Z"
   },
   {
    "duration": 4,
    "start_time": "2023-02-27T12:06:53.871Z"
   },
   {
    "duration": 11,
    "start_time": "2023-02-27T12:06:53.876Z"
   },
   {
    "duration": 4,
    "start_time": "2023-02-27T12:06:53.888Z"
   },
   {
    "duration": 16,
    "start_time": "2023-02-27T12:06:53.894Z"
   },
   {
    "duration": 2,
    "start_time": "2023-02-27T12:06:53.913Z"
   },
   {
    "duration": 6,
    "start_time": "2023-02-27T12:06:53.917Z"
   },
   {
    "duration": 7,
    "start_time": "2023-02-27T12:06:53.924Z"
   },
   {
    "duration": 5,
    "start_time": "2023-02-27T12:06:53.933Z"
   },
   {
    "duration": 3,
    "start_time": "2023-02-27T12:06:53.939Z"
   },
   {
    "duration": 3,
    "start_time": "2023-02-27T12:06:53.944Z"
   },
   {
    "duration": 5,
    "start_time": "2023-02-27T12:06:53.948Z"
   },
   {
    "duration": 8,
    "start_time": "2023-02-27T12:06:53.955Z"
   },
   {
    "duration": 4,
    "start_time": "2023-02-27T12:06:53.965Z"
   },
   {
    "duration": 7,
    "start_time": "2023-02-27T12:06:53.971Z"
   },
   {
    "duration": 204,
    "start_time": "2023-02-27T12:06:53.979Z"
   },
   {
    "duration": 0,
    "start_time": "2023-02-27T12:06:54.184Z"
   },
   {
    "duration": 0,
    "start_time": "2023-02-27T12:06:54.185Z"
   },
   {
    "duration": 0,
    "start_time": "2023-02-27T12:06:54.186Z"
   },
   {
    "duration": 0,
    "start_time": "2023-02-27T12:06:54.187Z"
   },
   {
    "duration": 0,
    "start_time": "2023-02-27T12:06:54.188Z"
   },
   {
    "duration": 0,
    "start_time": "2023-02-27T12:06:54.189Z"
   },
   {
    "duration": 150,
    "start_time": "2023-02-27T12:08:49.501Z"
   },
   {
    "duration": 20,
    "start_time": "2023-02-27T12:09:16.195Z"
   },
   {
    "duration": 23,
    "start_time": "2023-02-27T12:09:25.076Z"
   },
   {
    "duration": 171,
    "start_time": "2023-02-27T12:09:29.095Z"
   },
   {
    "duration": 24,
    "start_time": "2023-02-27T12:09:53.284Z"
   },
   {
    "duration": 167,
    "start_time": "2023-02-27T12:10:02.387Z"
   },
   {
    "duration": 1417,
    "start_time": "2023-02-27T12:15:24.011Z"
   },
   {
    "duration": 50,
    "start_time": "2023-02-27T12:15:25.430Z"
   },
   {
    "duration": 11,
    "start_time": "2023-02-27T12:15:25.481Z"
   },
   {
    "duration": 10,
    "start_time": "2023-02-27T12:15:25.494Z"
   },
   {
    "duration": 6,
    "start_time": "2023-02-27T12:15:25.505Z"
   },
   {
    "duration": 332,
    "start_time": "2023-02-27T12:15:25.512Z"
   },
   {
    "duration": 254,
    "start_time": "2023-02-27T12:15:25.846Z"
   },
   {
    "duration": 8,
    "start_time": "2023-02-27T12:15:26.102Z"
   },
   {
    "duration": 2,
    "start_time": "2023-02-27T12:15:26.111Z"
   },
   {
    "duration": 255,
    "start_time": "2023-02-27T12:15:26.115Z"
   },
   {
    "duration": 314,
    "start_time": "2023-02-27T12:15:26.371Z"
   },
   {
    "duration": 319,
    "start_time": "2023-02-27T12:15:26.687Z"
   },
   {
    "duration": 171,
    "start_time": "2023-02-27T12:15:27.009Z"
   },
   {
    "duration": 177,
    "start_time": "2023-02-27T12:15:27.181Z"
   },
   {
    "duration": 186,
    "start_time": "2023-02-27T12:15:27.359Z"
   },
   {
    "duration": 386,
    "start_time": "2023-02-27T12:15:27.547Z"
   },
   {
    "duration": 411,
    "start_time": "2023-02-27T12:15:27.934Z"
   },
   {
    "duration": 389,
    "start_time": "2023-02-27T12:15:28.346Z"
   },
   {
    "duration": 2,
    "start_time": "2023-02-27T12:15:28.737Z"
   },
   {
    "duration": 9,
    "start_time": "2023-02-27T12:15:28.741Z"
   },
   {
    "duration": 4,
    "start_time": "2023-02-27T12:15:28.752Z"
   },
   {
    "duration": 7,
    "start_time": "2023-02-27T12:15:28.757Z"
   },
   {
    "duration": 4,
    "start_time": "2023-02-27T12:15:28.765Z"
   },
   {
    "duration": 6,
    "start_time": "2023-02-27T12:15:28.770Z"
   },
   {
    "duration": 7,
    "start_time": "2023-02-27T12:15:28.777Z"
   },
   {
    "duration": 4,
    "start_time": "2023-02-27T12:15:28.785Z"
   },
   {
    "duration": 20,
    "start_time": "2023-02-27T12:15:28.790Z"
   },
   {
    "duration": 2,
    "start_time": "2023-02-27T12:15:28.813Z"
   },
   {
    "duration": 6,
    "start_time": "2023-02-27T12:15:28.816Z"
   },
   {
    "duration": 6,
    "start_time": "2023-02-27T12:15:28.824Z"
   },
   {
    "duration": 5,
    "start_time": "2023-02-27T12:15:28.832Z"
   },
   {
    "duration": 229,
    "start_time": "2023-02-27T12:15:28.839Z"
   },
   {
    "duration": 21,
    "start_time": "2023-02-27T12:15:29.070Z"
   },
   {
    "duration": 13,
    "start_time": "2023-02-27T12:15:29.093Z"
   },
   {
    "duration": 131,
    "start_time": "2023-02-27T12:15:29.107Z"
   },
   {
    "duration": 0,
    "start_time": "2023-02-27T12:15:29.240Z"
   },
   {
    "duration": 0,
    "start_time": "2023-02-27T12:15:29.241Z"
   },
   {
    "duration": 0,
    "start_time": "2023-02-27T12:15:29.241Z"
   },
   {
    "duration": 0,
    "start_time": "2023-02-27T12:15:29.242Z"
   },
   {
    "duration": 0,
    "start_time": "2023-02-27T12:15:29.243Z"
   },
   {
    "duration": 0,
    "start_time": "2023-02-27T12:15:29.244Z"
   },
   {
    "duration": 0,
    "start_time": "2023-02-27T12:15:29.245Z"
   },
   {
    "duration": 0,
    "start_time": "2023-02-27T12:15:29.246Z"
   },
   {
    "duration": 0,
    "start_time": "2023-02-27T12:15:29.247Z"
   },
   {
    "duration": 0,
    "start_time": "2023-02-27T12:15:29.248Z"
   },
   {
    "duration": 4,
    "start_time": "2023-02-27T12:19:19.899Z"
   },
   {
    "duration": 11,
    "start_time": "2023-02-27T12:19:22.954Z"
   },
   {
    "duration": 2,
    "start_time": "2023-02-27T12:20:22.581Z"
   },
   {
    "duration": 4,
    "start_time": "2023-02-27T12:20:54.761Z"
   },
   {
    "duration": 10,
    "start_time": "2023-02-27T12:20:57.808Z"
   },
   {
    "duration": 57,
    "start_time": "2023-02-27T12:22:52.382Z"
   },
   {
    "duration": 10,
    "start_time": "2023-02-27T12:23:07.453Z"
   },
   {
    "duration": 13,
    "start_time": "2023-02-27T12:23:11.829Z"
   },
   {
    "duration": 3,
    "start_time": "2023-02-27T12:23:32.783Z"
   },
   {
    "duration": 3,
    "start_time": "2023-02-27T12:23:38.467Z"
   },
   {
    "duration": 3,
    "start_time": "2023-02-27T12:25:02.741Z"
   },
   {
    "duration": 4,
    "start_time": "2023-02-27T12:25:05.035Z"
   },
   {
    "duration": 16,
    "start_time": "2023-02-27T12:25:36.490Z"
   },
   {
    "duration": 13,
    "start_time": "2023-02-27T12:26:26.593Z"
   },
   {
    "duration": 13,
    "start_time": "2023-02-27T12:26:32.018Z"
   },
   {
    "duration": 2,
    "start_time": "2023-02-27T12:27:08.304Z"
   },
   {
    "duration": 1492,
    "start_time": "2023-02-27T12:27:16.402Z"
   },
   {
    "duration": 50,
    "start_time": "2023-02-27T12:27:17.896Z"
   },
   {
    "duration": 11,
    "start_time": "2023-02-27T12:27:17.948Z"
   },
   {
    "duration": 6,
    "start_time": "2023-02-27T12:27:17.961Z"
   },
   {
    "duration": 4,
    "start_time": "2023-02-27T12:27:17.968Z"
   },
   {
    "duration": 330,
    "start_time": "2023-02-27T12:27:17.973Z"
   },
   {
    "duration": 258,
    "start_time": "2023-02-27T12:27:18.304Z"
   },
   {
    "duration": 2,
    "start_time": "2023-02-27T12:27:18.564Z"
   },
   {
    "duration": 6,
    "start_time": "2023-02-27T12:27:18.567Z"
   },
   {
    "duration": 254,
    "start_time": "2023-02-27T12:27:18.576Z"
   },
   {
    "duration": 303,
    "start_time": "2023-02-27T12:27:18.832Z"
   },
   {
    "duration": 276,
    "start_time": "2023-02-27T12:27:19.138Z"
   },
   {
    "duration": 169,
    "start_time": "2023-02-27T12:27:19.416Z"
   },
   {
    "duration": 181,
    "start_time": "2023-02-27T12:27:19.587Z"
   },
   {
    "duration": 188,
    "start_time": "2023-02-27T12:27:19.770Z"
   },
   {
    "duration": 408,
    "start_time": "2023-02-27T12:27:19.960Z"
   },
   {
    "duration": 408,
    "start_time": "2023-02-27T12:27:20.371Z"
   },
   {
    "duration": 341,
    "start_time": "2023-02-27T12:27:20.781Z"
   },
   {
    "duration": 2,
    "start_time": "2023-02-27T12:27:21.124Z"
   },
   {
    "duration": 6,
    "start_time": "2023-02-27T12:27:21.128Z"
   },
   {
    "duration": 7,
    "start_time": "2023-02-27T12:27:21.136Z"
   },
   {
    "duration": 5,
    "start_time": "2023-02-27T12:27:21.145Z"
   },
   {
    "duration": 8,
    "start_time": "2023-02-27T12:27:21.152Z"
   },
   {
    "duration": 10,
    "start_time": "2023-02-27T12:27:21.162Z"
   },
   {
    "duration": 7,
    "start_time": "2023-02-27T12:27:21.173Z"
   },
   {
    "duration": 4,
    "start_time": "2023-02-27T12:27:21.182Z"
   },
   {
    "duration": 7,
    "start_time": "2023-02-27T12:27:21.187Z"
   },
   {
    "duration": 5,
    "start_time": "2023-02-27T12:27:21.196Z"
   },
   {
    "duration": 8,
    "start_time": "2023-02-27T12:27:21.202Z"
   },
   {
    "duration": 4,
    "start_time": "2023-02-27T12:27:21.211Z"
   },
   {
    "duration": 4,
    "start_time": "2023-02-27T12:27:21.216Z"
   },
   {
    "duration": 3,
    "start_time": "2023-02-27T12:27:21.222Z"
   },
   {
    "duration": 18,
    "start_time": "2023-02-27T12:27:21.227Z"
   },
   {
    "duration": 22,
    "start_time": "2023-02-27T12:27:21.246Z"
   },
   {
    "duration": 8,
    "start_time": "2023-02-27T12:27:21.269Z"
   },
   {
    "duration": 7,
    "start_time": "2023-02-27T12:27:21.278Z"
   },
   {
    "duration": 18,
    "start_time": "2023-02-27T12:27:21.286Z"
   },
   {
    "duration": 212,
    "start_time": "2023-02-27T12:27:21.305Z"
   },
   {
    "duration": 0,
    "start_time": "2023-02-27T12:27:21.518Z"
   },
   {
    "duration": 0,
    "start_time": "2023-02-27T12:27:21.520Z"
   },
   {
    "duration": 0,
    "start_time": "2023-02-27T12:27:21.522Z"
   },
   {
    "duration": 0,
    "start_time": "2023-02-27T12:27:21.524Z"
   },
   {
    "duration": 0,
    "start_time": "2023-02-27T12:27:21.525Z"
   },
   {
    "duration": 0,
    "start_time": "2023-02-27T12:27:21.526Z"
   },
   {
    "duration": 67,
    "start_time": "2023-02-27T12:28:03.223Z"
   },
   {
    "duration": 1404,
    "start_time": "2023-02-27T12:28:20.921Z"
   },
   {
    "duration": 51,
    "start_time": "2023-02-27T12:28:22.327Z"
   },
   {
    "duration": 12,
    "start_time": "2023-02-27T12:28:22.380Z"
   },
   {
    "duration": 20,
    "start_time": "2023-02-27T12:28:22.393Z"
   },
   {
    "duration": 7,
    "start_time": "2023-02-27T12:28:22.415Z"
   },
   {
    "duration": 333,
    "start_time": "2023-02-27T12:28:22.423Z"
   },
   {
    "duration": 279,
    "start_time": "2023-02-27T12:28:22.758Z"
   },
   {
    "duration": 3,
    "start_time": "2023-02-27T12:28:23.039Z"
   },
   {
    "duration": 11,
    "start_time": "2023-02-27T12:28:23.043Z"
   },
   {
    "duration": 273,
    "start_time": "2023-02-27T12:28:23.056Z"
   },
   {
    "duration": 308,
    "start_time": "2023-02-27T12:28:23.330Z"
   },
   {
    "duration": 272,
    "start_time": "2023-02-27T12:28:23.639Z"
   },
   {
    "duration": 190,
    "start_time": "2023-02-27T12:28:23.913Z"
   },
   {
    "duration": 174,
    "start_time": "2023-02-27T12:28:24.105Z"
   },
   {
    "duration": 185,
    "start_time": "2023-02-27T12:28:24.281Z"
   },
   {
    "duration": 387,
    "start_time": "2023-02-27T12:28:24.468Z"
   },
   {
    "duration": 396,
    "start_time": "2023-02-27T12:28:24.857Z"
   },
   {
    "duration": 347,
    "start_time": "2023-02-27T12:28:25.255Z"
   },
   {
    "duration": 7,
    "start_time": "2023-02-27T12:28:25.603Z"
   },
   {
    "duration": 6,
    "start_time": "2023-02-27T12:28:25.611Z"
   },
   {
    "duration": 4,
    "start_time": "2023-02-27T12:28:25.618Z"
   },
   {
    "duration": 3,
    "start_time": "2023-02-27T12:28:25.624Z"
   },
   {
    "duration": 3,
    "start_time": "2023-02-27T12:28:25.629Z"
   },
   {
    "duration": 9,
    "start_time": "2023-02-27T12:28:25.634Z"
   },
   {
    "duration": 5,
    "start_time": "2023-02-27T12:28:25.644Z"
   },
   {
    "duration": 10,
    "start_time": "2023-02-27T12:28:25.650Z"
   },
   {
    "duration": 4,
    "start_time": "2023-02-27T12:28:25.662Z"
   },
   {
    "duration": 4,
    "start_time": "2023-02-27T12:28:25.670Z"
   },
   {
    "duration": 3,
    "start_time": "2023-02-27T12:28:25.676Z"
   },
   {
    "duration": 5,
    "start_time": "2023-02-27T12:28:25.681Z"
   },
   {
    "duration": 4,
    "start_time": "2023-02-27T12:28:25.687Z"
   },
   {
    "duration": 18,
    "start_time": "2023-02-27T12:28:25.692Z"
   },
   {
    "duration": 6,
    "start_time": "2023-02-27T12:28:25.712Z"
   },
   {
    "duration": 10,
    "start_time": "2023-02-27T12:28:25.719Z"
   },
   {
    "duration": 15,
    "start_time": "2023-02-27T12:28:25.730Z"
   },
   {
    "duration": 6,
    "start_time": "2023-02-27T12:28:25.747Z"
   },
   {
    "duration": 177,
    "start_time": "2023-02-27T12:28:25.754Z"
   },
   {
    "duration": 0,
    "start_time": "2023-02-27T12:28:25.933Z"
   },
   {
    "duration": 0,
    "start_time": "2023-02-27T12:28:25.934Z"
   },
   {
    "duration": 0,
    "start_time": "2023-02-27T12:28:25.935Z"
   },
   {
    "duration": 0,
    "start_time": "2023-02-27T12:28:25.936Z"
   },
   {
    "duration": 0,
    "start_time": "2023-02-27T12:28:25.938Z"
   },
   {
    "duration": 0,
    "start_time": "2023-02-27T12:28:25.939Z"
   },
   {
    "duration": 0,
    "start_time": "2023-02-27T12:28:25.940Z"
   },
   {
    "duration": 0,
    "start_time": "2023-02-27T12:28:25.941Z"
   },
   {
    "duration": 4,
    "start_time": "2023-02-27T12:29:45.560Z"
   },
   {
    "duration": 6,
    "start_time": "2023-02-27T12:29:47.208Z"
   },
   {
    "duration": 5,
    "start_time": "2023-02-27T12:29:47.863Z"
   },
   {
    "duration": 56,
    "start_time": "2023-02-27T12:29:48.579Z"
   },
   {
    "duration": 6,
    "start_time": "2023-02-27T12:30:21.186Z"
   },
   {
    "duration": 4,
    "start_time": "2023-02-27T12:30:34.492Z"
   },
   {
    "duration": 69,
    "start_time": "2023-02-27T12:30:37.067Z"
   },
   {
    "duration": 12,
    "start_time": "2023-02-27T12:31:46.220Z"
   },
   {
    "duration": 774,
    "start_time": "2023-02-27T12:32:20.535Z"
   },
   {
    "duration": 0,
    "start_time": "2023-02-27T12:32:21.311Z"
   },
   {
    "duration": 5,
    "start_time": "2023-02-27T12:33:28.768Z"
   },
   {
    "duration": 51,
    "start_time": "2023-02-27T12:33:30.192Z"
   },
   {
    "duration": 708,
    "start_time": "2023-02-27T12:33:37.722Z"
   },
   {
    "duration": 1387,
    "start_time": "2023-02-27T12:33:53.428Z"
   },
   {
    "duration": 50,
    "start_time": "2023-02-27T12:33:54.818Z"
   },
   {
    "duration": 797,
    "start_time": "2023-02-27T12:33:54.870Z"
   },
   {
    "duration": 0,
    "start_time": "2023-02-27T12:33:55.671Z"
   },
   {
    "duration": 0,
    "start_time": "2023-02-27T12:33:55.672Z"
   },
   {
    "duration": 0,
    "start_time": "2023-02-27T12:33:55.674Z"
   },
   {
    "duration": 0,
    "start_time": "2023-02-27T12:33:55.675Z"
   },
   {
    "duration": 0,
    "start_time": "2023-02-27T12:33:55.676Z"
   },
   {
    "duration": 0,
    "start_time": "2023-02-27T12:33:55.677Z"
   },
   {
    "duration": 0,
    "start_time": "2023-02-27T12:33:55.678Z"
   },
   {
    "duration": 0,
    "start_time": "2023-02-27T12:33:55.679Z"
   },
   {
    "duration": 0,
    "start_time": "2023-02-27T12:33:55.680Z"
   },
   {
    "duration": 0,
    "start_time": "2023-02-27T12:33:55.681Z"
   },
   {
    "duration": 0,
    "start_time": "2023-02-27T12:33:55.682Z"
   },
   {
    "duration": 0,
    "start_time": "2023-02-27T12:33:55.683Z"
   },
   {
    "duration": 0,
    "start_time": "2023-02-27T12:33:55.684Z"
   },
   {
    "duration": 0,
    "start_time": "2023-02-27T12:33:55.685Z"
   },
   {
    "duration": 0,
    "start_time": "2023-02-27T12:33:55.686Z"
   },
   {
    "duration": 0,
    "start_time": "2023-02-27T12:33:55.687Z"
   },
   {
    "duration": 0,
    "start_time": "2023-02-27T12:33:55.688Z"
   },
   {
    "duration": 0,
    "start_time": "2023-02-27T12:33:55.689Z"
   },
   {
    "duration": 0,
    "start_time": "2023-02-27T12:33:55.689Z"
   },
   {
    "duration": 0,
    "start_time": "2023-02-27T12:33:55.690Z"
   },
   {
    "duration": 0,
    "start_time": "2023-02-27T12:33:55.691Z"
   },
   {
    "duration": 0,
    "start_time": "2023-02-27T12:33:55.692Z"
   },
   {
    "duration": 0,
    "start_time": "2023-02-27T12:33:55.693Z"
   },
   {
    "duration": 0,
    "start_time": "2023-02-27T12:33:55.694Z"
   },
   {
    "duration": 0,
    "start_time": "2023-02-27T12:33:55.695Z"
   },
   {
    "duration": 0,
    "start_time": "2023-02-27T12:33:55.696Z"
   },
   {
    "duration": 0,
    "start_time": "2023-02-27T12:33:55.697Z"
   },
   {
    "duration": 0,
    "start_time": "2023-02-27T12:33:55.698Z"
   },
   {
    "duration": 0,
    "start_time": "2023-02-27T12:33:55.699Z"
   },
   {
    "duration": 0,
    "start_time": "2023-02-27T12:33:55.700Z"
   },
   {
    "duration": 0,
    "start_time": "2023-02-27T12:33:55.701Z"
   },
   {
    "duration": 0,
    "start_time": "2023-02-27T12:33:55.702Z"
   },
   {
    "duration": 0,
    "start_time": "2023-02-27T12:33:55.703Z"
   },
   {
    "duration": 0,
    "start_time": "2023-02-27T12:33:55.703Z"
   },
   {
    "duration": 0,
    "start_time": "2023-02-27T12:33:55.705Z"
   },
   {
    "duration": 0,
    "start_time": "2023-02-27T12:33:55.706Z"
   },
   {
    "duration": 0,
    "start_time": "2023-02-27T12:33:55.707Z"
   },
   {
    "duration": 0,
    "start_time": "2023-02-27T12:33:55.709Z"
   },
   {
    "duration": 0,
    "start_time": "2023-02-27T12:33:55.710Z"
   },
   {
    "duration": 0,
    "start_time": "2023-02-27T12:33:55.711Z"
   },
   {
    "duration": 0,
    "start_time": "2023-02-27T12:33:55.712Z"
   },
   {
    "duration": 0,
    "start_time": "2023-02-27T12:33:55.713Z"
   },
   {
    "duration": 0,
    "start_time": "2023-02-27T12:33:55.713Z"
   },
   {
    "duration": 0,
    "start_time": "2023-02-27T12:33:55.714Z"
   },
   {
    "duration": 3,
    "start_time": "2023-02-27T12:36:42.454Z"
   },
   {
    "duration": 3,
    "start_time": "2023-02-27T12:36:53.693Z"
   },
   {
    "duration": 684,
    "start_time": "2023-02-27T12:37:45.003Z"
   },
   {
    "duration": 12,
    "start_time": "2023-02-27T12:46:49.350Z"
   },
   {
    "duration": 1339,
    "start_time": "2023-02-27T12:53:48.206Z"
   },
   {
    "duration": 52,
    "start_time": "2023-02-27T12:53:49.547Z"
   },
   {
    "duration": 11,
    "start_time": "2023-02-27T12:53:49.600Z"
   },
   {
    "duration": 750,
    "start_time": "2023-02-27T12:53:49.613Z"
   },
   {
    "duration": 0,
    "start_time": "2023-02-27T12:53:50.368Z"
   },
   {
    "duration": 0,
    "start_time": "2023-02-27T12:53:50.369Z"
   },
   {
    "duration": 0,
    "start_time": "2023-02-27T12:53:50.370Z"
   },
   {
    "duration": 0,
    "start_time": "2023-02-27T12:53:50.372Z"
   },
   {
    "duration": 0,
    "start_time": "2023-02-27T12:53:50.373Z"
   },
   {
    "duration": 0,
    "start_time": "2023-02-27T12:53:50.374Z"
   },
   {
    "duration": 0,
    "start_time": "2023-02-27T12:53:50.376Z"
   },
   {
    "duration": 0,
    "start_time": "2023-02-27T12:53:50.376Z"
   },
   {
    "duration": 0,
    "start_time": "2023-02-27T12:53:50.378Z"
   },
   {
    "duration": 0,
    "start_time": "2023-02-27T12:53:50.379Z"
   },
   {
    "duration": 0,
    "start_time": "2023-02-27T12:53:50.380Z"
   },
   {
    "duration": 0,
    "start_time": "2023-02-27T12:53:50.381Z"
   },
   {
    "duration": 0,
    "start_time": "2023-02-27T12:53:50.383Z"
   },
   {
    "duration": 0,
    "start_time": "2023-02-27T12:53:50.384Z"
   },
   {
    "duration": 0,
    "start_time": "2023-02-27T12:53:50.385Z"
   },
   {
    "duration": 0,
    "start_time": "2023-02-27T12:53:50.386Z"
   },
   {
    "duration": 0,
    "start_time": "2023-02-27T12:53:50.387Z"
   },
   {
    "duration": 0,
    "start_time": "2023-02-27T12:53:50.388Z"
   },
   {
    "duration": 0,
    "start_time": "2023-02-27T12:53:50.389Z"
   },
   {
    "duration": 0,
    "start_time": "2023-02-27T12:53:50.391Z"
   },
   {
    "duration": 0,
    "start_time": "2023-02-27T12:53:50.392Z"
   },
   {
    "duration": 0,
    "start_time": "2023-02-27T12:53:50.393Z"
   },
   {
    "duration": 0,
    "start_time": "2023-02-27T12:53:50.394Z"
   },
   {
    "duration": 0,
    "start_time": "2023-02-27T12:53:50.395Z"
   },
   {
    "duration": 0,
    "start_time": "2023-02-27T12:53:50.396Z"
   },
   {
    "duration": 0,
    "start_time": "2023-02-27T12:53:50.397Z"
   },
   {
    "duration": 0,
    "start_time": "2023-02-27T12:53:50.398Z"
   },
   {
    "duration": 0,
    "start_time": "2023-02-27T12:53:50.399Z"
   },
   {
    "duration": 0,
    "start_time": "2023-02-27T12:53:50.400Z"
   },
   {
    "duration": 0,
    "start_time": "2023-02-27T12:53:50.402Z"
   },
   {
    "duration": 0,
    "start_time": "2023-02-27T12:53:50.409Z"
   },
   {
    "duration": 0,
    "start_time": "2023-02-27T12:53:50.410Z"
   },
   {
    "duration": 0,
    "start_time": "2023-02-27T12:53:50.412Z"
   },
   {
    "duration": 0,
    "start_time": "2023-02-27T12:53:50.413Z"
   },
   {
    "duration": 0,
    "start_time": "2023-02-27T12:53:50.415Z"
   },
   {
    "duration": 0,
    "start_time": "2023-02-27T12:53:50.416Z"
   },
   {
    "duration": 0,
    "start_time": "2023-02-27T12:53:50.417Z"
   },
   {
    "duration": 0,
    "start_time": "2023-02-27T12:53:50.418Z"
   },
   {
    "duration": 0,
    "start_time": "2023-02-27T12:53:50.420Z"
   },
   {
    "duration": 0,
    "start_time": "2023-02-27T12:53:50.421Z"
   },
   {
    "duration": 0,
    "start_time": "2023-02-27T12:53:50.422Z"
   },
   {
    "duration": 0,
    "start_time": "2023-02-27T12:53:50.423Z"
   },
   {
    "duration": 0,
    "start_time": "2023-02-27T12:53:50.425Z"
   },
   {
    "duration": 0,
    "start_time": "2023-02-27T12:53:50.426Z"
   },
   {
    "duration": 3,
    "start_time": "2023-02-27T12:55:00.319Z"
   },
   {
    "duration": 1374,
    "start_time": "2023-02-27T12:56:05.675Z"
   },
   {
    "duration": 51,
    "start_time": "2023-02-27T12:56:07.051Z"
   },
   {
    "duration": 11,
    "start_time": "2023-02-27T12:56:07.103Z"
   },
   {
    "duration": 5,
    "start_time": "2023-02-27T12:56:07.115Z"
   },
   {
    "duration": 3,
    "start_time": "2023-02-27T12:56:07.122Z"
   },
   {
    "duration": 338,
    "start_time": "2023-02-27T12:56:07.126Z"
   },
   {
    "duration": 197,
    "start_time": "2023-02-27T12:56:07.466Z"
   },
   {
    "duration": 2,
    "start_time": "2023-02-27T12:56:07.665Z"
   },
   {
    "duration": 7,
    "start_time": "2023-02-27T12:56:07.668Z"
   },
   {
    "duration": 252,
    "start_time": "2023-02-27T12:56:07.676Z"
   },
   {
    "duration": 359,
    "start_time": "2023-02-27T12:56:07.930Z"
   },
   {
    "duration": 257,
    "start_time": "2023-02-27T12:56:08.290Z"
   },
   {
    "duration": 177,
    "start_time": "2023-02-27T12:56:08.549Z"
   },
   {
    "duration": 178,
    "start_time": "2023-02-27T12:56:08.729Z"
   },
   {
    "duration": 185,
    "start_time": "2023-02-27T12:56:08.909Z"
   },
   {
    "duration": 318,
    "start_time": "2023-02-27T12:56:09.096Z"
   },
   {
    "duration": 386,
    "start_time": "2023-02-27T12:56:09.415Z"
   },
   {
    "duration": 395,
    "start_time": "2023-02-27T12:56:09.809Z"
   },
   {
    "duration": 5,
    "start_time": "2023-02-27T12:56:10.206Z"
   },
   {
    "duration": 2,
    "start_time": "2023-02-27T12:56:10.212Z"
   },
   {
    "duration": 8,
    "start_time": "2023-02-27T12:56:10.216Z"
   },
   {
    "duration": 6,
    "start_time": "2023-02-27T12:56:10.225Z"
   },
   {
    "duration": 6,
    "start_time": "2023-02-27T12:56:10.233Z"
   },
   {
    "duration": 17,
    "start_time": "2023-02-27T12:56:10.241Z"
   },
   {
    "duration": 4,
    "start_time": "2023-02-27T12:56:10.259Z"
   },
   {
    "duration": 4,
    "start_time": "2023-02-27T12:56:10.264Z"
   },
   {
    "duration": 4,
    "start_time": "2023-02-27T12:56:10.269Z"
   },
   {
    "duration": 4,
    "start_time": "2023-02-27T12:56:10.275Z"
   },
   {
    "duration": 6,
    "start_time": "2023-02-27T12:56:10.280Z"
   },
   {
    "duration": 4,
    "start_time": "2023-02-27T12:56:10.287Z"
   },
   {
    "duration": 3,
    "start_time": "2023-02-27T12:56:10.292Z"
   },
   {
    "duration": 4,
    "start_time": "2023-02-27T12:56:10.297Z"
   },
   {
    "duration": 2,
    "start_time": "2023-02-27T12:56:10.310Z"
   },
   {
    "duration": 5,
    "start_time": "2023-02-27T12:56:10.313Z"
   },
   {
    "duration": 8,
    "start_time": "2023-02-27T12:56:10.319Z"
   },
   {
    "duration": 5,
    "start_time": "2023-02-27T12:56:10.328Z"
   },
   {
    "duration": 186,
    "start_time": "2023-02-27T12:56:10.334Z"
   },
   {
    "duration": 0,
    "start_time": "2023-02-27T12:56:10.522Z"
   },
   {
    "duration": 0,
    "start_time": "2023-02-27T12:56:10.523Z"
   },
   {
    "duration": 0,
    "start_time": "2023-02-27T12:56:10.524Z"
   },
   {
    "duration": 0,
    "start_time": "2023-02-27T12:56:10.526Z"
   },
   {
    "duration": 0,
    "start_time": "2023-02-27T12:56:10.527Z"
   },
   {
    "duration": 0,
    "start_time": "2023-02-27T12:56:10.528Z"
   },
   {
    "duration": 0,
    "start_time": "2023-02-27T12:56:10.529Z"
   },
   {
    "duration": 0,
    "start_time": "2023-02-27T12:56:10.530Z"
   },
   {
    "duration": 1344,
    "start_time": "2023-02-27T12:56:38.277Z"
   },
   {
    "duration": 50,
    "start_time": "2023-02-27T12:56:39.624Z"
   },
   {
    "duration": 13,
    "start_time": "2023-02-27T12:56:39.676Z"
   },
   {
    "duration": 6,
    "start_time": "2023-02-27T12:56:39.691Z"
   },
   {
    "duration": 4,
    "start_time": "2023-02-27T12:56:39.698Z"
   },
   {
    "duration": 329,
    "start_time": "2023-02-27T12:56:39.703Z"
   },
   {
    "duration": 195,
    "start_time": "2023-02-27T12:56:40.034Z"
   },
   {
    "duration": 2,
    "start_time": "2023-02-27T12:56:40.232Z"
   },
   {
    "duration": 5,
    "start_time": "2023-02-27T12:56:40.236Z"
   },
   {
    "duration": 249,
    "start_time": "2023-02-27T12:56:40.243Z"
   },
   {
    "duration": 356,
    "start_time": "2023-02-27T12:56:40.493Z"
   },
   {
    "duration": 252,
    "start_time": "2023-02-27T12:56:40.851Z"
   },
   {
    "duration": 179,
    "start_time": "2023-02-27T12:56:41.109Z"
   },
   {
    "duration": 190,
    "start_time": "2023-02-27T12:56:41.290Z"
   },
   {
    "duration": 184,
    "start_time": "2023-02-27T12:56:41.482Z"
   },
   {
    "duration": 303,
    "start_time": "2023-02-27T12:56:41.668Z"
   },
   {
    "duration": 399,
    "start_time": "2023-02-27T12:56:41.972Z"
   },
   {
    "duration": 405,
    "start_time": "2023-02-27T12:56:42.372Z"
   },
   {
    "duration": 2,
    "start_time": "2023-02-27T12:56:42.779Z"
   },
   {
    "duration": 10,
    "start_time": "2023-02-27T12:56:42.782Z"
   },
   {
    "duration": 6,
    "start_time": "2023-02-27T12:56:42.793Z"
   },
   {
    "duration": 3,
    "start_time": "2023-02-27T12:56:42.809Z"
   },
   {
    "duration": 6,
    "start_time": "2023-02-27T12:56:42.813Z"
   },
   {
    "duration": 7,
    "start_time": "2023-02-27T12:56:42.820Z"
   },
   {
    "duration": 5,
    "start_time": "2023-02-27T12:56:42.829Z"
   },
   {
    "duration": 4,
    "start_time": "2023-02-27T12:56:42.836Z"
   },
   {
    "duration": 4,
    "start_time": "2023-02-27T12:56:42.841Z"
   },
   {
    "duration": 4,
    "start_time": "2023-02-27T12:56:42.849Z"
   },
   {
    "duration": 5,
    "start_time": "2023-02-27T12:56:42.855Z"
   },
   {
    "duration": 12,
    "start_time": "2023-02-27T12:56:42.861Z"
   },
   {
    "duration": 6,
    "start_time": "2023-02-27T12:56:42.874Z"
   },
   {
    "duration": 5,
    "start_time": "2023-02-27T12:56:42.881Z"
   },
   {
    "duration": 4,
    "start_time": "2023-02-27T12:56:42.887Z"
   },
   {
    "duration": 19,
    "start_time": "2023-02-27T12:56:42.892Z"
   },
   {
    "duration": 8,
    "start_time": "2023-02-27T12:56:42.913Z"
   },
   {
    "duration": 4,
    "start_time": "2023-02-27T12:56:42.923Z"
   },
   {
    "duration": 5,
    "start_time": "2023-02-27T12:56:42.928Z"
   },
   {
    "duration": 217,
    "start_time": "2023-02-27T12:56:42.934Z"
   },
   {
    "duration": 0,
    "start_time": "2023-02-27T12:56:43.153Z"
   },
   {
    "duration": 0,
    "start_time": "2023-02-27T12:56:43.154Z"
   },
   {
    "duration": 0,
    "start_time": "2023-02-27T12:56:43.155Z"
   },
   {
    "duration": 0,
    "start_time": "2023-02-27T12:56:43.156Z"
   },
   {
    "duration": 0,
    "start_time": "2023-02-27T12:56:43.157Z"
   },
   {
    "duration": 0,
    "start_time": "2023-02-27T12:56:43.158Z"
   },
   {
    "duration": 3,
    "start_time": "2023-02-27T13:11:22.183Z"
   },
   {
    "duration": 118,
    "start_time": "2023-02-27T13:11:28.349Z"
   },
   {
    "duration": 49,
    "start_time": "2023-02-27T13:11:56.185Z"
   },
   {
    "duration": 2,
    "start_time": "2023-02-27T13:12:16.995Z"
   },
   {
    "duration": 16034,
    "start_time": "2023-02-27T13:14:20.177Z"
   },
   {
    "duration": 97,
    "start_time": "2023-02-27T13:14:36.212Z"
   },
   {
    "duration": 51,
    "start_time": "2023-02-27T13:14:36.311Z"
   },
   {
    "duration": 5,
    "start_time": "2023-02-27T13:14:36.363Z"
   },
   {
    "duration": 6,
    "start_time": "2023-02-27T13:14:36.369Z"
   },
   {
    "duration": 272,
    "start_time": "2023-02-27T13:14:39.161Z"
   },
   {
    "duration": 198,
    "start_time": "2023-02-27T13:14:40.689Z"
   },
   {
    "duration": 2,
    "start_time": "2023-02-27T13:14:41.749Z"
   },
   {
    "duration": 2,
    "start_time": "2023-02-27T13:14:42.848Z"
   },
   {
    "duration": 246,
    "start_time": "2023-02-27T13:14:44.253Z"
   },
   {
    "duration": 293,
    "start_time": "2023-02-27T13:14:44.743Z"
   },
   {
    "duration": 277,
    "start_time": "2023-02-27T13:14:45.269Z"
   },
   {
    "duration": 258,
    "start_time": "2023-02-27T13:14:45.892Z"
   },
   {
    "duration": 177,
    "start_time": "2023-02-27T13:14:46.465Z"
   },
   {
    "duration": 173,
    "start_time": "2023-02-27T13:14:46.989Z"
   },
   {
    "duration": 314,
    "start_time": "2023-02-27T13:14:47.451Z"
   },
   {
    "duration": 385,
    "start_time": "2023-02-27T13:14:47.946Z"
   },
   {
    "duration": 331,
    "start_time": "2023-02-27T13:14:48.462Z"
   },
   {
    "duration": 1342,
    "start_time": "2023-02-27T13:14:48.969Z"
   },
   {
    "duration": 26,
    "start_time": "2023-02-27T13:15:16.312Z"
   },
   {
    "duration": 22,
    "start_time": "2023-02-27T13:16:11.676Z"
   },
   {
    "duration": 43,
    "start_time": "2023-02-27T13:25:21.466Z"
   },
   {
    "duration": 124,
    "start_time": "2023-02-27T13:25:30.014Z"
   },
   {
    "duration": 228,
    "start_time": "2023-02-27T13:25:36.810Z"
   },
   {
    "duration": 119,
    "start_time": "2023-02-27T13:27:12.269Z"
   },
   {
    "duration": 247,
    "start_time": "2023-02-27T13:27:21.321Z"
   },
   {
    "duration": 947,
    "start_time": "2023-02-27T13:28:41.734Z"
   },
   {
    "duration": 184,
    "start_time": "2023-02-27T13:29:56.806Z"
   },
   {
    "duration": 158,
    "start_time": "2023-02-27T13:30:56.849Z"
   },
   {
    "duration": 4,
    "start_time": "2023-02-27T13:33:32.053Z"
   },
   {
    "duration": 18,
    "start_time": "2023-02-27T13:33:52.695Z"
   },
   {
    "duration": 5,
    "start_time": "2023-02-27T13:34:12.381Z"
   },
   {
    "duration": 14,
    "start_time": "2023-02-27T13:34:12.887Z"
   },
   {
    "duration": 4,
    "start_time": "2023-02-27T13:34:31.125Z"
   },
   {
    "duration": 21,
    "start_time": "2023-02-27T13:34:31.727Z"
   },
   {
    "duration": 7,
    "start_time": "2023-02-27T13:35:18.103Z"
   },
   {
    "duration": 4,
    "start_time": "2023-02-27T13:35:42.035Z"
   },
   {
    "duration": 2,
    "start_time": "2023-02-27T13:36:24.521Z"
   },
   {
    "duration": 4,
    "start_time": "2023-02-27T13:37:06.311Z"
   },
   {
    "duration": 15,
    "start_time": "2023-02-27T13:37:55.455Z"
   },
   {
    "duration": 4,
    "start_time": "2023-02-27T13:38:49.796Z"
   },
   {
    "duration": 92,
    "start_time": "2023-02-27T13:39:00.803Z"
   },
   {
    "duration": 93,
    "start_time": "2023-02-27T13:39:24.217Z"
   },
   {
    "duration": 14424,
    "start_time": "2023-02-27T13:41:02.389Z"
   },
   {
    "duration": 6717,
    "start_time": "2023-02-27T13:42:54.194Z"
   },
   {
    "duration": 10,
    "start_time": "2023-02-27T13:43:46.017Z"
   },
   {
    "duration": 1287,
    "start_time": "2023-02-27T13:51:25.030Z"
   },
   {
    "duration": 859,
    "start_time": "2023-02-27T13:52:17.052Z"
   },
   {
    "duration": 661,
    "start_time": "2023-02-27T13:53:04.153Z"
   },
   {
    "duration": 47,
    "start_time": "2023-02-27T13:53:57.622Z"
   },
   {
    "duration": 1846,
    "start_time": "2023-02-27T13:54:54.568Z"
   },
   {
    "duration": 1397,
    "start_time": "2023-02-27T13:58:30.048Z"
   },
   {
    "duration": 51,
    "start_time": "2023-02-27T13:58:31.447Z"
   },
   {
    "duration": 6,
    "start_time": "2023-02-27T13:58:31.500Z"
   },
   {
    "duration": 7,
    "start_time": "2023-02-27T13:58:31.508Z"
   },
   {
    "duration": 265,
    "start_time": "2023-02-27T13:58:31.517Z"
   },
   {
    "duration": 341,
    "start_time": "2023-02-27T13:58:31.784Z"
   },
   {
    "duration": 1040,
    "start_time": "2023-02-27T13:58:32.127Z"
   },
   {
    "duration": 196,
    "start_time": "2023-02-27T13:58:33.169Z"
   },
   {
    "duration": 168,
    "start_time": "2023-02-27T13:58:33.367Z"
   },
   {
    "duration": 0,
    "start_time": "2023-02-27T13:58:33.538Z"
   },
   {
    "duration": 0,
    "start_time": "2023-02-27T13:58:33.539Z"
   },
   {
    "duration": 0,
    "start_time": "2023-02-27T13:58:33.540Z"
   },
   {
    "duration": 0,
    "start_time": "2023-02-27T13:58:33.542Z"
   },
   {
    "duration": 0,
    "start_time": "2023-02-27T13:58:33.543Z"
   },
   {
    "duration": 0,
    "start_time": "2023-02-27T13:58:33.544Z"
   },
   {
    "duration": 0,
    "start_time": "2023-02-27T13:58:33.545Z"
   },
   {
    "duration": 0,
    "start_time": "2023-02-27T13:58:33.546Z"
   },
   {
    "duration": 0,
    "start_time": "2023-02-27T13:58:33.547Z"
   },
   {
    "duration": 0,
    "start_time": "2023-02-27T13:58:33.548Z"
   },
   {
    "duration": 0,
    "start_time": "2023-02-27T13:58:33.549Z"
   },
   {
    "duration": 1503,
    "start_time": "2023-02-27T14:00:14.232Z"
   },
   {
    "duration": 49,
    "start_time": "2023-02-27T14:00:15.739Z"
   },
   {
    "duration": 6,
    "start_time": "2023-02-27T14:00:15.790Z"
   },
   {
    "duration": 3,
    "start_time": "2023-02-27T14:00:15.798Z"
   },
   {
    "duration": 305,
    "start_time": "2023-02-27T14:00:15.802Z"
   },
   {
    "duration": 328,
    "start_time": "2023-02-27T14:00:16.108Z"
   },
   {
    "duration": 993,
    "start_time": "2023-02-27T14:00:16.438Z"
   },
   {
    "duration": 170,
    "start_time": "2023-02-27T14:00:17.435Z"
   },
   {
    "duration": 145,
    "start_time": "2023-02-27T14:00:17.619Z"
   },
   {
    "duration": 0,
    "start_time": "2023-02-27T14:00:17.766Z"
   },
   {
    "duration": 0,
    "start_time": "2023-02-27T14:00:17.767Z"
   },
   {
    "duration": 0,
    "start_time": "2023-02-27T14:00:17.769Z"
   },
   {
    "duration": 0,
    "start_time": "2023-02-27T14:00:17.770Z"
   },
   {
    "duration": 0,
    "start_time": "2023-02-27T14:00:17.771Z"
   },
   {
    "duration": 0,
    "start_time": "2023-02-27T14:00:17.772Z"
   },
   {
    "duration": 0,
    "start_time": "2023-02-27T14:00:17.773Z"
   },
   {
    "duration": 0,
    "start_time": "2023-02-27T14:00:17.775Z"
   },
   {
    "duration": 0,
    "start_time": "2023-02-27T14:00:17.776Z"
   },
   {
    "duration": 0,
    "start_time": "2023-02-27T14:00:17.777Z"
   },
   {
    "duration": 0,
    "start_time": "2023-02-27T14:00:17.778Z"
   },
   {
    "duration": 1430,
    "start_time": "2023-02-27T14:00:53.137Z"
   },
   {
    "duration": 63,
    "start_time": "2023-02-27T14:00:54.569Z"
   },
   {
    "duration": 9,
    "start_time": "2023-02-27T14:00:54.634Z"
   },
   {
    "duration": 3,
    "start_time": "2023-02-27T14:00:54.645Z"
   },
   {
    "duration": 290,
    "start_time": "2023-02-27T14:00:54.650Z"
   },
   {
    "duration": 339,
    "start_time": "2023-02-27T14:00:54.941Z"
   },
   {
    "duration": 1079,
    "start_time": "2023-02-27T14:00:55.282Z"
   },
   {
    "duration": 188,
    "start_time": "2023-02-27T14:00:56.362Z"
   },
   {
    "duration": 217,
    "start_time": "2023-02-27T14:00:56.552Z"
   },
   {
    "duration": 5,
    "start_time": "2023-02-27T14:00:56.771Z"
   },
   {
    "duration": 53,
    "start_time": "2023-02-27T14:00:56.778Z"
   },
   {
    "duration": 9,
    "start_time": "2023-02-27T14:00:56.833Z"
   },
   {
    "duration": 35,
    "start_time": "2023-02-27T14:00:56.844Z"
   },
   {
    "duration": 18,
    "start_time": "2023-02-27T14:00:56.882Z"
   },
   {
    "duration": 49,
    "start_time": "2023-02-27T14:00:56.901Z"
   },
   {
    "duration": 126,
    "start_time": "2023-02-27T14:00:56.952Z"
   },
   {
    "duration": 2,
    "start_time": "2023-02-27T14:00:57.079Z"
   },
   {
    "duration": 1478234,
    "start_time": "2023-02-27T14:00:57.083Z"
   },
   {
    "duration": 137103,
    "start_time": "2023-02-27T14:25:35.319Z"
   },
   {
    "duration": 4,
    "start_time": "2023-02-27T14:42:01.715Z"
   },
   {
    "duration": 21,
    "start_time": "2023-02-27T14:42:02.848Z"
   },
   {
    "duration": 7,
    "start_time": "2023-02-27T14:42:05.598Z"
   },
   {
    "duration": 5,
    "start_time": "2023-02-27T14:42:05.916Z"
   },
   {
    "duration": 3,
    "start_time": "2023-02-27T14:42:06.413Z"
   },
   {
    "duration": 4,
    "start_time": "2023-02-27T14:42:06.877Z"
   },
   {
    "duration": 89,
    "start_time": "2023-02-27T14:42:07.833Z"
   },
   {
    "duration": 2,
    "start_time": "2023-02-27T14:42:08.301Z"
   },
   {
    "duration": 6754,
    "start_time": "2023-02-27T14:42:10.662Z"
   },
   {
    "duration": 698,
    "start_time": "2023-02-27T14:42:17.418Z"
   },
   {
    "duration": 4,
    "start_time": "2023-02-27T15:06:34.182Z"
   },
   {
    "duration": 19,
    "start_time": "2023-02-27T15:06:34.910Z"
   },
   {
    "duration": 7,
    "start_time": "2023-02-27T15:06:36.586Z"
   },
   {
    "duration": 5,
    "start_time": "2023-02-27T15:06:37.523Z"
   },
   {
    "duration": 3,
    "start_time": "2023-02-27T15:06:38.055Z"
   },
   {
    "duration": 4,
    "start_time": "2023-02-27T15:06:38.592Z"
   },
   {
    "duration": 88,
    "start_time": "2023-02-27T15:06:40.031Z"
   },
   {
    "duration": 2,
    "start_time": "2023-02-27T15:06:41.503Z"
   },
   {
    "duration": 7411,
    "start_time": "2023-02-27T15:06:43.505Z"
   },
   {
    "duration": 795,
    "start_time": "2023-02-27T15:06:50.918Z"
   },
   {
    "duration": 1376,
    "start_time": "2023-02-27T15:06:54.014Z"
   },
   {
    "duration": 53,
    "start_time": "2023-02-27T15:06:55.391Z"
   },
   {
    "duration": 6,
    "start_time": "2023-02-27T15:06:55.446Z"
   },
   {
    "duration": 3,
    "start_time": "2023-02-27T15:06:55.455Z"
   },
   {
    "duration": 263,
    "start_time": "2023-02-27T15:06:55.459Z"
   },
   {
    "duration": 300,
    "start_time": "2023-02-27T15:06:55.724Z"
   },
   {
    "duration": 965,
    "start_time": "2023-02-27T15:06:56.026Z"
   },
   {
    "duration": 171,
    "start_time": "2023-02-27T15:06:56.993Z"
   },
   {
    "duration": 182,
    "start_time": "2023-02-27T15:06:57.166Z"
   },
   {
    "duration": 4,
    "start_time": "2023-02-27T15:06:57.351Z"
   },
   {
    "duration": 26,
    "start_time": "2023-02-27T15:06:57.356Z"
   },
   {
    "duration": 6,
    "start_time": "2023-02-27T15:06:57.384Z"
   },
   {
    "duration": 18,
    "start_time": "2023-02-27T15:06:57.392Z"
   },
   {
    "duration": 5,
    "start_time": "2023-02-27T15:06:57.411Z"
   },
   {
    "duration": 12,
    "start_time": "2023-02-27T15:06:57.418Z"
   },
   {
    "duration": 99,
    "start_time": "2023-02-27T15:06:57.431Z"
   },
   {
    "duration": 3,
    "start_time": "2023-02-27T15:06:57.531Z"
   },
   {
    "duration": 6474,
    "start_time": "2023-02-27T15:06:57.535Z"
   },
   {
    "duration": 806,
    "start_time": "2023-02-27T15:07:04.011Z"
   },
   {
    "duration": 4,
    "start_time": "2023-02-27T15:57:09.198Z"
   },
   {
    "duration": 5798,
    "start_time": "2023-02-28T05:58:48.045Z"
   },
   {
    "duration": 138,
    "start_time": "2023-02-28T05:58:53.845Z"
   },
   {
    "duration": 7,
    "start_time": "2023-02-28T05:58:53.985Z"
   },
   {
    "duration": 15,
    "start_time": "2023-02-28T05:58:53.994Z"
   },
   {
    "duration": 277,
    "start_time": "2023-02-28T05:58:54.011Z"
   },
   {
    "duration": 369,
    "start_time": "2023-02-28T05:58:54.290Z"
   },
   {
    "duration": 939,
    "start_time": "2023-02-28T05:58:54.661Z"
   },
   {
    "duration": 190,
    "start_time": "2023-02-28T05:58:55.601Z"
   },
   {
    "duration": 195,
    "start_time": "2023-02-28T05:58:55.792Z"
   },
   {
    "duration": 4,
    "start_time": "2023-02-28T05:58:55.991Z"
   },
   {
    "duration": 41,
    "start_time": "2023-02-28T05:58:55.997Z"
   },
   {
    "duration": 8,
    "start_time": "2023-02-28T05:58:56.040Z"
   },
   {
    "duration": 16,
    "start_time": "2023-02-28T05:58:56.049Z"
   },
   {
    "duration": 9,
    "start_time": "2023-02-28T05:58:56.067Z"
   },
   {
    "duration": 10,
    "start_time": "2023-02-28T05:58:56.077Z"
   },
   {
    "duration": 117,
    "start_time": "2023-02-28T05:58:56.089Z"
   },
   {
    "duration": 3,
    "start_time": "2023-02-28T05:58:56.208Z"
   },
   {
    "duration": 7034,
    "start_time": "2023-02-28T05:58:56.213Z"
   },
   {
    "duration": 796,
    "start_time": "2023-02-28T05:59:03.249Z"
   },
   {
    "duration": 14,
    "start_time": "2023-02-28T06:00:32.356Z"
   },
   {
    "duration": 14,
    "start_time": "2023-02-28T06:00:48.049Z"
   },
   {
    "duration": 56,
    "start_time": "2023-02-28T08:39:58.742Z"
   },
   {
    "duration": 2253,
    "start_time": "2023-02-28T08:40:07.477Z"
   },
   {
    "duration": 162,
    "start_time": "2023-02-28T08:40:09.733Z"
   },
   {
    "duration": 7,
    "start_time": "2023-02-28T08:40:09.896Z"
   },
   {
    "duration": 6,
    "start_time": "2023-02-28T08:40:09.904Z"
   },
   {
    "duration": 287,
    "start_time": "2023-02-28T08:40:09.911Z"
   },
   {
    "duration": 391,
    "start_time": "2023-02-28T08:40:10.199Z"
   },
   {
    "duration": 1029,
    "start_time": "2023-02-28T08:40:10.592Z"
   },
   {
    "duration": 184,
    "start_time": "2023-02-28T08:40:11.622Z"
   },
   {
    "duration": 188,
    "start_time": "2023-02-28T08:40:11.808Z"
   },
   {
    "duration": 4,
    "start_time": "2023-02-28T08:40:11.999Z"
   },
   {
    "duration": 28,
    "start_time": "2023-02-28T08:40:12.004Z"
   },
   {
    "duration": 8,
    "start_time": "2023-02-28T08:40:12.033Z"
   },
   {
    "duration": 14,
    "start_time": "2023-02-28T08:40:12.042Z"
   },
   {
    "duration": 5,
    "start_time": "2023-02-28T08:40:12.058Z"
   },
   {
    "duration": 8,
    "start_time": "2023-02-28T08:40:12.064Z"
   },
   {
    "duration": 3481,
    "start_time": "2023-02-28T08:40:12.073Z"
   },
   {
    "duration": 5,
    "start_time": "2023-02-28T08:40:15.556Z"
   },
   {
    "duration": 12707,
    "start_time": "2023-02-28T08:40:15.653Z"
   },
   {
    "duration": 1594,
    "start_time": "2023-02-28T08:40:28.362Z"
   },
   {
    "duration": 137,
    "start_time": "2023-02-28T08:41:59.818Z"
   },
   {
    "duration": 1391,
    "start_time": "2023-04-04T05:43:58.060Z"
   },
   {
    "duration": 131,
    "start_time": "2023-04-04T05:44:03.076Z"
   },
   {
    "duration": 4,
    "start_time": "2023-04-04T05:44:07.412Z"
   },
   {
    "duration": 11,
    "start_time": "2023-04-04T05:44:08.581Z"
   },
   {
    "duration": 11,
    "start_time": "2023-04-04T05:44:09.716Z"
   },
   {
    "duration": 9,
    "start_time": "2023-04-04T05:44:10.772Z"
   },
   {
    "duration": 9,
    "start_time": "2023-04-04T05:44:16.085Z"
   },
   {
    "duration": 7,
    "start_time": "2023-04-04T05:44:20.197Z"
   },
   {
    "duration": 9,
    "start_time": "2023-04-04T05:44:23.254Z"
   },
   {
    "duration": 10,
    "start_time": "2023-04-04T05:44:25.011Z"
   },
   {
    "duration": 2,
    "start_time": "2023-04-04T05:44:28.724Z"
   },
   {
    "duration": 310,
    "start_time": "2023-04-04T05:44:48.453Z"
   },
   {
    "duration": 3,
    "start_time": "2023-04-04T05:44:52.823Z"
   },
   {
    "duration": 4,
    "start_time": "2023-04-04T05:44:53.284Z"
   },
   {
    "duration": 134,
    "start_time": "2023-04-04T05:44:53.828Z"
   },
   {
    "duration": 138,
    "start_time": "2023-04-04T05:44:54.181Z"
   },
   {
    "duration": 216,
    "start_time": "2023-04-04T05:44:54.360Z"
   },
   {
    "duration": 159,
    "start_time": "2023-04-04T05:44:54.693Z"
   },
   {
    "duration": 4,
    "start_time": "2023-04-04T05:44:55.477Z"
   },
   {
    "duration": 4,
    "start_time": "2023-04-04T05:44:55.646Z"
   },
   {
    "duration": 21,
    "start_time": "2023-04-04T05:44:55.796Z"
   },
   {
    "duration": 12,
    "start_time": "2023-04-04T05:44:55.972Z"
   },
   {
    "duration": 6,
    "start_time": "2023-04-04T05:44:56.132Z"
   },
   {
    "duration": 1557,
    "start_time": "2023-04-04T05:44:56.692Z"
   },
   {
    "duration": 184,
    "start_time": "2023-04-04T05:44:58.253Z"
   },
   {
    "duration": 0,
    "start_time": "2023-04-04T05:44:58.440Z"
   },
   {
    "duration": 0,
    "start_time": "2023-04-04T05:44:58.442Z"
   },
   {
    "duration": 9,
    "start_time": "2023-04-04T05:44:58.467Z"
   },
   {
    "duration": 36,
    "start_time": "2023-04-04T05:44:58.805Z"
   },
   {
    "duration": 169,
    "start_time": "2023-04-04T05:45:24.278Z"
   },
   {
    "duration": 138,
    "start_time": "2023-04-04T05:45:31.908Z"
   },
   {
    "duration": 1413,
    "start_time": "2023-04-04T05:46:06.658Z"
   },
   {
    "duration": 42,
    "start_time": "2023-04-04T05:46:08.072Z"
   },
   {
    "duration": 3,
    "start_time": "2023-04-04T05:46:08.116Z"
   },
   {
    "duration": 20,
    "start_time": "2023-04-04T05:46:08.120Z"
   },
   {
    "duration": 13,
    "start_time": "2023-04-04T05:46:08.144Z"
   },
   {
    "duration": 15,
    "start_time": "2023-04-04T05:46:08.158Z"
   },
   {
    "duration": 25,
    "start_time": "2023-04-04T05:46:08.174Z"
   },
   {
    "duration": 8,
    "start_time": "2023-04-04T05:46:08.201Z"
   },
   {
    "duration": 8,
    "start_time": "2023-04-04T05:46:08.210Z"
   },
   {
    "duration": 8,
    "start_time": "2023-04-04T05:46:08.220Z"
   },
   {
    "duration": 2,
    "start_time": "2023-04-04T05:46:08.229Z"
   },
   {
    "duration": 331,
    "start_time": "2023-04-04T05:46:08.232Z"
   },
   {
    "duration": 4,
    "start_time": "2023-04-04T05:46:08.565Z"
   },
   {
    "duration": 6,
    "start_time": "2023-04-04T05:46:08.571Z"
   },
   {
    "duration": 131,
    "start_time": "2023-04-04T05:46:08.578Z"
   },
   {
    "duration": 0,
    "start_time": "2023-04-04T05:46:08.711Z"
   },
   {
    "duration": 0,
    "start_time": "2023-04-04T05:46:08.712Z"
   },
   {
    "duration": 0,
    "start_time": "2023-04-04T05:46:08.713Z"
   },
   {
    "duration": 0,
    "start_time": "2023-04-04T05:46:08.714Z"
   },
   {
    "duration": 0,
    "start_time": "2023-04-04T05:46:08.715Z"
   },
   {
    "duration": 0,
    "start_time": "2023-04-04T05:46:08.716Z"
   },
   {
    "duration": 0,
    "start_time": "2023-04-04T05:46:08.716Z"
   },
   {
    "duration": 0,
    "start_time": "2023-04-04T05:46:08.717Z"
   },
   {
    "duration": 0,
    "start_time": "2023-04-04T05:46:08.718Z"
   },
   {
    "duration": 0,
    "start_time": "2023-04-04T05:46:08.719Z"
   },
   {
    "duration": 0,
    "start_time": "2023-04-04T05:46:08.738Z"
   },
   {
    "duration": 0,
    "start_time": "2023-04-04T05:46:08.739Z"
   },
   {
    "duration": 0,
    "start_time": "2023-04-04T05:46:08.740Z"
   },
   {
    "duration": 0,
    "start_time": "2023-04-04T05:46:08.741Z"
   },
   {
    "duration": 264,
    "start_time": "2023-04-04T05:52:57.882Z"
   },
   {
    "duration": 285,
    "start_time": "2023-04-04T05:53:02.169Z"
   },
   {
    "duration": 311,
    "start_time": "2023-04-04T05:54:20.554Z"
   },
   {
    "duration": 810,
    "start_time": "2023-04-04T05:56:43.882Z"
   },
   {
    "duration": 907,
    "start_time": "2023-04-04T06:02:41.748Z"
   },
   {
    "duration": 975,
    "start_time": "2023-04-04T06:03:04.204Z"
   },
   {
    "duration": 913,
    "start_time": "2023-04-04T06:03:17.835Z"
   },
   {
    "duration": 314,
    "start_time": "2023-04-04T06:04:44.077Z"
   },
   {
    "duration": 226,
    "start_time": "2023-04-04T06:06:44.380Z"
   },
   {
    "duration": 240,
    "start_time": "2023-04-04T06:06:46.684Z"
   },
   {
    "duration": 215,
    "start_time": "2023-04-04T06:06:48.848Z"
   },
   {
    "duration": 132,
    "start_time": "2023-04-04T06:07:04.877Z"
   },
   {
    "duration": 120,
    "start_time": "2023-04-04T06:07:06.752Z"
   },
   {
    "duration": 178,
    "start_time": "2023-04-04T06:07:25.412Z"
   },
   {
    "duration": 166,
    "start_time": "2023-04-04T06:07:49.156Z"
   },
   {
    "duration": 169,
    "start_time": "2023-04-04T06:07:57.542Z"
   },
   {
    "duration": 167,
    "start_time": "2023-04-04T06:08:06.620Z"
   },
   {
    "duration": 4,
    "start_time": "2023-04-04T06:08:09.484Z"
   },
   {
    "duration": 5,
    "start_time": "2023-04-04T06:08:10.846Z"
   },
   {
    "duration": 25,
    "start_time": "2023-04-04T06:08:13.954Z"
   },
   {
    "duration": 15,
    "start_time": "2023-04-04T06:08:14.329Z"
   },
   {
    "duration": 7,
    "start_time": "2023-04-04T06:08:15.357Z"
   },
   {
    "duration": 1034,
    "start_time": "2023-04-04T06:08:18.216Z"
   },
   {
    "duration": 75,
    "start_time": "2023-04-04T06:08:22.324Z"
   },
   {
    "duration": 2964,
    "start_time": "2023-04-04T06:08:31.774Z"
   },
   {
    "duration": 738406,
    "start_time": "2023-04-04T06:08:34.741Z"
   },
   {
    "duration": 0,
    "start_time": "2023-04-04T06:20:53.148Z"
   },
   {
    "duration": 1,
    "start_time": "2023-04-04T06:20:53.149Z"
   },
   {
    "duration": 0,
    "start_time": "2023-04-04T06:20:53.151Z"
   },
   {
    "duration": 20,
    "start_time": "2023-04-04T06:21:11.224Z"
   },
   {
    "duration": 12,
    "start_time": "2023-04-04T06:23:19.748Z"
   },
   {
    "duration": 11,
    "start_time": "2023-04-04T06:24:09.112Z"
   },
   {
    "duration": 12,
    "start_time": "2023-04-04T06:27:48.024Z"
   },
   {
    "duration": 11,
    "start_time": "2023-04-04T06:33:04.412Z"
   },
   {
    "duration": 216,
    "start_time": "2023-04-04T06:40:28.428Z"
   },
   {
    "duration": 174,
    "start_time": "2023-04-04T06:40:49.379Z"
   },
   {
    "duration": 12,
    "start_time": "2023-04-04T06:46:58.822Z"
   },
   {
    "duration": 12,
    "start_time": "2023-04-04T06:47:32.009Z"
   },
   {
    "duration": 8,
    "start_time": "2023-04-04T06:47:40.949Z"
   },
   {
    "duration": 5,
    "start_time": "2023-04-04T06:47:54.901Z"
   },
   {
    "duration": 6,
    "start_time": "2023-04-04T06:48:39.847Z"
   },
   {
    "duration": 200,
    "start_time": "2023-04-04T06:49:02.166Z"
   },
   {
    "duration": 221,
    "start_time": "2023-04-04T06:49:19.285Z"
   },
   {
    "duration": 180,
    "start_time": "2023-04-04T06:52:47.382Z"
   },
   {
    "duration": 561,
    "start_time": "2023-04-04T06:54:16.183Z"
   },
   {
    "duration": 318,
    "start_time": "2023-04-04T06:54:25.817Z"
   },
   {
    "duration": 554,
    "start_time": "2023-04-04T06:54:50.326Z"
   },
   {
    "duration": 448,
    "start_time": "2023-04-04T06:55:02.759Z"
   },
   {
    "duration": 1668,
    "start_time": "2023-04-04T06:56:17.387Z"
   },
   {
    "duration": 45,
    "start_time": "2023-04-04T06:56:19.057Z"
   },
   {
    "duration": 5,
    "start_time": "2023-04-04T06:56:19.104Z"
   },
   {
    "duration": 28,
    "start_time": "2023-04-04T06:56:19.111Z"
   },
   {
    "duration": 15,
    "start_time": "2023-04-04T06:56:19.141Z"
   },
   {
    "duration": 8,
    "start_time": "2023-04-04T06:56:19.158Z"
   },
   {
    "duration": 14,
    "start_time": "2023-04-04T06:56:19.167Z"
   },
   {
    "duration": 9,
    "start_time": "2023-04-04T06:56:19.183Z"
   },
   {
    "duration": 43,
    "start_time": "2023-04-04T06:56:19.194Z"
   },
   {
    "duration": 15,
    "start_time": "2023-04-04T06:56:19.239Z"
   },
   {
    "duration": 27,
    "start_time": "2023-04-04T06:56:19.257Z"
   },
   {
    "duration": 412,
    "start_time": "2023-04-04T06:56:19.287Z"
   },
   {
    "duration": 4,
    "start_time": "2023-04-04T06:56:19.702Z"
   },
   {
    "duration": 11,
    "start_time": "2023-04-04T06:56:19.710Z"
   },
   {
    "duration": 338,
    "start_time": "2023-04-04T06:56:19.723Z"
   },
   {
    "duration": 265,
    "start_time": "2023-04-04T06:56:20.063Z"
   },
   {
    "duration": 356,
    "start_time": "2023-04-04T06:56:20.330Z"
   },
   {
    "duration": 5,
    "start_time": "2023-04-04T06:56:20.688Z"
   },
   {
    "duration": 326,
    "start_time": "2023-04-04T06:56:20.695Z"
   },
   {
    "duration": 530,
    "start_time": "2023-04-04T06:56:21.023Z"
   },
   {
    "duration": 240,
    "start_time": "2023-04-04T06:56:21.555Z"
   },
   {
    "duration": 5,
    "start_time": "2023-04-04T06:56:21.797Z"
   },
   {
    "duration": 10,
    "start_time": "2023-04-04T06:56:21.804Z"
   },
   {
    "duration": 46,
    "start_time": "2023-04-04T06:56:21.815Z"
   },
   {
    "duration": 13,
    "start_time": "2023-04-04T06:56:21.863Z"
   },
   {
    "duration": 7,
    "start_time": "2023-04-04T06:56:21.878Z"
   },
   {
    "duration": 1548,
    "start_time": "2023-04-04T06:56:21.886Z"
   },
   {
    "duration": 3336,
    "start_time": "2023-04-04T06:56:23.436Z"
   },
   {
    "duration": 459512,
    "start_time": "2023-04-04T06:56:26.774Z"
   },
   {
    "duration": 0,
    "start_time": "2023-04-04T07:04:06.288Z"
   },
   {
    "duration": 0,
    "start_time": "2023-04-04T07:04:06.290Z"
   },
   {
    "duration": 0,
    "start_time": "2023-04-04T07:04:06.291Z"
   },
   {
    "duration": 227,
    "start_time": "2023-04-04T07:04:19.857Z"
   },
   {
    "duration": 311,
    "start_time": "2023-04-04T07:04:35.196Z"
   },
   {
    "duration": 650,
    "start_time": "2023-04-04T07:06:13.963Z"
   },
   {
    "duration": 232,
    "start_time": "2023-04-04T07:07:55.516Z"
   },
   {
    "duration": 194,
    "start_time": "2023-04-04T07:08:07.916Z"
   },
   {
    "duration": 219,
    "start_time": "2023-04-04T07:08:19.788Z"
   },
   {
    "duration": 67758,
    "start_time": "2023-04-04T07:14:43.390Z"
   },
   {
    "duration": 271,
    "start_time": "2023-04-04T07:17:31.008Z"
   },
   {
    "duration": 216,
    "start_time": "2023-04-04T07:17:42.014Z"
   },
   {
    "duration": 234,
    "start_time": "2023-04-04T07:17:47.022Z"
   },
   {
    "duration": 158,
    "start_time": "2023-04-04T07:18:03.983Z"
   },
   {
    "duration": 235,
    "start_time": "2023-04-04T07:18:30.302Z"
   },
   {
    "duration": 207,
    "start_time": "2023-04-04T07:18:35.391Z"
   },
   {
    "duration": 152,
    "start_time": "2023-04-04T07:18:42.552Z"
   },
   {
    "duration": 234,
    "start_time": "2023-04-04T07:18:56.174Z"
   },
   {
    "duration": 132,
    "start_time": "2023-04-04T07:19:43.646Z"
   },
   {
    "duration": 258,
    "start_time": "2023-04-04T07:21:35.855Z"
   },
   {
    "duration": 226,
    "start_time": "2023-04-04T07:23:36.858Z"
   },
   {
    "duration": 171,
    "start_time": "2023-04-04T07:23:56.815Z"
   },
   {
    "duration": 19,
    "start_time": "2023-04-04T07:25:58.079Z"
   },
   {
    "duration": 140,
    "start_time": "2023-04-04T07:28:11.361Z"
   },
   {
    "duration": 253,
    "start_time": "2023-04-04T07:30:47.536Z"
   },
   {
    "duration": 433,
    "start_time": "2023-04-04T07:31:07.283Z"
   },
   {
    "duration": 134,
    "start_time": "2023-04-04T07:42:07.157Z"
   },
   {
    "duration": 3,
    "start_time": "2023-04-04T07:53:00.426Z"
   },
   {
    "duration": 9,
    "start_time": "2023-04-04T07:56:06.583Z"
   },
   {
    "duration": 5,
    "start_time": "2023-04-04T07:56:07.542Z"
   },
   {
    "duration": 7,
    "start_time": "2023-04-04T07:56:17.240Z"
   },
   {
    "duration": 23,
    "start_time": "2023-04-04T07:56:17.845Z"
   },
   {
    "duration": 14,
    "start_time": "2023-04-04T07:56:18.742Z"
   },
   {
    "duration": 6,
    "start_time": "2023-04-04T07:56:27.879Z"
   },
   {
    "duration": 49,
    "start_time": "2023-04-04T07:56:56.025Z"
   },
   {
    "duration": 19,
    "start_time": "2023-04-04T07:58:15.111Z"
   },
   {
    "duration": 11,
    "start_time": "2023-04-04T07:58:24.817Z"
   },
   {
    "duration": 29,
    "start_time": "2023-04-04T07:58:32.183Z"
   },
   {
    "duration": 4,
    "start_time": "2023-04-04T07:59:46.417Z"
   },
   {
    "duration": 29,
    "start_time": "2023-04-04T07:59:47.123Z"
   },
   {
    "duration": 27,
    "start_time": "2023-04-04T08:04:28.619Z"
   },
   {
    "duration": 11,
    "start_time": "2023-04-04T08:04:36.316Z"
   },
   {
    "duration": 6,
    "start_time": "2023-04-04T08:04:38.359Z"
   },
   {
    "duration": 108,
    "start_time": "2023-04-04T08:05:58.744Z"
   },
   {
    "duration": 53,
    "start_time": "2023-04-04T08:06:25.355Z"
   },
   {
    "duration": 959,
    "start_time": "2023-04-04T08:17:24.428Z"
   },
   {
    "duration": 3,
    "start_time": "2023-04-04T08:19:44.115Z"
   },
   {
    "duration": 251478,
    "start_time": "2023-04-04T08:19:51.676Z"
   },
   {
    "duration": 1495,
    "start_time": "2023-04-04T08:36:18.171Z"
   },
   {
    "duration": 44,
    "start_time": "2023-04-04T08:36:19.668Z"
   },
   {
    "duration": 5,
    "start_time": "2023-04-04T08:36:19.713Z"
   },
   {
    "duration": 29,
    "start_time": "2023-04-04T08:36:19.719Z"
   },
   {
    "duration": 16,
    "start_time": "2023-04-04T08:36:19.750Z"
   },
   {
    "duration": 6,
    "start_time": "2023-04-04T08:36:19.768Z"
   },
   {
    "duration": 10,
    "start_time": "2023-04-04T08:36:19.776Z"
   },
   {
    "duration": 10,
    "start_time": "2023-04-04T08:36:19.788Z"
   },
   {
    "duration": 13,
    "start_time": "2023-04-04T08:36:19.800Z"
   },
   {
    "duration": 28,
    "start_time": "2023-04-04T08:36:19.815Z"
   },
   {
    "duration": 8,
    "start_time": "2023-04-04T08:36:19.847Z"
   },
   {
    "duration": 362,
    "start_time": "2023-04-04T08:36:19.857Z"
   },
   {
    "duration": 4,
    "start_time": "2023-04-04T08:36:20.221Z"
   },
   {
    "duration": 38,
    "start_time": "2023-04-04T08:36:20.227Z"
   },
   {
    "duration": 346,
    "start_time": "2023-04-04T08:36:20.267Z"
   },
   {
    "duration": 269,
    "start_time": "2023-04-04T08:36:20.614Z"
   },
   {
    "duration": 283,
    "start_time": "2023-04-04T08:36:20.885Z"
   },
   {
    "duration": 5,
    "start_time": "2023-04-04T08:36:21.170Z"
   },
   {
    "duration": 224,
    "start_time": "2023-04-04T08:36:21.177Z"
   },
   {
    "duration": 185,
    "start_time": "2023-04-04T08:36:21.403Z"
   },
   {
    "duration": 5,
    "start_time": "2023-04-04T08:36:21.589Z"
   },
   {
    "duration": 18,
    "start_time": "2023-04-04T08:36:21.596Z"
   },
   {
    "duration": 45,
    "start_time": "2023-04-04T08:36:21.616Z"
   },
   {
    "duration": 10,
    "start_time": "2023-04-04T08:36:21.663Z"
   },
   {
    "duration": 5,
    "start_time": "2023-04-04T08:36:21.675Z"
   },
   {
    "duration": 74,
    "start_time": "2023-04-04T08:36:21.681Z"
   },
   {
    "duration": 1014,
    "start_time": "2023-04-04T08:36:21.757Z"
   },
   {
    "duration": 27007,
    "start_time": "2023-04-04T08:36:22.773Z"
   },
   {
    "duration": 365030,
    "start_time": "2023-04-04T08:36:49.781Z"
   },
   {
    "duration": 109791,
    "start_time": "2023-04-04T08:42:54.813Z"
   },
   {
    "duration": 0,
    "start_time": "2023-04-04T08:44:44.606Z"
   },
   {
    "duration": 0,
    "start_time": "2023-04-04T08:44:44.607Z"
   },
   {
    "duration": 1,
    "start_time": "2023-04-04T08:44:44.609Z"
   },
   {
    "duration": 0,
    "start_time": "2023-04-04T08:44:44.611Z"
   },
   {
    "duration": 0,
    "start_time": "2023-04-04T08:44:44.612Z"
   },
   {
    "duration": 0,
    "start_time": "2023-04-04T08:44:44.614Z"
   },
   {
    "duration": 1577,
    "start_time": "2023-04-04T08:45:12.173Z"
   },
   {
    "duration": 46,
    "start_time": "2023-04-04T08:45:13.752Z"
   },
   {
    "duration": 4,
    "start_time": "2023-04-04T08:45:13.799Z"
   },
   {
    "duration": 27,
    "start_time": "2023-04-04T08:45:13.805Z"
   },
   {
    "duration": 21,
    "start_time": "2023-04-04T08:45:13.834Z"
   },
   {
    "duration": 10,
    "start_time": "2023-04-04T08:45:13.857Z"
   },
   {
    "duration": 15,
    "start_time": "2023-04-04T08:45:13.868Z"
   },
   {
    "duration": 12,
    "start_time": "2023-04-04T08:45:13.886Z"
   },
   {
    "duration": 17,
    "start_time": "2023-04-04T08:45:13.901Z"
   },
   {
    "duration": 32,
    "start_time": "2023-04-04T08:45:13.920Z"
   },
   {
    "duration": 23,
    "start_time": "2023-04-04T08:45:13.953Z"
   },
   {
    "duration": 373,
    "start_time": "2023-04-04T08:45:13.978Z"
   },
   {
    "duration": 3,
    "start_time": "2023-04-04T08:45:14.354Z"
   },
   {
    "duration": 7,
    "start_time": "2023-04-04T08:45:14.361Z"
   },
   {
    "duration": 386,
    "start_time": "2023-04-04T08:45:14.370Z"
   },
   {
    "duration": 300,
    "start_time": "2023-04-04T08:45:14.760Z"
   },
   {
    "duration": 255,
    "start_time": "2023-04-04T08:45:15.062Z"
   },
   {
    "duration": 5,
    "start_time": "2023-04-04T08:45:15.318Z"
   },
   {
    "duration": 233,
    "start_time": "2023-04-04T08:45:15.339Z"
   },
   {
    "duration": 183,
    "start_time": "2023-04-04T08:45:15.573Z"
   },
   {
    "duration": 5,
    "start_time": "2023-04-04T08:45:15.758Z"
   },
   {
    "duration": 7,
    "start_time": "2023-04-04T08:45:15.765Z"
   },
   {
    "duration": 25,
    "start_time": "2023-04-04T08:45:15.773Z"
   },
   {
    "duration": 10,
    "start_time": "2023-04-04T08:45:15.801Z"
   },
   {
    "duration": 6,
    "start_time": "2023-04-04T08:45:15.813Z"
   },
   {
    "duration": 60,
    "start_time": "2023-04-04T08:45:15.841Z"
   },
   {
    "duration": 1087,
    "start_time": "2023-04-04T08:45:15.937Z"
   },
   {
    "duration": 29041,
    "start_time": "2023-04-04T08:45:17.026Z"
   },
   {
    "duration": 324755,
    "start_time": "2023-04-04T08:45:46.069Z"
   },
   {
    "duration": 144,
    "start_time": "2023-04-04T08:51:10.826Z"
   },
   {
    "duration": 0,
    "start_time": "2023-04-04T08:51:10.973Z"
   },
   {
    "duration": 0,
    "start_time": "2023-04-04T08:51:10.975Z"
   },
   {
    "duration": 0,
    "start_time": "2023-04-04T08:51:10.976Z"
   },
   {
    "duration": 0,
    "start_time": "2023-04-04T08:51:10.978Z"
   },
   {
    "duration": 0,
    "start_time": "2023-04-04T08:51:10.980Z"
   },
   {
    "duration": 6,
    "start_time": "2023-04-04T08:52:25.841Z"
   },
   {
    "duration": 9,
    "start_time": "2023-04-04T08:53:25.505Z"
   },
   {
    "duration": 13,
    "start_time": "2023-04-04T08:54:20.705Z"
   },
   {
    "duration": 11,
    "start_time": "2023-04-04T08:54:26.866Z"
   },
   {
    "duration": 12,
    "start_time": "2023-04-04T08:54:35.196Z"
   },
   {
    "duration": 10,
    "start_time": "2023-04-04T08:54:36.449Z"
   },
   {
    "duration": 17,
    "start_time": "2023-04-04T08:54:39.732Z"
   },
   {
    "duration": 1162,
    "start_time": "2023-04-04T08:56:51.314Z"
   },
   {
    "duration": 13,
    "start_time": "2023-04-04T08:59:18.895Z"
   },
   {
    "duration": 1225,
    "start_time": "2023-04-04T08:59:31.194Z"
   },
   {
    "duration": 1227,
    "start_time": "2023-04-04T09:00:01.315Z"
   },
   {
    "duration": 3,
    "start_time": "2023-04-04T09:00:04.965Z"
   },
   {
    "duration": 4,
    "start_time": "2023-04-04T09:00:27.059Z"
   },
   {
    "duration": 405,
    "start_time": "2023-04-04T09:00:40.819Z"
   },
   {
    "duration": 249,
    "start_time": "2023-04-04T09:02:40.755Z"
   },
   {
    "duration": 357,
    "start_time": "2023-04-04T09:04:15.158Z"
   },
   {
    "duration": 340,
    "start_time": "2023-04-04T09:04:33.428Z"
   },
   {
    "duration": 416,
    "start_time": "2023-04-04T09:04:52.037Z"
   },
   {
    "duration": 386,
    "start_time": "2023-04-04T09:05:22.102Z"
   },
   {
    "duration": 335,
    "start_time": "2023-04-04T09:06:15.908Z"
   },
   {
    "duration": 372,
    "start_time": "2023-04-04T09:07:31.172Z"
   },
   {
    "duration": 463,
    "start_time": "2023-04-04T09:07:45.092Z"
   },
   {
    "duration": 338,
    "start_time": "2023-04-04T09:08:24.261Z"
   },
   {
    "duration": 335,
    "start_time": "2023-04-04T09:08:53.607Z"
   },
   {
    "duration": 335,
    "start_time": "2023-04-04T09:09:31.799Z"
   },
   {
    "duration": 343,
    "start_time": "2023-04-04T09:11:25.046Z"
   },
   {
    "duration": 293,
    "start_time": "2023-04-04T09:13:31.525Z"
   },
   {
    "duration": 390,
    "start_time": "2023-04-04T09:13:48.407Z"
   },
   {
    "duration": 342,
    "start_time": "2023-04-04T09:14:10.150Z"
   },
   {
    "duration": 333,
    "start_time": "2023-04-04T09:14:29.558Z"
   },
   {
    "duration": 9,
    "start_time": "2023-04-04T09:21:59.816Z"
   },
   {
    "duration": 8,
    "start_time": "2023-04-04T09:22:08.009Z"
   },
   {
    "duration": 9,
    "start_time": "2023-04-04T09:22:19.643Z"
   },
   {
    "duration": 1568,
    "start_time": "2023-04-04T09:28:19.366Z"
   },
   {
    "duration": 54,
    "start_time": "2023-04-04T09:28:20.937Z"
   },
   {
    "duration": 5,
    "start_time": "2023-04-04T09:28:20.994Z"
   },
   {
    "duration": 41,
    "start_time": "2023-04-04T09:28:21.001Z"
   },
   {
    "duration": 27,
    "start_time": "2023-04-04T09:28:21.045Z"
   },
   {
    "duration": 9,
    "start_time": "2023-04-04T09:28:21.074Z"
   },
   {
    "duration": 13,
    "start_time": "2023-04-04T09:28:21.085Z"
   },
   {
    "duration": 33,
    "start_time": "2023-04-04T09:28:21.100Z"
   },
   {
    "duration": 12,
    "start_time": "2023-04-04T09:28:21.135Z"
   },
   {
    "duration": 18,
    "start_time": "2023-04-04T09:28:21.149Z"
   },
   {
    "duration": 391,
    "start_time": "2023-04-04T09:28:21.169Z"
   },
   {
    "duration": 7,
    "start_time": "2023-04-04T09:28:21.563Z"
   },
   {
    "duration": 8,
    "start_time": "2023-04-04T09:28:21.572Z"
   },
   {
    "duration": 7,
    "start_time": "2023-04-04T09:28:21.584Z"
   },
   {
    "duration": 341,
    "start_time": "2023-04-04T09:28:21.593Z"
   },
   {
    "duration": 261,
    "start_time": "2023-04-04T09:28:21.936Z"
   },
   {
    "duration": 269,
    "start_time": "2023-04-04T09:28:22.199Z"
   },
   {
    "duration": 7,
    "start_time": "2023-04-04T09:28:22.470Z"
   },
   {
    "duration": 213,
    "start_time": "2023-04-04T09:28:22.479Z"
   },
   {
    "duration": 176,
    "start_time": "2023-04-04T09:28:22.694Z"
   },
   {
    "duration": 6,
    "start_time": "2023-04-04T09:28:22.872Z"
   },
   {
    "duration": 20,
    "start_time": "2023-04-04T09:28:22.879Z"
   },
   {
    "duration": 44,
    "start_time": "2023-04-04T09:28:22.900Z"
   },
   {
    "duration": 11,
    "start_time": "2023-04-04T09:28:22.946Z"
   },
   {
    "duration": 9,
    "start_time": "2023-04-04T09:28:22.958Z"
   },
   {
    "duration": 78,
    "start_time": "2023-04-04T09:28:22.968Z"
   },
   {
    "duration": 1003,
    "start_time": "2023-04-04T09:28:23.048Z"
   },
   {
    "duration": 26712,
    "start_time": "2023-04-04T09:28:24.053Z"
   },
   {
    "duration": 320542,
    "start_time": "2023-04-04T09:28:50.767Z"
   },
   {
    "duration": 10,
    "start_time": "2023-04-04T09:34:11.311Z"
   },
   {
    "duration": 1130,
    "start_time": "2023-04-04T09:34:11.323Z"
   },
   {
    "duration": 3,
    "start_time": "2023-04-04T09:34:12.455Z"
   },
   {
    "duration": 12,
    "start_time": "2023-04-04T09:34:12.460Z"
   },
   {
    "duration": 398,
    "start_time": "2023-04-04T09:34:12.474Z"
   },
   {
    "duration": 132,
    "start_time": "2023-04-04T09:34:12.874Z"
   },
   {
    "duration": 5,
    "start_time": "2023-04-04T10:35:22.572Z"
   },
   {
    "duration": 39,
    "start_time": "2023-04-04T10:35:23.420Z"
   },
   {
    "duration": 3,
    "start_time": "2023-04-04T10:35:24.324Z"
   },
   {
    "duration": 14,
    "start_time": "2023-04-04T10:35:24.669Z"
   },
   {
    "duration": 8,
    "start_time": "2023-04-04T10:35:24.925Z"
   },
   {
    "duration": 8,
    "start_time": "2023-04-04T10:35:25.164Z"
   },
   {
    "duration": 9,
    "start_time": "2023-04-04T10:35:26.028Z"
   },
   {
    "duration": 7,
    "start_time": "2023-04-04T10:35:26.491Z"
   },
   {
    "duration": 9,
    "start_time": "2023-04-04T10:35:27.547Z"
   },
   {
    "duration": 12,
    "start_time": "2023-04-04T10:35:27.932Z"
   },
   {
    "duration": 413,
    "start_time": "2023-04-04T10:35:30.188Z"
   },
   {
    "duration": 7,
    "start_time": "2023-04-04T10:35:31.740Z"
   },
   {
    "duration": 4,
    "start_time": "2023-04-04T10:35:32.876Z"
   },
   {
    "duration": 4,
    "start_time": "2023-04-04T10:35:33.533Z"
   },
   {
    "duration": 224,
    "start_time": "2023-04-04T10:35:35.676Z"
   },
   {
    "duration": 286,
    "start_time": "2023-04-04T10:35:37.357Z"
   },
   {
    "duration": 242,
    "start_time": "2023-04-04T10:35:39.932Z"
   },
   {
    "duration": 6,
    "start_time": "2023-04-04T10:35:46.140Z"
   },
   {
    "duration": 247,
    "start_time": "2023-04-04T10:35:46.827Z"
   },
   {
    "duration": 8,
    "start_time": "2023-04-04T10:35:48.428Z"
   },
   {
    "duration": 202,
    "start_time": "2023-04-04T10:35:49.852Z"
   },
   {
    "duration": 6,
    "start_time": "2023-04-04T10:36:46.732Z"
   },
   {
    "duration": 158,
    "start_time": "2023-04-04T10:36:47.740Z"
   },
   {
    "duration": 5,
    "start_time": "2023-04-04T10:40:03.550Z"
   },
   {
    "duration": 215,
    "start_time": "2023-04-04T10:40:22.319Z"
   },
   {
    "duration": 4,
    "start_time": "2023-04-04T10:40:57.034Z"
   },
   {
    "duration": 6,
    "start_time": "2023-04-04T10:41:17.039Z"
   },
   {
    "duration": 187,
    "start_time": "2023-04-04T10:41:36.959Z"
   },
   {
    "duration": 138,
    "start_time": "2023-04-04T10:47:04.960Z"
   },
   {
    "duration": 1069,
    "start_time": "2023-04-04T10:56:33.970Z"
   },
   {
    "duration": 936,
    "start_time": "2023-04-04T10:57:09.107Z"
   },
   {
    "duration": 1579,
    "start_time": "2023-04-04T10:58:56.932Z"
   },
   {
    "duration": 43,
    "start_time": "2023-04-04T10:58:58.513Z"
   },
   {
    "duration": 4,
    "start_time": "2023-04-04T10:58:58.558Z"
   },
   {
    "duration": 20,
    "start_time": "2023-04-04T10:58:58.563Z"
   },
   {
    "duration": 16,
    "start_time": "2023-04-04T10:58:58.585Z"
   },
   {
    "duration": 6,
    "start_time": "2023-04-04T10:58:58.603Z"
   },
   {
    "duration": 14,
    "start_time": "2023-04-04T10:58:58.610Z"
   },
   {
    "duration": 12,
    "start_time": "2023-04-04T10:58:58.625Z"
   },
   {
    "duration": 9,
    "start_time": "2023-04-04T10:58:58.638Z"
   },
   {
    "duration": 16,
    "start_time": "2023-04-04T10:58:58.648Z"
   },
   {
    "duration": 317,
    "start_time": "2023-04-04T10:58:58.666Z"
   },
   {
    "duration": 6,
    "start_time": "2023-04-04T10:58:58.985Z"
   },
   {
    "duration": 6,
    "start_time": "2023-04-04T10:58:58.992Z"
   },
   {
    "duration": 7,
    "start_time": "2023-04-04T10:58:59.002Z"
   },
   {
    "duration": 299,
    "start_time": "2023-04-04T10:58:59.010Z"
   },
   {
    "duration": 237,
    "start_time": "2023-04-04T10:58:59.311Z"
   },
   {
    "duration": 250,
    "start_time": "2023-04-04T10:58:59.550Z"
   },
   {
    "duration": 5,
    "start_time": "2023-04-04T10:58:59.801Z"
   },
   {
    "duration": 188,
    "start_time": "2023-04-04T10:58:59.808Z"
   },
   {
    "duration": 154,
    "start_time": "2023-04-04T10:58:59.998Z"
   },
   {
    "duration": 5,
    "start_time": "2023-04-04T10:59:00.153Z"
   },
   {
    "duration": 21,
    "start_time": "2023-04-04T10:59:00.159Z"
   },
   {
    "duration": 51,
    "start_time": "2023-04-04T10:59:00.182Z"
   },
   {
    "duration": 52,
    "start_time": "2023-04-04T10:59:00.235Z"
   },
   {
    "duration": 49,
    "start_time": "2023-04-04T10:59:00.289Z"
   },
   {
    "duration": 72,
    "start_time": "2023-04-04T10:59:00.340Z"
   },
   {
    "duration": 963,
    "start_time": "2023-04-04T10:59:00.414Z"
   },
   {
    "duration": 26311,
    "start_time": "2023-04-04T10:59:01.379Z"
   },
   {
    "duration": 316306,
    "start_time": "2023-04-04T10:59:27.691Z"
   },
   {
    "duration": 8,
    "start_time": "2023-04-04T11:04:43.998Z"
   },
   {
    "duration": 1174,
    "start_time": "2023-04-04T11:04:44.008Z"
   },
   {
    "duration": 3,
    "start_time": "2023-04-04T11:04:45.183Z"
   },
   {
    "duration": 25,
    "start_time": "2023-04-04T11:04:45.188Z"
   },
   {
    "duration": 426,
    "start_time": "2023-04-04T11:04:45.215Z"
   },
   {
    "duration": 1354,
    "start_time": "2023-04-04T11:04:45.643Z"
   },
   {
    "duration": 0,
    "start_time": "2023-04-04T11:04:46.999Z"
   },
   {
    "duration": 152,
    "start_time": "2023-04-04T11:18:38.595Z"
   },
   {
    "duration": 284,
    "start_time": "2023-04-04T11:20:22.180Z"
   },
   {
    "duration": 74,
    "start_time": "2023-04-04T11:21:53.565Z"
   },
   {
    "duration": 122,
    "start_time": "2023-04-04T11:23:16.123Z"
   },
   {
    "duration": 369,
    "start_time": "2023-04-04T11:23:54.650Z"
   },
   {
    "duration": 86,
    "start_time": "2023-04-04T11:24:50.290Z"
   }
  ],
  "colab": {
   "provenance": []
  },
  "kernelspec": {
   "display_name": "Python 3 (ipykernel)",
   "language": "python",
   "name": "python3"
  },
  "language_info": {
   "codemirror_mode": {
    "name": "ipython",
    "version": 3
   },
   "file_extension": ".py",
   "mimetype": "text/x-python",
   "name": "python",
   "nbconvert_exporter": "python",
   "pygments_lexer": "ipython3",
   "version": "3.10.9"
  },
  "toc": {
   "base_numbering": 1,
   "nav_menu": {},
   "number_sections": true,
   "sideBar": true,
   "skip_h1_title": true,
   "title_cell": "Содержание",
   "title_sidebar": "Contents",
   "toc_cell": true,
   "toc_position": {},
   "toc_section_display": true,
   "toc_window_display": false
  }
 },
 "nbformat": 4,
 "nbformat_minor": 1
}
