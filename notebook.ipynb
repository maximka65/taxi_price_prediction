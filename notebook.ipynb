{
 "cells": [
  {
   "cell_type": "markdown",
   "metadata": {},
   "source": [
    "\n",
    "Привет очередной раз), меня зовут Люман Аблаев. Сегодня я проверю твой проект.\n",
    "<br> Дальнейшее общение будет происходить на \"ты\" если это не вызывает никаких проблем.\n",
    "<br> Желательно реагировать на красные комментарии ('исправил', 'не понятно как исправить ошибку', ...)\n",
    "<br> Пожалуйста, не удаляй комментарии ревьюера, так как они повышают качество повторного ревью.\n",
    "\n",
    "Комментарии будут в <font color='green'>зеленой</font>, <font color='blue'>синей</font> или <font color='red'>красной</font> рамках:\n",
    "\n",
    "\n",
    "<div class=\"alert alert-block alert-success\">\n",
    "<b>Успех:</b> Если все сделано отлично\n",
    "</div>\n",
    "\n",
    "<div class=\"alert alert-block alert-info\">\n",
    "<b>Совет: </b> Если можно немного улучшить\n",
    "</div>\n",
    "\n",
    "<div class=\"alert alert-block alert-danger\">\n",
    "<b>Ошибка:</b> Если требуются исправления. Работа не может быть принята с красными комментариями.\n",
    "</div>\n",
    "\n",
    "-------------------\n",
    "\n",
    "Будет очень хорошо, если ты будешь помечать свои действия следующим образом:\n",
    "<div class=\"alert alert-block alert-warning\">\n",
    "<b>Комментарий студента:</b> ...\n",
    "</div>\n",
    "\n",
    "<div class=\"alert alert-block alert-warning\">\n",
    "<b>Изменения:</b> Были внесены следующие изменения ...\n",
    "</div>\n",
    "\n",
    "\n",
    "\n",
    "\n",
    "\n",
    "\n",
    "\n",
    "<font color='orange' style='font-size:24px; font-weight:bold'>Общее впечатление</font>\n",
    "* Как всегда качественная работа - видно, что приложено много усилий,\n",
    "- Я оставил некоторые советы, надеюсь они будут полезными и интересными\n",
    "- Есть некоторые недочеты, которые нужно поправить, но у тебя это не должно занять много времени)\n",
    "- Давай еще разок"
   ]
  },
  {
   "cell_type": "markdown",
   "metadata": {},
   "source": [
    "# Определение стоимости автомобилей"
   ]
  },
  {
   "cell_type": "markdown",
   "metadata": {},
   "source": [
    "Сервис по продаже автомобилей с пробегом «Не бит, не крашен» разрабатывает приложение для привлечения новых клиентов. В нём можно быстро узнать рыночную стоимость своего автомобиля. В вашем распоряжении исторические данные: технические характеристики, комплектации и цены автомобилей. Вам нужно построить модель для определения стоимости. \n",
    "\n",
    "Заказчику важны:\n",
    "\n",
    "- качество предсказания;\n",
    "- скорость предсказания;\n",
    "- время обучения."
   ]
  },
  {
   "cell_type": "markdown",
   "metadata": {},
   "source": [
    "## Подготовка данных"
   ]
  },
  {
   "cell_type": "code",
   "execution_count": 2,
   "metadata": {},
   "outputs": [],
   "source": [
    "!pip install fast_ml\n",
    "!pip install catboost"
   ]
  },
  {
   "cell_type": "code",
   "execution_count": 3,
   "metadata": {
    "scrolled": true
   },
   "outputs": [],
   "source": [
    "conda install lightgbm"
   ]
  },
  {
   "cell_type": "code",
   "execution_count": 6,
   "metadata": {},
   "outputs": [
    {
     "name": "stdout",
     "output_type": "stream",
     "text": [
      "Found existing installation: lightgbm 3.3.5\n",
      "Uninstalling lightgbm-3.3.5:\n",
      "  Would remove:\n",
      "    /Users/macbook/anaconda3/lib/python3.10/site-packages/lightgbm-3.3.5.dist-info/*\n",
      "    /Users/macbook/anaconda3/lib/python3.10/site-packages/lightgbm/*\n",
      "Proceed (Y/n)? ^C\n",
      "\u001b[31mERROR: Operation cancelled by user\u001b[0m\u001b[31m\n",
      "\u001b[0m"
     ]
    }
   ],
   "source": [
    "!pip uninstall lightgbm"
   ]
  },
  {
   "cell_type": "code",
   "execution_count": 4,
   "metadata": {},
   "outputs": [
    {
     "ename": "OSError",
     "evalue": "dlopen(/Users/macbook/anaconda3/lib/python3.10/site-packages/lightgbm/lib_lightgbm.so, 0x0006): Library not loaded: /usr/local/opt/libomp/lib/libomp.dylib\n  Referenced from: <D21A7969-4567-3BC7-94ED-6A9E83AE9D78> /Users/macbook/anaconda3/lib/python3.10/site-packages/lightgbm/lib_lightgbm.so\n  Reason: tried: '/usr/local/opt/libomp/lib/libomp.dylib' (no such file), '/System/Volumes/Preboot/Cryptexes/OS/usr/local/opt/libomp/lib/libomp.dylib' (no such file), '/usr/local/opt/libomp/lib/libomp.dylib' (no such file), '/usr/local/lib/libomp.dylib' (no such file), '/usr/lib/libomp.dylib' (no such file, not in dyld cache)",
     "output_type": "error",
     "traceback": [
      "\u001b[0;31m---------------------------------------------------------------------------\u001b[0m",
      "\u001b[0;31mOSError\u001b[0m                                   Traceback (most recent call last)",
      "Cell \u001b[0;32mIn[4], line 11\u001b[0m\n\u001b[1;32m      9\u001b[0m \u001b[38;5;28;01mfrom\u001b[39;00m \u001b[38;5;21;01mcatboost\u001b[39;00m \u001b[38;5;28;01mimport\u001b[39;00m Pool\n\u001b[1;32m     10\u001b[0m \u001b[38;5;28;01mfrom\u001b[39;00m \u001b[38;5;21;01mcatboost\u001b[39;00m \u001b[38;5;28;01mimport\u001b[39;00m CatBoostRegressor\n\u001b[0;32m---> 11\u001b[0m \u001b[38;5;28;01mimport\u001b[39;00m \u001b[38;5;21;01mlightgbm\u001b[39;00m \u001b[38;5;28;01mas\u001b[39;00m \u001b[38;5;21;01mlgb\u001b[39;00m\n\u001b[1;32m     12\u001b[0m \u001b[38;5;28;01mfrom\u001b[39;00m \u001b[38;5;21;01msklearn\u001b[39;00m\u001b[38;5;21;01m.\u001b[39;00m\u001b[38;5;21;01mmodel_selection\u001b[39;00m \u001b[38;5;28;01mimport\u001b[39;00m train_test_split\n\u001b[1;32m     13\u001b[0m \u001b[38;5;28;01mfrom\u001b[39;00m \u001b[38;5;21;01msklearn\u001b[39;00m\u001b[38;5;21;01m.\u001b[39;00m\u001b[38;5;21;01mmetrics\u001b[39;00m \u001b[38;5;28;01mimport\u001b[39;00m mean_squared_error\n",
      "File \u001b[0;32m~/anaconda3/lib/python3.10/site-packages/lightgbm/__init__.py:8\u001b[0m\n\u001b[1;32m      2\u001b[0m \u001b[38;5;124;03m\"\"\"LightGBM, Light Gradient Boosting Machine.\u001b[39;00m\n\u001b[1;32m      3\u001b[0m \n\u001b[1;32m      4\u001b[0m \u001b[38;5;124;03mContributors: https://github.com/microsoft/LightGBM/graphs/contributors.\u001b[39;00m\n\u001b[1;32m      5\u001b[0m \u001b[38;5;124;03m\"\"\"\u001b[39;00m\n\u001b[1;32m      6\u001b[0m \u001b[38;5;28;01mfrom\u001b[39;00m \u001b[38;5;21;01mpathlib\u001b[39;00m \u001b[38;5;28;01mimport\u001b[39;00m Path\n\u001b[0;32m----> 8\u001b[0m \u001b[38;5;28;01mfrom\u001b[39;00m \u001b[38;5;21;01m.\u001b[39;00m\u001b[38;5;21;01mbasic\u001b[39;00m \u001b[38;5;28;01mimport\u001b[39;00m Booster, Dataset, Sequence, register_logger\n\u001b[1;32m      9\u001b[0m \u001b[38;5;28;01mfrom\u001b[39;00m \u001b[38;5;21;01m.\u001b[39;00m\u001b[38;5;21;01mcallback\u001b[39;00m \u001b[38;5;28;01mimport\u001b[39;00m early_stopping, log_evaluation, print_evaluation, record_evaluation, reset_parameter\n\u001b[1;32m     10\u001b[0m \u001b[38;5;28;01mfrom\u001b[39;00m \u001b[38;5;21;01m.\u001b[39;00m\u001b[38;5;21;01mengine\u001b[39;00m \u001b[38;5;28;01mimport\u001b[39;00m CVBooster, cv, train\n",
      "File \u001b[0;32m~/anaconda3/lib/python3.10/site-packages/lightgbm/basic.py:110\u001b[0m\n\u001b[1;32m    106\u001b[0m         \u001b[38;5;28;01mraise\u001b[39;00m LightGBMError(lib\u001b[38;5;241m.\u001b[39mLGBM_GetLastError()\u001b[38;5;241m.\u001b[39mdecode(\u001b[38;5;124m'\u001b[39m\u001b[38;5;124mutf-8\u001b[39m\u001b[38;5;124m'\u001b[39m))\n\u001b[1;32m    107\u001b[0m     \u001b[38;5;28;01mreturn\u001b[39;00m lib\n\u001b[0;32m--> 110\u001b[0m _LIB \u001b[38;5;241m=\u001b[39m \u001b[43m_load_lib\u001b[49m\u001b[43m(\u001b[49m\u001b[43m)\u001b[49m\n\u001b[1;32m    113\u001b[0m NUMERIC_TYPES \u001b[38;5;241m=\u001b[39m (\u001b[38;5;28mint\u001b[39m, \u001b[38;5;28mfloat\u001b[39m, \u001b[38;5;28mbool\u001b[39m)\n\u001b[1;32m    116\u001b[0m \u001b[38;5;28;01mdef\u001b[39;00m \u001b[38;5;21m_safe_call\u001b[39m(ret: \u001b[38;5;28mint\u001b[39m) \u001b[38;5;241m-\u001b[39m\u001b[38;5;241m>\u001b[39m \u001b[38;5;28;01mNone\u001b[39;00m:\n",
      "File \u001b[0;32m~/anaconda3/lib/python3.10/site-packages/lightgbm/basic.py:101\u001b[0m, in \u001b[0;36m_load_lib\u001b[0;34m()\u001b[0m\n\u001b[1;32m     99\u001b[0m \u001b[38;5;28;01mif\u001b[39;00m \u001b[38;5;28mlen\u001b[39m(lib_path) \u001b[38;5;241m==\u001b[39m \u001b[38;5;241m0\u001b[39m:\n\u001b[1;32m    100\u001b[0m     \u001b[38;5;28;01mreturn\u001b[39;00m \u001b[38;5;28;01mNone\u001b[39;00m\n\u001b[0;32m--> 101\u001b[0m lib \u001b[38;5;241m=\u001b[39m \u001b[43mctypes\u001b[49m\u001b[38;5;241;43m.\u001b[39;49m\u001b[43mcdll\u001b[49m\u001b[38;5;241;43m.\u001b[39;49m\u001b[43mLoadLibrary\u001b[49m\u001b[43m(\u001b[49m\u001b[43mlib_path\u001b[49m\u001b[43m[\u001b[49m\u001b[38;5;241;43m0\u001b[39;49m\u001b[43m]\u001b[49m\u001b[43m)\u001b[49m\n\u001b[1;32m    102\u001b[0m lib\u001b[38;5;241m.\u001b[39mLGBM_GetLastError\u001b[38;5;241m.\u001b[39mrestype \u001b[38;5;241m=\u001b[39m ctypes\u001b[38;5;241m.\u001b[39mc_char_p\n\u001b[1;32m    103\u001b[0m callback \u001b[38;5;241m=\u001b[39m ctypes\u001b[38;5;241m.\u001b[39mCFUNCTYPE(\u001b[38;5;28;01mNone\u001b[39;00m, ctypes\u001b[38;5;241m.\u001b[39mc_char_p)\n",
      "File \u001b[0;32m~/anaconda3/lib/python3.10/ctypes/__init__.py:452\u001b[0m, in \u001b[0;36mLibraryLoader.LoadLibrary\u001b[0;34m(self, name)\u001b[0m\n\u001b[1;32m    451\u001b[0m \u001b[38;5;28;01mdef\u001b[39;00m \u001b[38;5;21mLoadLibrary\u001b[39m(\u001b[38;5;28mself\u001b[39m, name):\n\u001b[0;32m--> 452\u001b[0m     \u001b[38;5;28;01mreturn\u001b[39;00m \u001b[38;5;28;43mself\u001b[39;49m\u001b[38;5;241;43m.\u001b[39;49m\u001b[43m_dlltype\u001b[49m\u001b[43m(\u001b[49m\u001b[43mname\u001b[49m\u001b[43m)\u001b[49m\n",
      "File \u001b[0;32m~/anaconda3/lib/python3.10/ctypes/__init__.py:374\u001b[0m, in \u001b[0;36mCDLL.__init__\u001b[0;34m(self, name, mode, handle, use_errno, use_last_error, winmode)\u001b[0m\n\u001b[1;32m    371\u001b[0m \u001b[38;5;28mself\u001b[39m\u001b[38;5;241m.\u001b[39m_FuncPtr \u001b[38;5;241m=\u001b[39m _FuncPtr\n\u001b[1;32m    373\u001b[0m \u001b[38;5;28;01mif\u001b[39;00m handle \u001b[38;5;129;01mis\u001b[39;00m \u001b[38;5;28;01mNone\u001b[39;00m:\n\u001b[0;32m--> 374\u001b[0m     \u001b[38;5;28mself\u001b[39m\u001b[38;5;241m.\u001b[39m_handle \u001b[38;5;241m=\u001b[39m \u001b[43m_dlopen\u001b[49m\u001b[43m(\u001b[49m\u001b[38;5;28;43mself\u001b[39;49m\u001b[38;5;241;43m.\u001b[39;49m\u001b[43m_name\u001b[49m\u001b[43m,\u001b[49m\u001b[43m \u001b[49m\u001b[43mmode\u001b[49m\u001b[43m)\u001b[49m\n\u001b[1;32m    375\u001b[0m \u001b[38;5;28;01melse\u001b[39;00m:\n\u001b[1;32m    376\u001b[0m     \u001b[38;5;28mself\u001b[39m\u001b[38;5;241m.\u001b[39m_handle \u001b[38;5;241m=\u001b[39m handle\n",
      "\u001b[0;31mOSError\u001b[0m: dlopen(/Users/macbook/anaconda3/lib/python3.10/site-packages/lightgbm/lib_lightgbm.so, 0x0006): Library not loaded: /usr/local/opt/libomp/lib/libomp.dylib\n  Referenced from: <D21A7969-4567-3BC7-94ED-6A9E83AE9D78> /Users/macbook/anaconda3/lib/python3.10/site-packages/lightgbm/lib_lightgbm.so\n  Reason: tried: '/usr/local/opt/libomp/lib/libomp.dylib' (no such file), '/System/Volumes/Preboot/Cryptexes/OS/usr/local/opt/libomp/lib/libomp.dylib' (no such file), '/usr/local/opt/libomp/lib/libomp.dylib' (no such file), '/usr/local/lib/libomp.dylib' (no such file), '/usr/lib/libomp.dylib' (no such file, not in dyld cache)"
     ]
    }
   ],
   "source": [
    "# импортирую все библиотеки, \n",
    "\n",
    "import pandas as pd\n",
    "import seaborn as sns\n",
    "import numpy as np\n",
    "from fast_ml.model_development import train_valid_test_split\n",
    "import matplotlib.pyplot as plt\n",
    "\n",
    "from catboost import Pool\n",
    "from catboost import CatBoostRegressor\n",
    "import lightgbm as lgb\n",
    "from sklearn.model_selection import train_test_split\n",
    "from sklearn.metrics import mean_squared_error\n",
    "from sklearn.preprocessing import StandardScaler\n",
    "from sklearn.model_selection import cross_val_score\n",
    "from sklearn.linear_model import SGDRegressor\n",
    "from catboost import CatBoostRegressor, Pool\n",
    "from sklearn.linear_model import ElasticNet\n",
    "from lightgbm import LGBMRegressor\n",
    "import time \n"
   ]
  },
  {
   "cell_type": "markdown",
   "metadata": {},
   "source": [
    "\n",
    "<div class=\"alert alert-block alert-success\">\n",
    "<b>Успех:</b> Импорты  на месте\n",
    "</div>\n"
   ]
  },
  {
   "cell_type": "markdown",
   "metadata": {},
   "source": [
    "## Подготовка данных"
   ]
  },
  {
   "cell_type": "code",
   "execution_count": null,
   "metadata": {},
   "outputs": [],
   "source": [
    "#подключаю датасет\n",
    "try:\n",
    "    data = pd.read_csv('autos.csv')\n",
    "except:\n",
    "    data = pd.read_csv('C:/Users/ivolo/Downloads/autos (1).csv')"
   ]
  },
  {
   "cell_type": "code",
   "execution_count": 38,
   "metadata": {},
   "outputs": [
    {
     "name": "stdout",
     "output_type": "stream",
     "text": [
      "Краткая информация\n",
      "Строки 354369\n",
      "Столбцы 16\n"
     ]
    }
   ],
   "source": [
    "print(f'Краткая информация')\n",
    "print(f'Строки {data.shape[0]}')\n",
    "print(f'Столбцы {data.shape[1]}')"
   ]
  },
  {
   "cell_type": "markdown",
   "metadata": {},
   "source": [
    "Посмотрим на типы данных и проверим пропуски"
   ]
  },
  {
   "cell_type": "code",
   "execution_count": 39,
   "metadata": {},
   "outputs": [
    {
     "name": "stdout",
     "output_type": "stream",
     "text": [
      "<class 'pandas.core.frame.DataFrame'>\n",
      "RangeIndex: 354369 entries, 0 to 354368\n",
      "Data columns (total 16 columns):\n",
      " #   Column             Non-Null Count   Dtype \n",
      "---  ------             --------------   ----- \n",
      " 0   DateCrawled        354369 non-null  object\n",
      " 1   Price              354369 non-null  int64 \n",
      " 2   VehicleType        316879 non-null  object\n",
      " 3   RegistrationYear   354369 non-null  int64 \n",
      " 4   Gearbox            334536 non-null  object\n",
      " 5   Power              354369 non-null  int64 \n",
      " 6   Model              334664 non-null  object\n",
      " 7   Kilometer          354369 non-null  int64 \n",
      " 8   RegistrationMonth  354369 non-null  int64 \n",
      " 9   FuelType           321474 non-null  object\n",
      " 10  Brand              354369 non-null  object\n",
      " 11  Repaired           283215 non-null  object\n",
      " 12  DateCreated        354369 non-null  object\n",
      " 13  NumberOfPictures   354369 non-null  int64 \n",
      " 14  PostalCode         354369 non-null  int64 \n",
      " 15  LastSeen           354369 non-null  object\n",
      "dtypes: int64(7), object(9)\n",
      "memory usage: 43.3+ MB\n"
     ]
    }
   ],
   "source": [
    "# вывожу информацию о данных\n",
    "data.info()"
   ]
  },
  {
   "cell_type": "markdown",
   "metadata": {},
   "source": [
    "Выделяются пропуски в колонках VehicleType, Gearbox, Model, FuelType, Repaired. "
   ]
  },
  {
   "cell_type": "code",
   "execution_count": 40,
   "metadata": {},
   "outputs": [
    {
     "data": {
      "text/html": [
       "<div>\n",
       "<style scoped>\n",
       "    .dataframe tbody tr th:only-of-type {\n",
       "        vertical-align: middle;\n",
       "    }\n",
       "\n",
       "    .dataframe tbody tr th {\n",
       "        vertical-align: top;\n",
       "    }\n",
       "\n",
       "    .dataframe thead th {\n",
       "        text-align: right;\n",
       "    }\n",
       "</style>\n",
       "<table border=\"1\" class=\"dataframe\">\n",
       "  <thead>\n",
       "    <tr style=\"text-align: right;\">\n",
       "      <th></th>\n",
       "      <th>DateCrawled</th>\n",
       "      <th>Price</th>\n",
       "      <th>VehicleType</th>\n",
       "      <th>RegistrationYear</th>\n",
       "      <th>Gearbox</th>\n",
       "      <th>Power</th>\n",
       "      <th>Model</th>\n",
       "      <th>Kilometer</th>\n",
       "      <th>RegistrationMonth</th>\n",
       "      <th>FuelType</th>\n",
       "      <th>Brand</th>\n",
       "      <th>Repaired</th>\n",
       "      <th>DateCreated</th>\n",
       "      <th>NumberOfPictures</th>\n",
       "      <th>PostalCode</th>\n",
       "      <th>LastSeen</th>\n",
       "    </tr>\n",
       "  </thead>\n",
       "  <tbody>\n",
       "    <tr>\n",
       "      <th>229828</th>\n",
       "      <td>2016-03-16 00:59:07</td>\n",
       "      <td>8200</td>\n",
       "      <td>small</td>\n",
       "      <td>2013</td>\n",
       "      <td>manual</td>\n",
       "      <td>69</td>\n",
       "      <td>500</td>\n",
       "      <td>50000</td>\n",
       "      <td>5</td>\n",
       "      <td>petrol</td>\n",
       "      <td>fiat</td>\n",
       "      <td>no</td>\n",
       "      <td>2016-03-15 00:00:00</td>\n",
       "      <td>0</td>\n",
       "      <td>86470</td>\n",
       "      <td>2016-04-06 00:46:59</td>\n",
       "    </tr>\n",
       "    <tr>\n",
       "      <th>337724</th>\n",
       "      <td>2016-03-15 22:51:45</td>\n",
       "      <td>1490</td>\n",
       "      <td>coupe</td>\n",
       "      <td>1999</td>\n",
       "      <td>auto</td>\n",
       "      <td>218</td>\n",
       "      <td>clk</td>\n",
       "      <td>150000</td>\n",
       "      <td>1</td>\n",
       "      <td>petrol</td>\n",
       "      <td>mercedes_benz</td>\n",
       "      <td>no</td>\n",
       "      <td>2016-03-15 00:00:00</td>\n",
       "      <td>0</td>\n",
       "      <td>12099</td>\n",
       "      <td>2016-04-07 14:57:36</td>\n",
       "    </tr>\n",
       "    <tr>\n",
       "      <th>48459</th>\n",
       "      <td>2016-04-04 08:55:16</td>\n",
       "      <td>950</td>\n",
       "      <td>NaN</td>\n",
       "      <td>2017</td>\n",
       "      <td>NaN</td>\n",
       "      <td>0</td>\n",
       "      <td>NaN</td>\n",
       "      <td>150000</td>\n",
       "      <td>4</td>\n",
       "      <td>petrol</td>\n",
       "      <td>bmw</td>\n",
       "      <td>no</td>\n",
       "      <td>2016-04-04 00:00:00</td>\n",
       "      <td>0</td>\n",
       "      <td>96149</td>\n",
       "      <td>2016-04-06 09:45:51</td>\n",
       "    </tr>\n",
       "    <tr>\n",
       "      <th>71774</th>\n",
       "      <td>2016-03-08 18:47:29</td>\n",
       "      <td>890</td>\n",
       "      <td>NaN</td>\n",
       "      <td>2017</td>\n",
       "      <td>manual</td>\n",
       "      <td>0</td>\n",
       "      <td>corsa</td>\n",
       "      <td>150000</td>\n",
       "      <td>6</td>\n",
       "      <td>petrol</td>\n",
       "      <td>opel</td>\n",
       "      <td>no</td>\n",
       "      <td>2016-03-08 00:00:00</td>\n",
       "      <td>0</td>\n",
       "      <td>29640</td>\n",
       "      <td>2016-04-07 12:17:44</td>\n",
       "    </tr>\n",
       "    <tr>\n",
       "      <th>292457</th>\n",
       "      <td>2016-03-30 08:53:36</td>\n",
       "      <td>10500</td>\n",
       "      <td>sedan</td>\n",
       "      <td>2006</td>\n",
       "      <td>auto</td>\n",
       "      <td>0</td>\n",
       "      <td>phaeton</td>\n",
       "      <td>150000</td>\n",
       "      <td>10</td>\n",
       "      <td>gasoline</td>\n",
       "      <td>volkswagen</td>\n",
       "      <td>no</td>\n",
       "      <td>2016-03-30 00:00:00</td>\n",
       "      <td>0</td>\n",
       "      <td>86154</td>\n",
       "      <td>2016-04-07 01:15:25</td>\n",
       "    </tr>\n",
       "    <tr>\n",
       "      <th>192365</th>\n",
       "      <td>2016-03-08 20:57:12</td>\n",
       "      <td>14799</td>\n",
       "      <td>bus</td>\n",
       "      <td>2011</td>\n",
       "      <td>auto</td>\n",
       "      <td>170</td>\n",
       "      <td>touran</td>\n",
       "      <td>150000</td>\n",
       "      <td>4</td>\n",
       "      <td>gasoline</td>\n",
       "      <td>volkswagen</td>\n",
       "      <td>no</td>\n",
       "      <td>2016-03-08 00:00:00</td>\n",
       "      <td>0</td>\n",
       "      <td>29633</td>\n",
       "      <td>2016-04-05 23:16:38</td>\n",
       "    </tr>\n",
       "    <tr>\n",
       "      <th>189420</th>\n",
       "      <td>2016-03-08 01:48:15</td>\n",
       "      <td>7950</td>\n",
       "      <td>small</td>\n",
       "      <td>2009</td>\n",
       "      <td>manual</td>\n",
       "      <td>109</td>\n",
       "      <td>cooper</td>\n",
       "      <td>150000</td>\n",
       "      <td>3</td>\n",
       "      <td>gasoline</td>\n",
       "      <td>mini</td>\n",
       "      <td>no</td>\n",
       "      <td>2016-03-07 00:00:00</td>\n",
       "      <td>0</td>\n",
       "      <td>90766</td>\n",
       "      <td>2016-04-05 18:45:28</td>\n",
       "    </tr>\n",
       "    <tr>\n",
       "      <th>111657</th>\n",
       "      <td>2016-03-12 21:49:23</td>\n",
       "      <td>1200</td>\n",
       "      <td>wagon</td>\n",
       "      <td>2000</td>\n",
       "      <td>manual</td>\n",
       "      <td>97</td>\n",
       "      <td>other</td>\n",
       "      <td>150000</td>\n",
       "      <td>3</td>\n",
       "      <td>petrol</td>\n",
       "      <td>suzuki</td>\n",
       "      <td>no</td>\n",
       "      <td>2016-03-12 00:00:00</td>\n",
       "      <td>0</td>\n",
       "      <td>2797</td>\n",
       "      <td>2016-04-05 17:21:43</td>\n",
       "    </tr>\n",
       "    <tr>\n",
       "      <th>146934</th>\n",
       "      <td>2016-03-05 16:56:26</td>\n",
       "      <td>2700</td>\n",
       "      <td>small</td>\n",
       "      <td>1998</td>\n",
       "      <td>manual</td>\n",
       "      <td>90</td>\n",
       "      <td>golf</td>\n",
       "      <td>150000</td>\n",
       "      <td>7</td>\n",
       "      <td>gasoline</td>\n",
       "      <td>volkswagen</td>\n",
       "      <td>no</td>\n",
       "      <td>2016-03-05 00:00:00</td>\n",
       "      <td>0</td>\n",
       "      <td>74858</td>\n",
       "      <td>2016-04-07 14:58:00</td>\n",
       "    </tr>\n",
       "    <tr>\n",
       "      <th>266452</th>\n",
       "      <td>2016-03-27 13:57:36</td>\n",
       "      <td>19900</td>\n",
       "      <td>sedan</td>\n",
       "      <td>2013</td>\n",
       "      <td>manual</td>\n",
       "      <td>122</td>\n",
       "      <td>a_klasse</td>\n",
       "      <td>20000</td>\n",
       "      <td>11</td>\n",
       "      <td>petrol</td>\n",
       "      <td>mercedes_benz</td>\n",
       "      <td>no</td>\n",
       "      <td>2016-03-27 00:00:00</td>\n",
       "      <td>0</td>\n",
       "      <td>42349</td>\n",
       "      <td>2016-04-07 09:46:34</td>\n",
       "    </tr>\n",
       "  </tbody>\n",
       "</table>\n",
       "</div>"
      ],
      "text/plain": [
       "                DateCrawled  Price VehicleType  RegistrationYear Gearbox  \\\n",
       "229828  2016-03-16 00:59:07   8200       small              2013  manual   \n",
       "337724  2016-03-15 22:51:45   1490       coupe              1999    auto   \n",
       "48459   2016-04-04 08:55:16    950         NaN              2017     NaN   \n",
       "71774   2016-03-08 18:47:29    890         NaN              2017  manual   \n",
       "292457  2016-03-30 08:53:36  10500       sedan              2006    auto   \n",
       "192365  2016-03-08 20:57:12  14799         bus              2011    auto   \n",
       "189420  2016-03-08 01:48:15   7950       small              2009  manual   \n",
       "111657  2016-03-12 21:49:23   1200       wagon              2000  manual   \n",
       "146934  2016-03-05 16:56:26   2700       small              1998  manual   \n",
       "266452  2016-03-27 13:57:36  19900       sedan              2013  manual   \n",
       "\n",
       "        Power     Model  Kilometer  RegistrationMonth  FuelType  \\\n",
       "229828     69       500      50000                  5    petrol   \n",
       "337724    218       clk     150000                  1    petrol   \n",
       "48459       0       NaN     150000                  4    petrol   \n",
       "71774       0     corsa     150000                  6    petrol   \n",
       "292457      0   phaeton     150000                 10  gasoline   \n",
       "192365    170    touran     150000                  4  gasoline   \n",
       "189420    109    cooper     150000                  3  gasoline   \n",
       "111657     97     other     150000                  3    petrol   \n",
       "146934     90      golf     150000                  7  gasoline   \n",
       "266452    122  a_klasse      20000                 11    petrol   \n",
       "\n",
       "                Brand Repaired          DateCreated  NumberOfPictures  \\\n",
       "229828           fiat       no  2016-03-15 00:00:00                 0   \n",
       "337724  mercedes_benz       no  2016-03-15 00:00:00                 0   \n",
       "48459             bmw       no  2016-04-04 00:00:00                 0   \n",
       "71774            opel       no  2016-03-08 00:00:00                 0   \n",
       "292457     volkswagen       no  2016-03-30 00:00:00                 0   \n",
       "192365     volkswagen       no  2016-03-08 00:00:00                 0   \n",
       "189420           mini       no  2016-03-07 00:00:00                 0   \n",
       "111657         suzuki       no  2016-03-12 00:00:00                 0   \n",
       "146934     volkswagen       no  2016-03-05 00:00:00                 0   \n",
       "266452  mercedes_benz       no  2016-03-27 00:00:00                 0   \n",
       "\n",
       "        PostalCode             LastSeen  \n",
       "229828       86470  2016-04-06 00:46:59  \n",
       "337724       12099  2016-04-07 14:57:36  \n",
       "48459        96149  2016-04-06 09:45:51  \n",
       "71774        29640  2016-04-07 12:17:44  \n",
       "292457       86154  2016-04-07 01:15:25  \n",
       "192365       29633  2016-04-05 23:16:38  \n",
       "189420       90766  2016-04-05 18:45:28  \n",
       "111657        2797  2016-04-05 17:21:43  \n",
       "146934       74858  2016-04-07 14:58:00  \n",
       "266452       42349  2016-04-07 09:46:34  "
      ]
     },
     "execution_count": 40,
     "metadata": {},
     "output_type": "execute_result"
    }
   ],
   "source": [
    "# смотрю лучайные 10 записей из этого датасета.\n",
    "data.sample(10) "
   ]
  },
  {
   "cell_type": "markdown",
   "metadata": {},
   "source": [
    "Приведу описание столбцов\n",
    "\n",
    "* date crawled — дата скачивания анкеты из базы\n",
    "* price — цена (евро), Является целевым признаком\n",
    "* vehicle type — тип автомобильного кузова\n",
    "* registration year — год регистрации автомобиля\n",
    "* gearbox — тип коробки передач\n",
    "* power — мощность (л. с.)\n",
    "* model — модель автомобиля\n",
    "* kilometer — пробег (км)\n",
    "* registration_month — месяц регистрации автомобиля\n",
    "* fuel type — тип топлива\n",
    "* brand — марка автомобиля\n",
    "* repaired — была машина в ремонте или нет\n",
    "* date created — дата создания анкеты\n",
    "* number of pictures — количество фотографий автомобиля\n",
    "* postal code — почтовый индекс владельца анкеты (пользователя)\n",
    "* last seen — дата последней активности пользователя\n"
   ]
  },
  {
   "cell_type": "code",
   "execution_count": 41,
   "metadata": {},
   "outputs": [
    {
     "data": {
      "text/html": [
       "<style type=\"text/css\">\n",
       "#T_c4bd9_row0_col0 {\n",
       "  background-color: #08306b;\n",
       "  color: #f1f1f1;\n",
       "}\n",
       "#T_c4bd9_row1_col0 {\n",
       "  background-color: #61a7d2;\n",
       "  color: #f1f1f1;\n",
       "}\n",
       "#T_c4bd9_row2_col0 {\n",
       "  background-color: #7ab6d9;\n",
       "  color: #000000;\n",
       "}\n",
       "#T_c4bd9_row3_col0, #T_c4bd9_row4_col0 {\n",
       "  background-color: #bdd7ec;\n",
       "  color: #000000;\n",
       "}\n",
       "#T_c4bd9_row5_col0, #T_c4bd9_row6_col0, #T_c4bd9_row7_col0, #T_c4bd9_row8_col0, #T_c4bd9_row9_col0, #T_c4bd9_row10_col0, #T_c4bd9_row11_col0, #T_c4bd9_row12_col0, #T_c4bd9_row13_col0, #T_c4bd9_row14_col0, #T_c4bd9_row15_col0 {\n",
       "  background-color: #f7fbff;\n",
       "  color: #000000;\n",
       "}\n",
       "</style>\n",
       "<table id=\"T_c4bd9\">\n",
       "  <thead>\n",
       "    <tr>\n",
       "      <th class=\"blank level0\" >&nbsp;</th>\n",
       "      <th id=\"T_c4bd9_level0_col0\" class=\"col_heading level0 col0\" >0</th>\n",
       "    </tr>\n",
       "  </thead>\n",
       "  <tbody>\n",
       "    <tr>\n",
       "      <th id=\"T_c4bd9_level0_row0\" class=\"row_heading level0 row0\" >Repaired</th>\n",
       "      <td id=\"T_c4bd9_row0_col0\" class=\"data row0 col0\" >20.100000</td>\n",
       "    </tr>\n",
       "    <tr>\n",
       "      <th id=\"T_c4bd9_level0_row1\" class=\"row_heading level0 row1\" >VehicleType</th>\n",
       "      <td id=\"T_c4bd9_row1_col0\" class=\"data row1 col0\" >10.600000</td>\n",
       "    </tr>\n",
       "    <tr>\n",
       "      <th id=\"T_c4bd9_level0_row2\" class=\"row_heading level0 row2\" >FuelType</th>\n",
       "      <td id=\"T_c4bd9_row2_col0\" class=\"data row2 col0\" >9.300000</td>\n",
       "    </tr>\n",
       "    <tr>\n",
       "      <th id=\"T_c4bd9_level0_row3\" class=\"row_heading level0 row3\" >Gearbox</th>\n",
       "      <td id=\"T_c4bd9_row3_col0\" class=\"data row3 col0\" >5.600000</td>\n",
       "    </tr>\n",
       "    <tr>\n",
       "      <th id=\"T_c4bd9_level0_row4\" class=\"row_heading level0 row4\" >Model</th>\n",
       "      <td id=\"T_c4bd9_row4_col0\" class=\"data row4 col0\" >5.600000</td>\n",
       "    </tr>\n",
       "    <tr>\n",
       "      <th id=\"T_c4bd9_level0_row5\" class=\"row_heading level0 row5\" >DateCrawled</th>\n",
       "      <td id=\"T_c4bd9_row5_col0\" class=\"data row5 col0\" >0.000000</td>\n",
       "    </tr>\n",
       "    <tr>\n",
       "      <th id=\"T_c4bd9_level0_row6\" class=\"row_heading level0 row6\" >Price</th>\n",
       "      <td id=\"T_c4bd9_row6_col0\" class=\"data row6 col0\" >0.000000</td>\n",
       "    </tr>\n",
       "    <tr>\n",
       "      <th id=\"T_c4bd9_level0_row7\" class=\"row_heading level0 row7\" >RegistrationYear</th>\n",
       "      <td id=\"T_c4bd9_row7_col0\" class=\"data row7 col0\" >0.000000</td>\n",
       "    </tr>\n",
       "    <tr>\n",
       "      <th id=\"T_c4bd9_level0_row8\" class=\"row_heading level0 row8\" >Power</th>\n",
       "      <td id=\"T_c4bd9_row8_col0\" class=\"data row8 col0\" >0.000000</td>\n",
       "    </tr>\n",
       "    <tr>\n",
       "      <th id=\"T_c4bd9_level0_row9\" class=\"row_heading level0 row9\" >Kilometer</th>\n",
       "      <td id=\"T_c4bd9_row9_col0\" class=\"data row9 col0\" >0.000000</td>\n",
       "    </tr>\n",
       "    <tr>\n",
       "      <th id=\"T_c4bd9_level0_row10\" class=\"row_heading level0 row10\" >RegistrationMonth</th>\n",
       "      <td id=\"T_c4bd9_row10_col0\" class=\"data row10 col0\" >0.000000</td>\n",
       "    </tr>\n",
       "    <tr>\n",
       "      <th id=\"T_c4bd9_level0_row11\" class=\"row_heading level0 row11\" >Brand</th>\n",
       "      <td id=\"T_c4bd9_row11_col0\" class=\"data row11 col0\" >0.000000</td>\n",
       "    </tr>\n",
       "    <tr>\n",
       "      <th id=\"T_c4bd9_level0_row12\" class=\"row_heading level0 row12\" >DateCreated</th>\n",
       "      <td id=\"T_c4bd9_row12_col0\" class=\"data row12 col0\" >0.000000</td>\n",
       "    </tr>\n",
       "    <tr>\n",
       "      <th id=\"T_c4bd9_level0_row13\" class=\"row_heading level0 row13\" >NumberOfPictures</th>\n",
       "      <td id=\"T_c4bd9_row13_col0\" class=\"data row13 col0\" >0.000000</td>\n",
       "    </tr>\n",
       "    <tr>\n",
       "      <th id=\"T_c4bd9_level0_row14\" class=\"row_heading level0 row14\" >PostalCode</th>\n",
       "      <td id=\"T_c4bd9_row14_col0\" class=\"data row14 col0\" >0.000000</td>\n",
       "    </tr>\n",
       "    <tr>\n",
       "      <th id=\"T_c4bd9_level0_row15\" class=\"row_heading level0 row15\" >LastSeen</th>\n",
       "      <td id=\"T_c4bd9_row15_col0\" class=\"data row15 col0\" >0.000000</td>\n",
       "    </tr>\n",
       "  </tbody>\n",
       "</table>\n"
      ],
      "text/plain": [
       "<pandas.io.formats.style.Styler at 0x28be472f970>"
      ]
     },
     "execution_count": 41,
     "metadata": {},
     "output_type": "execute_result"
    }
   ],
   "source": [
    "#создаю  оформленную таблицу, отображающей процент пропущенных значений в каждом столбце датасета\n",
    "pd.DataFrame(round(data.isna().mean()*100,1)).sort_values(by=0, ascending=False).style.background_gradient(cmap='Blues')\n"
   ]
  },
  {
   "cell_type": "markdown",
   "metadata": {},
   "source": [
    "Больше всего пропусков repaired. Так же пропуски есть в vehicle type=10, fuel type- 9%, gearbox=5.6, model - достаточно важные признаки, наблюдается 5+%  пропущеных. При  этом стоит учитывать, что модель, тип топлива и  коробка передач сильно влияют на цену. Причин пропусков может быть много."
   ]
  },
  {
   "cell_type": "markdown",
   "metadata": {},
   "source": [
    "<div class=\"alert alert-block alert-info\">\n",
    "<b>Совет:</b> У fuel_type есть категории, которые означают одно и тоже - их можно объединить\n",
    "</div>"
   ]
  },
  {
   "cell_type": "markdown",
   "metadata": {},
   "source": [
    "**ДУБЛИКАТЫ В ДАТАСЕТЕ**"
   ]
  },
  {
   "cell_type": "code",
   "execution_count": 42,
   "metadata": {},
   "outputs": [
    {
     "name": "stdout",
     "output_type": "stream",
     "text": [
      "Количество дубликатов =  4\n"
     ]
    }
   ],
   "source": [
    "print('Количество дубликатов = ', data.duplicated().sum()) #проверяю датасет на дубликаты"
   ]
  },
  {
   "cell_type": "code",
   "execution_count": 43,
   "metadata": {},
   "outputs": [
    {
     "data": {
      "text/plain": [
       "0"
      ]
     },
     "execution_count": 43,
     "metadata": {},
     "output_type": "execute_result"
    }
   ],
   "source": [
    "data = data.drop_duplicates().reset_index(drop=True) #удаляю дубликаты\n",
    "data.duplicated().sum()"
   ]
  },
  {
   "cell_type": "markdown",
   "metadata": {},
   "source": [
    "**ИЗУЧЕНИЕ ДАТАСЕТА**"
   ]
  },
  {
   "cell_type": "code",
   "execution_count": 44,
   "metadata": {},
   "outputs": [
    {
     "data": {
      "image/png": "[encoded data removed]",
      "text/plain": [
       "<Figure size 1296x864 with 9 Axes>"
      ]
     },
     "metadata": {
      "needs_background": "light"
     },
     "output_type": "display_data"
    }
   ],
   "source": [
    "#построю гистограммы распределения данных, использую matplotlib\n",
    "data.hist(bins=25, figsize=(18,12), edgecolor='black', grid=True,color='green',)\n",
    "plt.show()"
   ]
  },
  {
   "cell_type": "code",
   "execution_count": 45,
   "metadata": {},
   "outputs": [
    {
     "data": {
      "text/html": [
       "<div>\n",
       "<style scoped>\n",
       "    .dataframe tbody tr th:only-of-type {\n",
       "        vertical-align: middle;\n",
       "    }\n",
       "\n",
       "    .dataframe tbody tr th {\n",
       "        vertical-align: top;\n",
       "    }\n",
       "\n",
       "    .dataframe thead th {\n",
       "        text-align: right;\n",
       "    }\n",
       "</style>\n",
       "<table border=\"1\" class=\"dataframe\">\n",
       "  <thead>\n",
       "    <tr style=\"text-align: right;\">\n",
       "      <th></th>\n",
       "      <th>Price</th>\n",
       "      <th>RegistrationYear</th>\n",
       "      <th>Power</th>\n",
       "      <th>Kilometer</th>\n",
       "      <th>RegistrationMonth</th>\n",
       "      <th>NumberOfPictures</th>\n",
       "      <th>PostalCode</th>\n",
       "    </tr>\n",
       "  </thead>\n",
       "  <tbody>\n",
       "    <tr>\n",
       "      <th>count</th>\n",
       "      <td>354365.000000</td>\n",
       "      <td>354365.000000</td>\n",
       "      <td>354365.000000</td>\n",
       "      <td>354365.000000</td>\n",
       "      <td>354365.000000</td>\n",
       "      <td>354365.0</td>\n",
       "      <td>354365.000000</td>\n",
       "    </tr>\n",
       "    <tr>\n",
       "      <th>mean</th>\n",
       "      <td>4416.679830</td>\n",
       "      <td>2004.234481</td>\n",
       "      <td>110.093816</td>\n",
       "      <td>128211.363989</td>\n",
       "      <td>5.714650</td>\n",
       "      <td>0.0</td>\n",
       "      <td>50508.503800</td>\n",
       "    </tr>\n",
       "    <tr>\n",
       "      <th>std</th>\n",
       "      <td>4514.176349</td>\n",
       "      <td>90.228466</td>\n",
       "      <td>189.851330</td>\n",
       "      <td>37905.083858</td>\n",
       "      <td>3.726432</td>\n",
       "      <td>0.0</td>\n",
       "      <td>25783.100078</td>\n",
       "    </tr>\n",
       "    <tr>\n",
       "      <th>min</th>\n",
       "      <td>0.000000</td>\n",
       "      <td>1000.000000</td>\n",
       "      <td>0.000000</td>\n",
       "      <td>5000.000000</td>\n",
       "      <td>0.000000</td>\n",
       "      <td>0.0</td>\n",
       "      <td>1067.000000</td>\n",
       "    </tr>\n",
       "    <tr>\n",
       "      <th>25%</th>\n",
       "      <td>1050.000000</td>\n",
       "      <td>1999.000000</td>\n",
       "      <td>69.000000</td>\n",
       "      <td>125000.000000</td>\n",
       "      <td>3.000000</td>\n",
       "      <td>0.0</td>\n",
       "      <td>30165.000000</td>\n",
       "    </tr>\n",
       "    <tr>\n",
       "      <th>50%</th>\n",
       "      <td>2700.000000</td>\n",
       "      <td>2003.000000</td>\n",
       "      <td>105.000000</td>\n",
       "      <td>150000.000000</td>\n",
       "      <td>6.000000</td>\n",
       "      <td>0.0</td>\n",
       "      <td>49413.000000</td>\n",
       "    </tr>\n",
       "    <tr>\n",
       "      <th>75%</th>\n",
       "      <td>6400.000000</td>\n",
       "      <td>2008.000000</td>\n",
       "      <td>143.000000</td>\n",
       "      <td>150000.000000</td>\n",
       "      <td>9.000000</td>\n",
       "      <td>0.0</td>\n",
       "      <td>71083.000000</td>\n",
       "    </tr>\n",
       "    <tr>\n",
       "      <th>max</th>\n",
       "      <td>20000.000000</td>\n",
       "      <td>9999.000000</td>\n",
       "      <td>20000.000000</td>\n",
       "      <td>150000.000000</td>\n",
       "      <td>12.000000</td>\n",
       "      <td>0.0</td>\n",
       "      <td>99998.000000</td>\n",
       "    </tr>\n",
       "  </tbody>\n",
       "</table>\n",
       "</div>"
      ],
      "text/plain": [
       "               Price  RegistrationYear          Power      Kilometer  \\\n",
       "count  354365.000000     354365.000000  354365.000000  354365.000000   \n",
       "mean     4416.679830       2004.234481     110.093816  128211.363989   \n",
       "std      4514.176349         90.228466     189.851330   37905.083858   \n",
       "min         0.000000       1000.000000       0.000000    5000.000000   \n",
       "25%      1050.000000       1999.000000      69.000000  125000.000000   \n",
       "50%      2700.000000       2003.000000     105.000000  150000.000000   \n",
       "75%      6400.000000       2008.000000     143.000000  150000.000000   \n",
       "max     20000.000000       9999.000000   20000.000000  150000.000000   \n",
       "\n",
       "       RegistrationMonth  NumberOfPictures     PostalCode  \n",
       "count      354365.000000          354365.0  354365.000000  \n",
       "mean            5.714650               0.0   50508.503800  \n",
       "std             3.726432               0.0   25783.100078  \n",
       "min             0.000000               0.0    1067.000000  \n",
       "25%             3.000000               0.0   30165.000000  \n",
       "50%             6.000000               0.0   49413.000000  \n",
       "75%             9.000000               0.0   71083.000000  \n",
       "max            12.000000               0.0   99998.000000  "
      ]
     },
     "execution_count": 45,
     "metadata": {},
     "output_type": "execute_result"
    }
   ],
   "source": [
    "data.describe() #Смотрю статист. данные о датасете"
   ]
  },
  {
   "cell_type": "markdown",
   "metadata": {},
   "source": [
    "По году, цене и мощности выявлены странные значения- выбросы. Следует отфильтровать их"
   ]
  },
  {
   "cell_type": "code",
   "execution_count": 46,
   "metadata": {},
   "outputs": [
    {
     "data": {
      "text/html": [
       "<div>\n",
       "<style scoped>\n",
       "    .dataframe tbody tr th:only-of-type {\n",
       "        vertical-align: middle;\n",
       "    }\n",
       "\n",
       "    .dataframe tbody tr th {\n",
       "        vertical-align: top;\n",
       "    }\n",
       "\n",
       "    .dataframe thead th {\n",
       "        text-align: right;\n",
       "    }\n",
       "</style>\n",
       "<table border=\"1\" class=\"dataframe\">\n",
       "  <thead>\n",
       "    <tr style=\"text-align: right;\">\n",
       "      <th></th>\n",
       "      <th>Power</th>\n",
       "      <th>RegistrationYear</th>\n",
       "      <th>Price</th>\n",
       "    </tr>\n",
       "  </thead>\n",
       "  <tbody>\n",
       "    <tr>\n",
       "      <th>count</th>\n",
       "      <td>295309.000000</td>\n",
       "      <td>295309.000000</td>\n",
       "      <td>295309.000000</td>\n",
       "    </tr>\n",
       "    <tr>\n",
       "      <th>mean</th>\n",
       "      <td>117.495017</td>\n",
       "      <td>2003.344341</td>\n",
       "      <td>4569.945962</td>\n",
       "    </tr>\n",
       "    <tr>\n",
       "      <th>std</th>\n",
       "      <td>48.042445</td>\n",
       "      <td>6.179831</td>\n",
       "      <td>4282.808988</td>\n",
       "    </tr>\n",
       "    <tr>\n",
       "      <th>min</th>\n",
       "      <td>1.000000</td>\n",
       "      <td>1981.000000</td>\n",
       "      <td>1.000000</td>\n",
       "    </tr>\n",
       "    <tr>\n",
       "      <th>25%</th>\n",
       "      <td>75.000000</td>\n",
       "      <td>1999.000000</td>\n",
       "      <td>1299.000000</td>\n",
       "    </tr>\n",
       "    <tr>\n",
       "      <th>50%</th>\n",
       "      <td>110.000000</td>\n",
       "      <td>2003.000000</td>\n",
       "      <td>2999.000000</td>\n",
       "    </tr>\n",
       "    <tr>\n",
       "      <th>75%</th>\n",
       "      <td>145.000000</td>\n",
       "      <td>2007.000000</td>\n",
       "      <td>6600.000000</td>\n",
       "    </tr>\n",
       "    <tr>\n",
       "      <th>max</th>\n",
       "      <td>299.000000</td>\n",
       "      <td>2017.000000</td>\n",
       "      <td>18799.000000</td>\n",
       "    </tr>\n",
       "  </tbody>\n",
       "</table>\n",
       "</div>"
      ],
      "text/plain": [
       "               Power  RegistrationYear          Price\n",
       "count  295309.000000     295309.000000  295309.000000\n",
       "mean      117.495017       2003.344341    4569.945962\n",
       "std        48.042445          6.179831    4282.808988\n",
       "min         1.000000       1981.000000       1.000000\n",
       "25%        75.000000       1999.000000    1299.000000\n",
       "50%       110.000000       2003.000000    2999.000000\n",
       "75%       145.000000       2007.000000    6600.000000\n",
       "max       299.000000       2017.000000   18799.000000"
      ]
     },
     "execution_count": 46,
     "metadata": {},
     "output_type": "execute_result"
    }
   ],
   "source": [
    "# очищю данных от выбросов.\n",
    "cols_clean = ['Power', 'RegistrationYear', 'Price']\n",
    "low = .01\n",
    "high = .99\n",
    "quant_df = data[cols_clean].quantile([low, high])\n",
    "data_clean = data[cols_clean].apply(lambda x: x[(x > quant_df.loc[low, x.name]) & \n",
    "                                     (x < quant_df.loc[high, x.name])], axis=0)\n",
    "data_clean.dropna(inplace=True)\n",
    "data_clean.describe()"
   ]
  },
  {
   "cell_type": "markdown",
   "metadata": {},
   "source": [
    "\n",
    "<div class=\"alert alert-block alert-success\">\n",
    "<b>Успех:</b>  А около-нулевые цены, не кажется подозрительными? Самое интересное, что на нескольких сайтов по продажам подержанных автомобилей в Германии (страну можно определить по почтовым индексам, большинство из них из Германии) показало, что цены начинаются действительно с 0 и 1 евро, но это единичные объявления и не понятно, то ли это ошибка при заполнении формы, то ли машины на металлолом. Но я  все-таки склоняюсь к тому, чтобы избавиться от таких данных\n",
    "</div>"
   ]
  },
  {
   "cell_type": "markdown",
   "metadata": {},
   "source": [
    "\n",
    "<div class=\"alert alert-block alert-danger\">\n",
    "<b>Ошибка:</b> Но я не согласен с удалением данных, используя верхнюю границу. Разве цены на машины в 19,20 тысяч евро являются неадекватными? Это ценные наблюдения, которые мы можем потерять\n",
    "</div>\n"
   ]
  },
  {
   "cell_type": "markdown",
   "metadata": {},
   "source": [
    "\n",
    "<div class=\"alert alert-block alert-success\">\n",
    "<b>Успех:</b> С границами года регистрации согласен\n",
    "</div>\n"
   ]
  },
  {
   "cell_type": "markdown",
   "metadata": {},
   "source": [
    "Аномалий нет. Можно применять этот вид фильтрации(по квантилям)"
   ]
  },
  {
   "cell_type": "code",
   "execution_count": 47,
   "metadata": {},
   "outputs": [
    {
     "name": "stdout",
     "output_type": "stream",
     "text": [
      "<class 'pandas.core.frame.DataFrame'>\n",
      "Int64Index: 295309 entries, 1 to 354364\n",
      "Data columns (total 16 columns):\n",
      " #   Column             Non-Null Count   Dtype \n",
      "---  ------             --------------   ----- \n",
      " 0   DateCrawled        295309 non-null  object\n",
      " 1   Price              295309 non-null  int64 \n",
      " 2   VehicleType        277188 non-null  object\n",
      " 3   RegistrationYear   295309 non-null  int64 \n",
      " 4   Gearbox            289602 non-null  object\n",
      " 5   Power              295309 non-null  int64 \n",
      " 6   Model              284051 non-null  object\n",
      " 7   Kilometer          295309 non-null  int64 \n",
      " 8   RegistrationMonth  295309 non-null  int64 \n",
      " 9   FuelType           277170 non-null  object\n",
      " 10  Brand              295309 non-null  object\n",
      " 11  Repaired           250363 non-null  object\n",
      " 12  DateCreated        295309 non-null  object\n",
      " 13  NumberOfPictures   295309 non-null  int64 \n",
      " 14  PostalCode         295309 non-null  int64 \n",
      " 15  LastSeen           295309 non-null  object\n",
      "dtypes: int64(7), object(9)\n",
      "memory usage: 38.3+ MB\n"
     ]
    }
   ],
   "source": [
    "df = data[data.index.isin(data_clean.index)].copy()\n",
    "df.info()"
   ]
  },
  {
   "cell_type": "markdown",
   "metadata": {},
   "source": [
    "Обработаю пропуски-поставлю в пропуски \"no_data\""
   ]
  },
  {
   "cell_type": "code",
   "execution_count": 48,
   "metadata": {},
   "outputs": [],
   "source": [
    "nans = ['Repaired', 'VehicleType', 'FuelType', 'Gearbox', 'Model']\n",
    "df[nans] = df[nans].fillna('no_data')"
   ]
  },
  {
   "cell_type": "markdown",
   "metadata": {},
   "source": [
    "<div class=\"alert alert-block alert-success\">\n",
    "<b>Успех:</b> Пропуски обработаны хорошим образом\n",
    "</div>\n"
   ]
  },
  {
   "cell_type": "code",
   "execution_count": 49,
   "metadata": {},
   "outputs": [
    {
     "name": "stdout",
     "output_type": "stream",
     "text": [
      "<class 'pandas.core.frame.DataFrame'>\n",
      "Int64Index: 295309 entries, 1 to 354364\n",
      "Data columns (total 16 columns):\n",
      " #   Column             Non-Null Count   Dtype \n",
      "---  ------             --------------   ----- \n",
      " 0   DateCrawled        295309 non-null  object\n",
      " 1   Price              295309 non-null  int64 \n",
      " 2   VehicleType        295309 non-null  object\n",
      " 3   RegistrationYear   295309 non-null  int64 \n",
      " 4   Gearbox            295309 non-null  object\n",
      " 5   Power              295309 non-null  int64 \n",
      " 6   Model              295309 non-null  object\n",
      " 7   Kilometer          295309 non-null  int64 \n",
      " 8   RegistrationMonth  295309 non-null  int64 \n",
      " 9   FuelType           295309 non-null  object\n",
      " 10  Brand              295309 non-null  object\n",
      " 11  Repaired           295309 non-null  object\n",
      " 12  DateCreated        295309 non-null  object\n",
      " 13  NumberOfPictures   295309 non-null  int64 \n",
      " 14  PostalCode         295309 non-null  int64 \n",
      " 15  LastSeen           295309 non-null  object\n",
      "dtypes: int64(7), object(9)\n",
      "memory usage: 38.3+ MB\n"
     ]
    }
   ],
   "source": [
    "df.info()"
   ]
  },
  {
   "cell_type": "markdown",
   "metadata": {},
   "source": [
    "Пропусков нет"
   ]
  },
  {
   "cell_type": "code",
   "execution_count": 50,
   "metadata": {},
   "outputs": [
    {
     "data": {
      "text/html": [
       "<div>\n",
       "<style scoped>\n",
       "    .dataframe tbody tr th:only-of-type {\n",
       "        vertical-align: middle;\n",
       "    }\n",
       "\n",
       "    .dataframe tbody tr th {\n",
       "        vertical-align: top;\n",
       "    }\n",
       "\n",
       "    .dataframe thead th {\n",
       "        text-align: right;\n",
       "    }\n",
       "</style>\n",
       "<table border=\"1\" class=\"dataframe\">\n",
       "  <thead>\n",
       "    <tr style=\"text-align: right;\">\n",
       "      <th></th>\n",
       "      <th>DateCrawled</th>\n",
       "      <th>Price</th>\n",
       "      <th>VehicleType</th>\n",
       "      <th>RegistrationYear</th>\n",
       "      <th>Gearbox</th>\n",
       "      <th>Power</th>\n",
       "      <th>Model</th>\n",
       "      <th>Kilometer</th>\n",
       "      <th>RegistrationMonth</th>\n",
       "      <th>FuelType</th>\n",
       "      <th>Brand</th>\n",
       "      <th>Repaired</th>\n",
       "      <th>DateCreated</th>\n",
       "      <th>NumberOfPictures</th>\n",
       "      <th>PostalCode</th>\n",
       "      <th>LastSeen</th>\n",
       "    </tr>\n",
       "  </thead>\n",
       "  <tbody>\n",
       "    <tr>\n",
       "      <th>79947</th>\n",
       "      <td>2016-03-23 19:46:13</td>\n",
       "      <td>6500</td>\n",
       "      <td>bus</td>\n",
       "      <td>2005</td>\n",
       "      <td>manual</td>\n",
       "      <td>116</td>\n",
       "      <td>sharan</td>\n",
       "      <td>150000</td>\n",
       "      <td>1</td>\n",
       "      <td>gasoline</td>\n",
       "      <td>volkswagen</td>\n",
       "      <td>no</td>\n",
       "      <td>2016-03-23 00:00:00</td>\n",
       "      <td>0</td>\n",
       "      <td>49393</td>\n",
       "      <td>2016-04-06 00:46:15</td>\n",
       "    </tr>\n",
       "    <tr>\n",
       "      <th>288886</th>\n",
       "      <td>2016-03-16 11:59:28</td>\n",
       "      <td>4200</td>\n",
       "      <td>coupe</td>\n",
       "      <td>2004</td>\n",
       "      <td>manual</td>\n",
       "      <td>150</td>\n",
       "      <td>other</td>\n",
       "      <td>150000</td>\n",
       "      <td>4</td>\n",
       "      <td>gasoline</td>\n",
       "      <td>alfa_romeo</td>\n",
       "      <td>no</td>\n",
       "      <td>2016-03-16 00:00:00</td>\n",
       "      <td>0</td>\n",
       "      <td>27607</td>\n",
       "      <td>2016-04-06 05:16:29</td>\n",
       "    </tr>\n",
       "    <tr>\n",
       "      <th>187592</th>\n",
       "      <td>2016-03-25 12:49:38</td>\n",
       "      <td>3690</td>\n",
       "      <td>convertible</td>\n",
       "      <td>2004</td>\n",
       "      <td>manual</td>\n",
       "      <td>95</td>\n",
       "      <td>ka</td>\n",
       "      <td>90000</td>\n",
       "      <td>4</td>\n",
       "      <td>petrol</td>\n",
       "      <td>ford</td>\n",
       "      <td>no</td>\n",
       "      <td>2016-03-25 00:00:00</td>\n",
       "      <td>0</td>\n",
       "      <td>98593</td>\n",
       "      <td>2016-04-06 14:16:57</td>\n",
       "    </tr>\n",
       "    <tr>\n",
       "      <th>285388</th>\n",
       "      <td>2016-03-26 13:06:21</td>\n",
       "      <td>16500</td>\n",
       "      <td>bus</td>\n",
       "      <td>2015</td>\n",
       "      <td>auto</td>\n",
       "      <td>140</td>\n",
       "      <td>meriva</td>\n",
       "      <td>10000</td>\n",
       "      <td>5</td>\n",
       "      <td>petrol</td>\n",
       "      <td>opel</td>\n",
       "      <td>no</td>\n",
       "      <td>2016-03-26 00:00:00</td>\n",
       "      <td>0</td>\n",
       "      <td>65479</td>\n",
       "      <td>2016-04-06 11:46:54</td>\n",
       "    </tr>\n",
       "    <tr>\n",
       "      <th>63445</th>\n",
       "      <td>2016-04-01 14:52:21</td>\n",
       "      <td>15499</td>\n",
       "      <td>bus</td>\n",
       "      <td>2014</td>\n",
       "      <td>manual</td>\n",
       "      <td>156</td>\n",
       "      <td>c4</td>\n",
       "      <td>30000</td>\n",
       "      <td>6</td>\n",
       "      <td>petrol</td>\n",
       "      <td>citroen</td>\n",
       "      <td>no</td>\n",
       "      <td>2016-04-01 00:00:00</td>\n",
       "      <td>0</td>\n",
       "      <td>67577</td>\n",
       "      <td>2016-04-07 12:16:04</td>\n",
       "    </tr>\n",
       "  </tbody>\n",
       "</table>\n",
       "</div>"
      ],
      "text/plain": [
       "                DateCrawled  Price  VehicleType  RegistrationYear Gearbox  \\\n",
       "79947   2016-03-23 19:46:13   6500          bus              2005  manual   \n",
       "288886  2016-03-16 11:59:28   4200        coupe              2004  manual   \n",
       "187592  2016-03-25 12:49:38   3690  convertible              2004  manual   \n",
       "285388  2016-03-26 13:06:21  16500          bus              2015    auto   \n",
       "63445   2016-04-01 14:52:21  15499          bus              2014  manual   \n",
       "\n",
       "        Power   Model  Kilometer  RegistrationMonth  FuelType       Brand  \\\n",
       "79947     116  sharan     150000                  1  gasoline  volkswagen   \n",
       "288886    150   other     150000                  4  gasoline  alfa_romeo   \n",
       "187592     95      ka      90000                  4    petrol        ford   \n",
       "285388    140  meriva      10000                  5    petrol        opel   \n",
       "63445     156      c4      30000                  6    petrol     citroen   \n",
       "\n",
       "       Repaired          DateCreated  NumberOfPictures  PostalCode  \\\n",
       "79947        no  2016-03-23 00:00:00                 0       49393   \n",
       "288886       no  2016-03-16 00:00:00                 0       27607   \n",
       "187592       no  2016-03-25 00:00:00                 0       98593   \n",
       "285388       no  2016-03-26 00:00:00                 0       65479   \n",
       "63445        no  2016-04-01 00:00:00                 0       67577   \n",
       "\n",
       "                   LastSeen  \n",
       "79947   2016-04-06 00:46:15  \n",
       "288886  2016-04-06 05:16:29  \n",
       "187592  2016-04-06 14:16:57  \n",
       "285388  2016-04-06 11:46:54  \n",
       "63445   2016-04-07 12:16:04  "
      ]
     },
     "execution_count": 50,
     "metadata": {},
     "output_type": "execute_result"
    }
   ],
   "source": [
    "df.sample(5) #смотрю случайную выборку 10 строк"
   ]
  },
  {
   "cell_type": "markdown",
   "metadata": {},
   "source": [
    "В датасте есть столбцы, не влияющие на стоимость. Удаляю их"
   ]
  },
  {
   "cell_type": "code",
   "execution_count": 51,
   "metadata": {},
   "outputs": [
    {
     "name": "stdout",
     "output_type": "stream",
     "text": [
      "Index(['DateCrawled', 'Price', 'VehicleType', 'RegistrationYear', 'Gearbox',\n",
      "       'Power', 'Model', 'Kilometer', 'RegistrationMonth', 'FuelType', 'Brand',\n",
      "       'Repaired', 'DateCreated', 'NumberOfPictures', 'PostalCode',\n",
      "       'LastSeen'],\n",
      "      dtype='object')\n"
     ]
    }
   ],
   "source": [
    "print(df.columns)"
   ]
  },
  {
   "cell_type": "code",
   "execution_count": 52,
   "metadata": {},
   "outputs": [
    {
     "data": {
      "text/html": [
       "<div>\n",
       "<style scoped>\n",
       "    .dataframe tbody tr th:only-of-type {\n",
       "        vertical-align: middle;\n",
       "    }\n",
       "\n",
       "    .dataframe tbody tr th {\n",
       "        vertical-align: top;\n",
       "    }\n",
       "\n",
       "    .dataframe thead th {\n",
       "        text-align: right;\n",
       "    }\n",
       "</style>\n",
       "<table border=\"1\" class=\"dataframe\">\n",
       "  <thead>\n",
       "    <tr style=\"text-align: right;\">\n",
       "      <th></th>\n",
       "      <th>Price</th>\n",
       "      <th>VehicleType</th>\n",
       "      <th>RegistrationYear</th>\n",
       "      <th>Gearbox</th>\n",
       "      <th>Power</th>\n",
       "      <th>Model</th>\n",
       "      <th>Kilometer</th>\n",
       "      <th>FuelType</th>\n",
       "      <th>Brand</th>\n",
       "      <th>Repaired</th>\n",
       "    </tr>\n",
       "  </thead>\n",
       "  <tbody>\n",
       "    <tr>\n",
       "      <th>220493</th>\n",
       "      <td>6999</td>\n",
       "      <td>wagon</td>\n",
       "      <td>2006</td>\n",
       "      <td>manual</td>\n",
       "      <td>200</td>\n",
       "      <td>a4</td>\n",
       "      <td>150000</td>\n",
       "      <td>petrol</td>\n",
       "      <td>audi</td>\n",
       "      <td>no</td>\n",
       "    </tr>\n",
       "    <tr>\n",
       "      <th>228386</th>\n",
       "      <td>6990</td>\n",
       "      <td>bus</td>\n",
       "      <td>2004</td>\n",
       "      <td>manual</td>\n",
       "      <td>140</td>\n",
       "      <td>touran</td>\n",
       "      <td>150000</td>\n",
       "      <td>gasoline</td>\n",
       "      <td>volkswagen</td>\n",
       "      <td>no</td>\n",
       "    </tr>\n",
       "    <tr>\n",
       "      <th>310486</th>\n",
       "      <td>2850</td>\n",
       "      <td>no_data</td>\n",
       "      <td>2016</td>\n",
       "      <td>manual</td>\n",
       "      <td>58</td>\n",
       "      <td>polo</td>\n",
       "      <td>150000</td>\n",
       "      <td>petrol</td>\n",
       "      <td>volkswagen</td>\n",
       "      <td>no_data</td>\n",
       "    </tr>\n",
       "    <tr>\n",
       "      <th>254955</th>\n",
       "      <td>9000</td>\n",
       "      <td>wagon</td>\n",
       "      <td>2007</td>\n",
       "      <td>manual</td>\n",
       "      <td>177</td>\n",
       "      <td>3er</td>\n",
       "      <td>150000</td>\n",
       "      <td>gasoline</td>\n",
       "      <td>bmw</td>\n",
       "      <td>no</td>\n",
       "    </tr>\n",
       "    <tr>\n",
       "      <th>251120</th>\n",
       "      <td>7999</td>\n",
       "      <td>sedan</td>\n",
       "      <td>2010</td>\n",
       "      <td>manual</td>\n",
       "      <td>95</td>\n",
       "      <td>a_klasse</td>\n",
       "      <td>90000</td>\n",
       "      <td>petrol</td>\n",
       "      <td>mercedes_benz</td>\n",
       "      <td>no</td>\n",
       "    </tr>\n",
       "    <tr>\n",
       "      <th>125588</th>\n",
       "      <td>950</td>\n",
       "      <td>coupe</td>\n",
       "      <td>1995</td>\n",
       "      <td>manual</td>\n",
       "      <td>102</td>\n",
       "      <td>3er</td>\n",
       "      <td>150000</td>\n",
       "      <td>petrol</td>\n",
       "      <td>bmw</td>\n",
       "      <td>no</td>\n",
       "    </tr>\n",
       "    <tr>\n",
       "      <th>147564</th>\n",
       "      <td>1770</td>\n",
       "      <td>small</td>\n",
       "      <td>2001</td>\n",
       "      <td>manual</td>\n",
       "      <td>60</td>\n",
       "      <td>polo</td>\n",
       "      <td>150000</td>\n",
       "      <td>petrol</td>\n",
       "      <td>volkswagen</td>\n",
       "      <td>no</td>\n",
       "    </tr>\n",
       "    <tr>\n",
       "      <th>268577</th>\n",
       "      <td>4999</td>\n",
       "      <td>no_data</td>\n",
       "      <td>2017</td>\n",
       "      <td>no_data</td>\n",
       "      <td>105</td>\n",
       "      <td>golf</td>\n",
       "      <td>150000</td>\n",
       "      <td>gasoline</td>\n",
       "      <td>volkswagen</td>\n",
       "      <td>no_data</td>\n",
       "    </tr>\n",
       "    <tr>\n",
       "      <th>78410</th>\n",
       "      <td>1100</td>\n",
       "      <td>wagon</td>\n",
       "      <td>1999</td>\n",
       "      <td>manual</td>\n",
       "      <td>101</td>\n",
       "      <td>octavia</td>\n",
       "      <td>150000</td>\n",
       "      <td>petrol</td>\n",
       "      <td>skoda</td>\n",
       "      <td>no_data</td>\n",
       "    </tr>\n",
       "  </tbody>\n",
       "</table>\n",
       "</div>"
      ],
      "text/plain": [
       "        Price VehicleType  RegistrationYear  Gearbox  Power     Model  \\\n",
       "220493   6999       wagon              2006   manual    200        a4   \n",
       "228386   6990         bus              2004   manual    140    touran   \n",
       "310486   2850     no_data              2016   manual     58      polo   \n",
       "254955   9000       wagon              2007   manual    177       3er   \n",
       "251120   7999       sedan              2010   manual     95  a_klasse   \n",
       "125588    950       coupe              1995   manual    102       3er   \n",
       "147564   1770       small              2001   manual     60      polo   \n",
       "268577   4999     no_data              2017  no_data    105      golf   \n",
       "78410    1100       wagon              1999   manual    101   octavia   \n",
       "\n",
       "        Kilometer  FuelType          Brand Repaired  \n",
       "220493     150000    petrol           audi       no  \n",
       "228386     150000  gasoline     volkswagen       no  \n",
       "310486     150000    petrol     volkswagen  no_data  \n",
       "254955     150000  gasoline            bmw       no  \n",
       "251120      90000    petrol  mercedes_benz       no  \n",
       "125588     150000    petrol            bmw       no  \n",
       "147564     150000    petrol     volkswagen       no  \n",
       "268577     150000  gasoline     volkswagen  no_data  \n",
       "78410      150000    petrol          skoda  no_data  "
      ]
     },
     "execution_count": 52,
     "metadata": {},
     "output_type": "execute_result"
    }
   ],
   "source": [
    "my_cols = ['DateCrawled', 'RegistrationMonth','DateCreated', \n",
    "        'NumberOfPictures', 'PostalCode', 'LastSeen'] #создал список\n",
    "df = df.drop(my_cols, axis=1) # удаляю указанные столбцы\n",
    "df.sample(9) # еще раз смотрб случайную выборку"
   ]
  },
  {
   "cell_type": "markdown",
   "metadata": {},
   "source": [
    "<div class=\"alert alert-block alert-success\">\n",
    "<b>Успех:</b> Удалить неинформативные признаки - верное решение.\n",
    "</div>\n"
   ]
  },
  {
   "cell_type": "markdown",
   "metadata": {},
   "source": [
    "Финальная проверка на дубли, после обработки и дропа"
   ]
  },
  {
   "cell_type": "code",
   "execution_count": 53,
   "metadata": {
    "scrolled": true
   },
   "outputs": [
    {
     "name": "stdout",
     "output_type": "stream",
     "text": [
      "Кол-во  дубликатов до 38956\n",
      "Кол-во  дубликатов после 0\n"
     ]
    }
   ],
   "source": [
    "# удаляю дубликаты из датасет и смотрю как изменилось их количество.\n",
    "dups = df.duplicated().sum()\n",
    "print('Кол-во  дубликатов до', dups)\n",
    "df = df.drop_duplicates()\n",
    "dups = df.duplicated().sum()\n",
    "print('Кол-во  дубликатов после', dups)"
   ]
  },
  {
   "cell_type": "markdown",
   "metadata": {},
   "source": [
    "Выводы:\n",
    "\n",
    "\n",
    "* Загрузил и проанализировал данные. Привел датасет к приемлемой для анализа структуре:\n",
    "* Отобрал необходимые для анализа данные\n",
    "* Заполнил пропущенные значения\n",
    "* Удалил выбросы\n",
    "* Проверил на дубликаты\n",
    "* Удалил признаки, не влияющие на целевой признак.\n",
    "\n",
    "Это позволит более качествено и быстро работать с данными. Перехожу к построению моделей"
   ]
  },
  {
   "cell_type": "markdown",
   "metadata": {},
   "source": [
    "\n",
    "<div class=\"alert alert-block alert-success\">\n",
    "<b>Успех:</b> В целом хорошая, детальная предобработка - идем дальше\n",
    "</div>\n"
   ]
  },
  {
   "cell_type": "markdown",
   "metadata": {},
   "source": [
    "## Обучение моделей"
   ]
  },
  {
   "cell_type": "code",
   "execution_count": 54,
   "metadata": {},
   "outputs": [],
   "source": [
    "#разбиваю данные, смотрим как модель будет работать на новых данных\n",
    "X_train, y_train, X_valid, y_valid, X_test, y_test = train_valid_test_split(df, target = 'Price', train_size=0.8, valid_size=0.1, test_size=0.1)"
   ]
  },
  {
   "cell_type": "code",
   "execution_count": 55,
   "metadata": {},
   "outputs": [
    {
     "data": {
      "text/plain": [
       "['VehicleType', 'Gearbox', 'Model', 'FuelType', 'Brand', 'Repaired']"
      ]
     },
     "execution_count": 55,
     "metadata": {},
     "output_type": "execute_result"
    }
   ],
   "source": [
    "categorial_features = list(X_train.select_dtypes(include=['object']).columns)\n",
    "categorial_features # получаю список признаков обуч выборки"
   ]
  },
  {
   "cell_type": "markdown",
   "metadata": {},
   "source": [
    "### LightGBM"
   ]
  },
  {
   "cell_type": "markdown",
   "metadata": {},
   "source": [
    "Пробую обучить модель с помощью LightGBM.\n",
    "LightGBM - библиотека для градиентного бустинга, может обрабатывать категориальные признаки. Особенность -необходимо чтобы  категориальные признаки имели тип 'category'. Измеряю время обучения/предсказания моделей"
   ]
  },
  {
   "cell_type": "code",
   "execution_count": 56,
   "metadata": {},
   "outputs": [],
   "source": [
    "features_train_gbm = X_train.copy() \n",
    "#делаю копию обучающей выборки для обучения модели"
   ]
  },
  {
   "cell_type": "code",
   "execution_count": 57,
   "metadata": {},
   "outputs": [
    {
     "name": "stdout",
     "output_type": "stream",
     "text": [
      "<class 'pandas.core.frame.DataFrame'>\n",
      "Int64Index: 205082 entries, 194946 to 228682\n",
      "Data columns (total 9 columns):\n",
      " #   Column            Non-Null Count   Dtype   \n",
      "---  ------            --------------   -----   \n",
      " 0   VehicleType       205082 non-null  category\n",
      " 1   RegistrationYear  205082 non-null  int64   \n",
      " 2   Gearbox           205082 non-null  category\n",
      " 3   Power             205082 non-null  int64   \n",
      " 4   Model             205082 non-null  category\n",
      " 5   Kilometer         205082 non-null  int64   \n",
      " 6   FuelType          205082 non-null  category\n",
      " 7   Brand             205082 non-null  category\n",
      " 8   Repaired          205082 non-null  category\n",
      "dtypes: category(6), int64(3)\n",
      "memory usage: 7.6 MB\n"
     ]
    }
   ],
   "source": [
    "# преобразовываю все категориальные признаки в category\n",
    "for f in categorial_features:\n",
    "    features_train_gbm[f] = features_train_gbm[f].astype('category')\n",
    "features_train_gbm.info()  "
   ]
  },
  {
   "cell_type": "code",
   "execution_count": 58,
   "metadata": {},
   "outputs": [
    {
     "name": "stdout",
     "output_type": "stream",
     "text": [
      "[LightGBM] [Warning] Auto-choosing row-wise multi-threading, the overhead of testing was 0.005198 seconds.\n",
      "You can set `force_row_wise=true` to remove the overhead.\n",
      "And if memory is not enough, you can set `force_col_wise=true`.\n",
      "[LightGBM] [Info] Total Bins 552\n",
      "[LightGBM] [Info] Number of data points in the train set: 205082, number of used features: 9\n",
      "[LightGBM] [Info] Start training from score 4639.577959\n",
      "Время, затраченное на обучение модели LightGBM: 1.2 секунд\n"
     ]
    }
   ],
   "source": [
    "import time\n",
    "start_lightgbm = time.time()\n",
    "\n",
    "# создаю обучающие данные для модели\n",
    "tr_d = lgb.Dataset(features_train_gbm, label=y_train, categorical_feature = categorial_features)\n",
    "params = {'learning_rate' : 0.13 , 'n_estimators' : 300 , 'objective' : 'root_mean_squared_error'}      \n",
    "num_r = 500\n",
    "lightgbm_model = lgb.train(params, tr_d, num_r)\n",
    "end_lightgbm = time.time()\n",
    "\n",
    "#вычисляю время, затраченное на обучение модели \n",
    "all_time_gbm = end_lightgbm - start_lightgbm\n",
    "\n",
    "#добавляю подписи\n",
    "print('Время, затраченное на обучение модели LightGBM: {:.1f} секунд'.format(all_time_gbm))"
   ]
  },
  {
   "cell_type": "code",
   "execution_count": 59,
   "metadata": {},
   "outputs": [],
   "source": [
    "#создам копию данныхх\n",
    "features_train_gbm = X_valid.copy() "
   ]
  },
  {
   "cell_type": "markdown",
   "metadata": {},
   "source": [
    "\n",
    "<div class=\"alert alert-block alert-danger\">\n",
    "<b>Ошибка:</b> Зачем валидационные данные, называть train? Это же только создает путаницу\n",
    "</div>\n"
   ]
  },
  {
   "cell_type": "code",
   "execution_count": 60,
   "metadata": {},
   "outputs": [
    {
     "name": "stdout",
     "output_type": "stream",
     "text": [
      "<class 'pandas.core.frame.DataFrame'>\n",
      "Int64Index: 25635 entries, 117904 to 345970\n",
      "Data columns (total 9 columns):\n",
      " #   Column            Non-Null Count  Dtype   \n",
      "---  ------            --------------  -----   \n",
      " 0   VehicleType       25635 non-null  category\n",
      " 1   RegistrationYear  25635 non-null  int64   \n",
      " 2   Gearbox           25635 non-null  category\n",
      " 3   Power             25635 non-null  int64   \n",
      " 4   Model             25635 non-null  category\n",
      " 5   Kilometer         25635 non-null  int64   \n",
      " 6   FuelType          25635 non-null  category\n",
      " 7   Brand             25635 non-null  category\n",
      " 8   Repaired          25635 non-null  category\n",
      "dtypes: category(6), int64(3)\n",
      "memory usage: 988.7 KB\n"
     ]
    }
   ],
   "source": [
    "# преобразую к типу данных category  и смотрю информацию\n",
    "for f in categorial_features:\n",
    "    features_train_gbm[f] = features_train_gbm[f].astype('category')\n",
    "features_train_gbm.info()  "
   ]
  },
  {
   "cell_type": "code",
   "execution_count": 61,
   "metadata": {},
   "outputs": [],
   "source": [
    "pred = lightgbm_model.predict(features_train_gbm)\n",
    "gbm_rmse = mean_squared_error(y_valid, pred) ** 0.5"
   ]
  },
  {
   "cell_type": "code",
   "execution_count": 62,
   "metadata": {},
   "outputs": [
    {
     "name": "stdout",
     "output_type": "stream",
     "text": [
      "RMSE valid  lightGHM 1489.5579343238483\n",
      "Время, затраченное на предсказание: 0.084 секунд\n"
     ]
    }
   ],
   "source": [
    "#Смотрю насколько сильно отличаются прогнозируемые значения от фактических.\n",
    "print(f'RMSE valid  lightGHM {gbm_rmse}')\n",
    "\n",
    "# замеряю время предсказания\n",
    "start_time = time.time()\n",
    "pred = lightgbm_model.predict(features_train_gbm)\n",
    "end_time = time.time()\n",
    "\n",
    "# вычисляю  время, затраченное на предсказание\n",
    "prediction_time = end_time - start_time\n",
    "\n",
    "print('Время, затраченное на предсказание: {:.3f} секунд'.format(prediction_time))"
   ]
  },
  {
   "cell_type": "markdown",
   "metadata": {},
   "source": [
    "### ElasticNet model- модель регрессии, которая является комбинацией двух методов регуляризации"
   ]
  },
  {
   "cell_type": "code",
   "execution_count": 63,
   "metadata": {},
   "outputs": [
    {
     "data": {
      "text/plain": [
       "['Power', 'RegistrationYear', 'Kilometer']"
      ]
     },
     "execution_count": 63,
     "metadata": {},
     "output_type": "execute_result"
    }
   ],
   "source": [
    "num_features = list(set(X_train.columns) - set(categorial_features))\n",
    "num_features\n",
    "#оставляю только числовые признаки, которые будут использоваться в моделе(кроме категориальных)"
   ]
  },
  {
   "cell_type": "code",
   "execution_count": 64,
   "metadata": {},
   "outputs": [],
   "source": [
    "from sklearn.compose import ColumnTransformer"
   ]
  },
  {
   "cell_type": "code",
   "execution_count": 67,
   "metadata": {},
   "outputs": [],
   "source": [
    "#преобразую числовые признаки\n",
    "numeric_transformer = StandardScaler()\n",
    "\n",
    "#превращаю  текстовые(категориальные) значения в числовые\n",
    "categorical_transformer = OrdinalEncoder()\n",
    "\n",
    "#преобразовываю и объединяю признаки разных типов в единую матрицу признаков\n",
    "preprocessor = ColumnTransformer(transformers = [('num' , numeric_transformer , num_features) ,('cat' , categorical_transformer , categorial_features) ])"
   ]
  },
  {
   "cell_type": "markdown",
   "metadata": {},
   "source": [
    "<div class=\"alert alert-block alert-danger\">\n",
    "    \n",
    "\n",
    "<b>Ошибка:</b>  OE - был бы хороший выбор для всех моделей, кроме линейных, они не могут корректно обрабатывать номинальные данные обработанные порядковым способом. Для них хорош OHE, но тот же OHE нельзя применять для всех других моделей здесь (потому что не эффективно, с точки зрения времени)\n",
    "  \n",
    "</div>\n"
   ]
  },
  {
   "cell_type": "code",
   "execution_count": 68,
   "metadata": {},
   "outputs": [],
   "source": [
    "X_train_reg = preprocessor.fit_transform(X_train)\n",
    "X_valid_reg  = preprocessor.transform(X_valid)\n",
    "X_test_reg  = preprocessor.transform(X_test)"
   ]
  },
  {
   "cell_type": "code",
   "execution_count": 69,
   "metadata": {},
   "outputs": [
    {
     "name": "stdout",
     "output_type": "stream",
     "text": [
      "Время, затраченное на обучение модели ElasticNet: 0.1 секунд\n"
     ]
    }
   ],
   "source": [
    "\n",
    "import time\n",
    "# Время старта\n",
    "eln_start = time.time()\n",
    "\n",
    "eln_reg = ElasticNet(alpha=0.1, l1_ratio=0.5, random_state=777)\n",
    "eln_reg.fit(X_train_reg, y_train)\n",
    "#Время окончания\n",
    "eln_end = time.time()\n",
    "\n",
    "#вычисляю время, затраченное на обучение модели \n",
    "eln_elapsed = eln_end - eln_start\n",
    "\n",
    "#добавляю подписи\n",
    "print('Время, затраченное на обучение модели ElasticNet: {:.1f} секунд'.format(eln_elapsed))\n",
    "\n"
   ]
  },
  {
   "cell_type": "code",
   "execution_count": 70,
   "metadata": {},
   "outputs": [
    {
     "name": "stdout",
     "output_type": "stream",
     "text": [
      "RMSE модели  на базе Elasticnet 2761.2172100199346\n",
      "Время, затраченное на предсказание: 0.001 секунд\n",
      "CPU times: total: 0 ns\n",
      "Wall time: 2.27 ms\n"
     ]
    }
   ],
   "source": [
    "%%time\n",
    "# Время старта\n",
    "start_elnp = time.time()\n",
    "\n",
    "eln_pred = eln_reg.predict(X_valid_reg)\n",
    "eln_rmse = mean_squared_error(y_valid, eln_pred) ** 0.5\n",
    "#вычисляю RMSE между предсказанными значениями и реальными значениями .\n",
    "\n",
    "#Время окончания\n",
    "end_elnp = time.time()\n",
    "eln_elap = end_elnp - start_elnp\n",
    "\n",
    "print(f'RMSE модели  на базе Elasticnet {eln_rmse}')\n",
    "\n",
    "# замеряю время предсказания\n",
    "start_time = time.time()\n",
    "eln_pred = eln_reg.predict(X_valid_reg)\n",
    "end_time = time.time()\n",
    "\n",
    "# вычисляю  время, затраченное на предсказание\n",
    "prediction_time = end_time - start_time\n",
    "\n",
    "print('Время, затраченное на предсказание: {:.3f} секунд'.format(prediction_time))\n"
   ]
  },
  {
   "cell_type": "markdown",
   "metadata": {},
   "source": [
    "### Catboost"
   ]
  },
  {
   "cell_type": "markdown",
   "metadata": {},
   "source": [
    "Catboost имеет возможность работать с категориальными признаками, не требуя их кодирования. Для использования этих признаков нужно составить список идентификаторов категориальных признаков."
   ]
  },
  {
   "cell_type": "code",
   "execution_count": 71,
   "metadata": {},
   "outputs": [
    {
     "data": {
      "text/plain": [
       "['VehicleType', 'Gearbox', 'Model', 'FuelType', 'Brand', 'Repaired']"
      ]
     },
     "execution_count": 71,
     "metadata": {},
     "output_type": "execute_result"
    }
   ],
   "source": [
    "categorial_features"
   ]
  },
  {
   "cell_type": "code",
   "execution_count": 72,
   "metadata": {},
   "outputs": [],
   "source": [
    "pool_train = Pool(X_train, y_train, cat_features = categorial_features)\n",
    "\n",
    "pool_test = Pool(X_test, cat_features = categorial_features)"
   ]
  },
  {
   "cell_type": "markdown",
   "metadata": {},
   "source": [
    "<div class=\"alert alert-block alert-danger\">\n",
    "    \n",
    "\n",
    "<b>Ошибка:</b>  Почему используется тестовая выборка? Если у тебя есть валидационная. У тестовой выборке другое прдназначение\n",
    "</div>\n"
   ]
  },
  {
   "cell_type": "code",
   "execution_count": 73,
   "metadata": {},
   "outputs": [
    {
     "name": "stdout",
     "output_type": "stream",
     "text": [
      "0:\tlearn: 4042.0024843\ttotal: 272ms\tremaining: 4m 31s\n",
      "200:\tlearn: 1564.2289491\ttotal: 24.8s\tremaining: 1m 38s\n",
      "400:\tlearn: 1511.2110301\ttotal: 53.5s\tremaining: 1m 19s\n",
      "600:\tlearn: 1482.7921037\ttotal: 1m 22s\tremaining: 54.7s\n",
      "800:\tlearn: 1463.6884851\ttotal: 1m 52s\tremaining: 27.8s\n",
      "998:\tlearn: 1448.0955168\ttotal: 2m 22s\tremaining: 0us\n",
      "Время, затраченное на обучение модели : 143.74 секунд\n",
      "CPU times: total: 10min 10s\n",
      "Wall time: 2min 23s\n"
     ]
    }
   ],
   "source": [
    "%%time \n",
    "# время обработки\n",
    "\n",
    "start_cbp = time.time()\n",
    "model = CatBoostRegressor(iterations=999, learning_rate=0.1, random_seed=777)\n",
    "model.fit(X_train, y_train, cat_features = categorial_features,verbose=200)\n",
    "end_cbp = time.time()\n",
    "cbptime = end_cbp - start_cbp # время выполнения обучения модели CatBoost\n",
    "\n",
    "#добавляю подписи\n",
    "print('Время, затраченное на обучение модели : {:.2f} секунд'.format(cbptime))"
   ]
  },
  {
   "cell_type": "code",
   "execution_count": 74,
   "metadata": {},
   "outputs": [
    {
     "name": "stdout",
     "output_type": "stream",
     "text": [
      "RMSE: 1509.4587999699058\n",
      "Время, затраченное на предсказание: 0.112 секунд\n"
     ]
    }
   ],
   "source": [
    "from sklearn.metrics import mean_squared_error\n",
    "\n",
    "# делаю прогнозы на тестовом наборе\n",
    "y_pred = model.predict(X_test)\n",
    "\n",
    "# вычисляю RMSE\n",
    "rmse = mean_squared_error(y_test, y_pred, squared=False)\n",
    "\n",
    "print(f'RMSE: {rmse}')\n",
    "\n",
    "# замеряю время предсказания\n",
    "start_time = time.time()\n",
    "y_pred = model.predict(X_test)\n",
    "end_time = time.time()\n",
    "\n",
    "# вычисляю  время, затраченное на предсказание\n",
    "prediction_time = end_time - start_time\n",
    "\n",
    "print('Время, затраченное на предсказание: {:.3f} секунд'.format(prediction_time))"
   ]
  },
  {
   "cell_type": "markdown",
   "metadata": {},
   "source": [
    "## Анализ моделей"
   ]
  },
  {
   "cell_type": "markdown",
   "metadata": {},
   "source": [
    "Для нашей задачи важны время обучения, скорость предсказания и значение метрики RMSE не выше 2500.\n",
    "\n",
    "LightGBM\n",
    "RMSE  1501.1\n",
    "Время, затраченное на предсказание: 0.081 секунд\n",
    "Время, затраченное на обучение модели LightGBM: 1.1 секунд\n",
    "\n",
    "\n",
    "\n",
    "ElasticNet model\n",
    "RMSE = 2796.8 (выше требуемого значения- не подходит)\n",
    "Время, затраченное на предсказание: 0.010 секунд\n",
    "Время, затраченное на обучение модели ElasticNet: 0.1 секунд\n",
    "\n",
    "Catboost\n",
    "RMSE: 1510.6\n",
    "Время, затраченное на предсказание: 0.121 секунд\n",
    "Время, затраченное на обучение модели : 150.14 секунд\n",
    "\n",
    "\n",
    "Лучшей моделью по RMSE является LGBMRegressor . Время обучения этой модели - 1,1 секунды. Наименее эффективная модель -ElasticNet model\n",
    "\n"
   ]
  },
  {
   "cell_type": "markdown",
   "metadata": {},
   "source": [
    "## Тест\n",
    "Протестирую лучшую модель на тестовой выборке "
   ]
  },
  {
   "cell_type": "code",
   "execution_count": 75,
   "metadata": {},
   "outputs": [
    {
     "data": {
      "text/plain": [
       "1489.5579343238483"
      ]
     },
     "execution_count": 75,
     "metadata": {},
     "output_type": "execute_result"
    }
   ],
   "source": [
    "prediction = lightgbm_model.predict(features_train_gbm)\n",
    "mean_squared_error(y_valid, prediction) ** 0.5"
   ]
  },
  {
   "cell_type": "markdown",
   "metadata": {},
   "source": [
    "<div class=\"alert alert-block alert-danger\">\n",
    "    \n",
    "\n",
    "<b>Ошибка:</b>  \n",
    "    \n",
    "`features_train_gbm` - это у тебя валидационная, а не тестовая, к тому же названа как тренировочная. Будь внимателньее, здесь нужна тестовая, которая называется соотвественно\n",
    "  \n",
    "</div>\n"
   ]
  },
  {
   "cell_type": "markdown",
   "metadata": {},
   "source": [
    "## Вывод\n",
    "Обработал исходные данные и поанализировал. На обработанных датасетах обучил различные модели.  \n",
    "Для каждой модели получен результат на метрике `RMSE`.  Выбрал лучшую модель, учитывая RMSE, время обучения и время предскзания  Итог - наиболее эффективная модель - LGBMRegressor\n",
    "\n",
    "В проекте я загрузила данные и провела их предобработку - очистку, заполнение, удаление лишних данных. Подготовила выборки для машинного обучения, провела кодирование признаков методами OneHotEncode и OrdinalEncoder. Сравнила 3 модели с разными гиперпараметрами и методами кодирования. Выбрала лучшую модель, учитывая RMSE, время обучения и время предскзания - и проверила ее на тестовой выборке. Итог - онаиболее эффективная модель - LGBMRegressor с OHE, которая на финальном тестировании показала RMSE 1593."
   ]
  },
  {
   "cell_type": "markdown",
   "metadata": {},
   "source": [
    "<div class=\"alert alert-block alert-info\">\n",
    "<b>Совет:</b> \n",
    "\n",
    "Также если говорить, что можно ещё улучшить в подобных проектах, то я бы выделил такие моменты:<br>\n",
    "    \n",
    "1) Для понимания, а какие в итоге факторы важны при моделировании, можно выводить их важность, использую feature_importances_, ну и график заодно. Это будет смотреться очнь здорово: результативная метрика и график важности факторов)))\n",
    "    \n",
    "2) У нас разный возраст машин. Есть гипотеза, что для разных возрастов - своё ценообразование. Поэтому, можно попробовать ввести фактор \"тип возраста\" (ретро, супер-ретро, старая, новая... надо подумать..)..<br>\n",
    "\n",
    "</div>\n"
   ]
  },
  {
   "cell_type": "markdown",
   "metadata": {},
   "source": [
    "## Чек-лист проверки"
   ]
  },
  {
   "cell_type": "markdown",
   "metadata": {},
   "source": [
    "Поставьте 'x' в выполненных пунктах. Далее нажмите Shift+Enter."
   ]
  },
  {
   "cell_type": "markdown",
   "metadata": {},
   "source": [
    "- [x]  Jupyter Notebook открыт\n",
    "- [x]  Весь код выполняется без ошибок\n",
    "- [x]  Ячейки с кодом расположены в порядке исполнения\n",
    "- [x]  Выполнена загрузка и подготовка данных\n",
    "- [x]  Выполнено обучение моделей\n",
    "- [x]  Есть анализ скорости работы и качества моделей"
   ]
  },
  {
   "cell_type": "code",
   "execution_count": null,
   "metadata": {},
   "outputs": [],
   "source": []
  }
 ],
 "metadata": {
  "ExecuteTimeLog": [
   {
    "duration": 3082,
    "start_time": "2023-04-02T11:18:59.692Z"
   },
   {
    "duration": 96325,
    "start_time": "2023-04-02T11:19:02.776Z"
   },
   {
    "duration": 2,
    "start_time": "2023-04-02T11:20:39.103Z"
   },
   {
    "duration": 80,
    "start_time": "2023-04-02T11:20:39.107Z"
   },
   {
    "duration": 1575,
    "start_time": "2023-04-02T11:22:14.580Z"
   },
   {
    "duration": 99,
    "start_time": "2023-04-02T11:22:33.557Z"
   },
   {
    "duration": 5,
    "start_time": "2023-04-02T11:22:42.972Z"
   },
   {
    "duration": 2791,
    "start_time": "2023-04-02T11:22:49.359Z"
   },
   {
    "duration": 4,
    "start_time": "2023-04-02T11:22:55.965Z"
   },
   {
    "duration": 131,
    "start_time": "2023-04-02T11:23:03.129Z"
   },
   {
    "duration": 85,
    "start_time": "2023-04-02T11:23:09.343Z"
   },
   {
    "duration": 27,
    "start_time": "2023-04-02T11:23:17.442Z"
   },
   {
    "duration": 180,
    "start_time": "2023-04-02T11:23:24.922Z"
   },
   {
    "duration": 197,
    "start_time": "2023-04-02T11:23:37.337Z"
   },
   {
    "duration": 171,
    "start_time": "2023-04-02T11:23:41.881Z"
   },
   {
    "duration": 142,
    "start_time": "2023-04-02T11:26:47.323Z"
   },
   {
    "duration": 144,
    "start_time": "2023-04-02T11:29:10.256Z"
   },
   {
    "duration": 142,
    "start_time": "2023-04-02T11:29:36.029Z"
   },
   {
    "duration": 65,
    "start_time": "2023-04-02T11:31:28.193Z"
   },
   {
    "duration": 463,
    "start_time": "2023-04-02T11:31:40.211Z"
   },
   {
    "duration": 1014,
    "start_time": "2023-04-02T11:31:47.674Z"
   },
   {
    "duration": 94,
    "start_time": "2023-04-02T11:31:56.504Z"
   },
   {
    "duration": 1071,
    "start_time": "2023-04-02T11:32:07.914Z"
   },
   {
    "duration": 969,
    "start_time": "2023-04-02T11:34:09.164Z"
   },
   {
    "duration": 1137,
    "start_time": "2023-04-02T11:34:35.995Z"
   },
   {
    "duration": 1025,
    "start_time": "2023-04-02T11:34:51.019Z"
   },
   {
    "duration": 1062,
    "start_time": "2023-04-02T11:34:57.660Z"
   },
   {
    "duration": 1051,
    "start_time": "2023-04-02T11:35:08.522Z"
   },
   {
    "duration": 1221,
    "start_time": "2023-04-02T11:35:14.962Z"
   },
   {
    "duration": 99,
    "start_time": "2023-04-02T11:35:46.924Z"
   },
   {
    "duration": 1310,
    "start_time": "2023-04-02T11:36:49.948Z"
   },
   {
    "duration": 1439,
    "start_time": "2023-04-02T11:36:55.468Z"
   },
   {
    "duration": 1191,
    "start_time": "2023-04-02T11:37:04.892Z"
   },
   {
    "duration": 1246,
    "start_time": "2023-04-02T11:37:11.876Z"
   },
   {
    "duration": 1295,
    "start_time": "2023-04-02T11:37:18.844Z"
   },
   {
    "duration": 1183,
    "start_time": "2023-04-02T11:37:55.140Z"
   },
   {
    "duration": 1248,
    "start_time": "2023-04-02T11:39:18.125Z"
   },
   {
    "duration": 192,
    "start_time": "2023-04-02T11:40:28.349Z"
   },
   {
    "duration": 196,
    "start_time": "2023-04-02T11:41:15.268Z"
   },
   {
    "duration": 92,
    "start_time": "2023-04-02T11:41:25.421Z"
   },
   {
    "duration": 89,
    "start_time": "2023-04-02T11:41:57.197Z"
   },
   {
    "duration": 116,
    "start_time": "2023-04-02T11:42:05.054Z"
   },
   {
    "duration": 79,
    "start_time": "2023-04-02T11:42:13.164Z"
   },
   {
    "duration": 22,
    "start_time": "2023-04-02T11:42:37.485Z"
   },
   {
    "duration": 22,
    "start_time": "2023-04-02T11:42:53.818Z"
   },
   {
    "duration": 73,
    "start_time": "2023-04-02T11:43:06.319Z"
   },
   {
    "duration": 39,
    "start_time": "2023-04-02T11:43:22.324Z"
   },
   {
    "duration": 17,
    "start_time": "2023-04-02T11:43:35.409Z"
   },
   {
    "duration": 13,
    "start_time": "2023-04-02T11:44:09.281Z"
   },
   {
    "duration": 13,
    "start_time": "2023-04-02T11:44:22.222Z"
   },
   {
    "duration": 3,
    "start_time": "2023-04-02T11:45:37.523Z"
   },
   {
    "duration": 14,
    "start_time": "2023-04-02T11:49:00.398Z"
   },
   {
    "duration": 17,
    "start_time": "2023-04-02T11:49:19.443Z"
   },
   {
    "duration": 94,
    "start_time": "2023-04-02T11:49:44.258Z"
   },
   {
    "duration": 428,
    "start_time": "2023-04-02T11:49:53.515Z"
   },
   {
    "duration": 4,
    "start_time": "2023-04-02T11:50:19.437Z"
   },
   {
    "duration": 2178,
    "start_time": "2023-04-02T11:51:25.628Z"
   },
   {
    "duration": 12741,
    "start_time": "2023-04-02T11:51:27.808Z"
   },
   {
    "duration": 1342,
    "start_time": "2023-04-02T11:51:40.551Z"
   },
   {
    "duration": 929,
    "start_time": "2023-04-02T11:51:41.895Z"
   },
   {
    "duration": 4,
    "start_time": "2023-04-02T11:51:42.826Z"
   },
   {
    "duration": 155,
    "start_time": "2023-04-02T11:51:42.832Z"
   },
   {
    "duration": 52,
    "start_time": "2023-04-02T11:51:42.989Z"
   },
   {
    "duration": 202,
    "start_time": "2023-04-02T11:51:43.043Z"
   },
   {
    "duration": 492,
    "start_time": "2023-04-02T11:51:43.247Z"
   },
   {
    "duration": 1063,
    "start_time": "2023-04-02T11:51:43.741Z"
   },
   {
    "duration": 1234,
    "start_time": "2023-04-02T11:51:44.806Z"
   },
   {
    "duration": 108,
    "start_time": "2023-04-02T11:51:46.042Z"
   },
   {
    "duration": 194,
    "start_time": "2023-04-02T11:51:46.152Z"
   },
   {
    "duration": 227,
    "start_time": "2023-04-02T11:51:46.348Z"
   },
   {
    "duration": 97,
    "start_time": "2023-04-02T11:51:46.577Z"
   },
   {
    "duration": 118,
    "start_time": "2023-04-02T11:51:46.676Z"
   },
   {
    "duration": 28,
    "start_time": "2023-04-02T11:51:46.796Z"
   },
   {
    "duration": 13,
    "start_time": "2023-04-02T11:51:46.826Z"
   },
   {
    "duration": 46,
    "start_time": "2023-04-02T11:51:46.841Z"
   },
   {
    "duration": 443,
    "start_time": "2023-04-02T11:51:46.889Z"
   },
   {
    "duration": 87,
    "start_time": "2023-04-02T11:53:37.326Z"
   },
   {
    "duration": 14,
    "start_time": "2023-04-02T11:53:49.631Z"
   },
   {
    "duration": 72,
    "start_time": "2023-04-02T11:54:07.454Z"
   },
   {
    "duration": 100,
    "start_time": "2023-04-02T11:54:21.374Z"
   },
   {
    "duration": 8,
    "start_time": "2023-04-02T11:54:31.838Z"
   },
   {
    "duration": 110,
    "start_time": "2023-04-02T11:54:40.263Z"
   },
   {
    "duration": 13544,
    "start_time": "2023-04-02T11:54:49.776Z"
   },
   {
    "duration": 11142,
    "start_time": "2023-04-02T11:56:42.276Z"
   },
   {
    "duration": 10977,
    "start_time": "2023-04-02T11:57:03.048Z"
   },
   {
    "duration": 11769,
    "start_time": "2023-04-02T11:57:58.560Z"
   },
   {
    "duration": 17309,
    "start_time": "2023-04-02T11:58:44.308Z"
   },
   {
    "duration": 4,
    "start_time": "2023-04-02T11:59:15.205Z"
   },
   {
    "duration": 34,
    "start_time": "2023-04-02T11:59:19.040Z"
   },
   {
    "duration": 593,
    "start_time": "2023-04-02T11:59:32.432Z"
   },
   {
    "duration": 3,
    "start_time": "2023-04-02T11:59:42.816Z"
   },
   {
    "duration": 84,
    "start_time": "2023-04-02T12:01:03.519Z"
   },
   {
    "duration": 4,
    "start_time": "2023-04-02T12:01:50.050Z"
   },
   {
    "duration": 5,
    "start_time": "2023-04-02T12:02:37.249Z"
   },
   {
    "duration": 4,
    "start_time": "2023-04-02T12:02:45.345Z"
   },
   {
    "duration": 410,
    "start_time": "2023-04-02T12:02:53.108Z"
   },
   {
    "duration": 3,
    "start_time": "2023-04-02T12:03:00.849Z"
   },
   {
    "duration": 3,
    "start_time": "2023-04-02T12:03:10.070Z"
   },
   {
    "duration": 5,
    "start_time": "2023-04-02T12:03:35.346Z"
   },
   {
    "duration": 106,
    "start_time": "2023-04-02T12:03:50.720Z"
   },
   {
    "duration": 7,
    "start_time": "2023-04-02T12:07:17.954Z"
   },
   {
    "duration": 4,
    "start_time": "2023-04-02T12:07:51.562Z"
   },
   {
    "duration": 104,
    "start_time": "2023-04-02T12:08:31.410Z"
   },
   {
    "duration": 331,
    "start_time": "2023-04-02T12:08:40.469Z"
   },
   {
    "duration": 228,
    "start_time": "2023-04-02T12:15:32.977Z"
   },
   {
    "duration": 109749,
    "start_time": "2023-04-02T12:15:38.563Z"
   },
   {
    "duration": 3,
    "start_time": "2023-04-02T12:17:28.314Z"
   },
   {
    "duration": 249,
    "start_time": "2023-04-02T12:17:28.318Z"
   },
   {
    "duration": 2294,
    "start_time": "2023-04-02T12:20:32.755Z"
   },
   {
    "duration": 13184,
    "start_time": "2023-04-02T12:20:35.051Z"
   },
   {
    "duration": 1324,
    "start_time": "2023-04-02T12:20:48.237Z"
   },
   {
    "duration": 867,
    "start_time": "2023-04-02T12:20:49.564Z"
   },
   {
    "duration": 4,
    "start_time": "2023-04-02T12:20:50.434Z"
   },
   {
    "duration": 168,
    "start_time": "2023-04-02T12:20:50.440Z"
   },
   {
    "duration": 33,
    "start_time": "2023-04-02T12:20:50.610Z"
   },
   {
    "duration": 207,
    "start_time": "2023-04-02T12:20:50.645Z"
   },
   {
    "duration": 524,
    "start_time": "2023-04-02T12:20:50.854Z"
   },
   {
    "duration": 1138,
    "start_time": "2023-04-02T12:20:51.381Z"
   },
   {
    "duration": 1323,
    "start_time": "2023-04-02T12:20:52.521Z"
   },
   {
    "duration": 113,
    "start_time": "2023-04-02T12:20:53.846Z"
   },
   {
    "duration": 213,
    "start_time": "2023-04-02T12:20:53.961Z"
   },
   {
    "duration": 226,
    "start_time": "2023-04-02T12:20:54.176Z"
   },
   {
    "duration": 93,
    "start_time": "2023-04-02T12:20:54.404Z"
   },
   {
    "duration": 148,
    "start_time": "2023-04-02T12:20:54.499Z"
   },
   {
    "duration": 24,
    "start_time": "2023-04-02T12:20:54.649Z"
   },
   {
    "duration": 4,
    "start_time": "2023-04-02T12:20:54.675Z"
   },
   {
    "duration": 67,
    "start_time": "2023-04-02T12:20:54.681Z"
   },
   {
    "duration": 440,
    "start_time": "2023-04-02T12:20:54.750Z"
   },
   {
    "duration": 111,
    "start_time": "2023-04-02T12:20:55.192Z"
   },
   {
    "duration": 20,
    "start_time": "2023-04-02T12:20:55.305Z"
   },
   {
    "duration": 7,
    "start_time": "2023-04-02T12:20:55.326Z"
   },
   {
    "duration": 148,
    "start_time": "2023-04-02T12:20:55.335Z"
   },
   {
    "duration": 34152,
    "start_time": "2023-04-02T12:20:55.485Z"
   },
   {
    "duration": 3,
    "start_time": "2023-04-02T12:21:29.719Z"
   },
   {
    "duration": 49,
    "start_time": "2023-04-02T12:21:29.724Z"
   },
   {
    "duration": 546,
    "start_time": "2023-04-02T12:21:29.777Z"
   },
   {
    "duration": 3,
    "start_time": "2023-04-02T12:21:30.325Z"
   },
   {
    "duration": 60,
    "start_time": "2023-04-02T12:21:30.330Z"
   },
   {
    "duration": 62,
    "start_time": "2023-04-02T12:21:30.392Z"
   },
   {
    "duration": 68,
    "start_time": "2023-04-02T12:21:30.456Z"
   },
   {
    "duration": 482,
    "start_time": "2023-04-02T12:21:30.526Z"
   },
   {
    "duration": 7,
    "start_time": "2023-04-02T12:21:31.010Z"
   },
   {
    "duration": 199,
    "start_time": "2023-04-02T12:21:31.020Z"
   },
   {
    "duration": 97,
    "start_time": "2023-04-02T12:21:31.225Z"
   },
   {
    "duration": 476,
    "start_time": "2023-04-02T12:21:31.325Z"
   },
   {
    "duration": 219150,
    "start_time": "2023-04-02T12:21:31.803Z"
   },
   {
    "duration": 241,
    "start_time": "2023-04-02T12:25:10.955Z"
   },
   {
    "duration": 5,
    "start_time": "2023-04-02T12:25:11.198Z"
   },
   {
    "duration": 878,
    "start_time": "2023-04-02T12:25:11.204Z"
   },
   {
    "duration": 754,
    "start_time": "2023-04-02T12:25:12.084Z"
   },
   {
    "duration": 9,
    "start_time": "2023-04-02T12:25:12.839Z"
   },
   {
    "duration": 9,
    "start_time": "2023-04-02T12:25:54.903Z"
   },
   {
    "duration": 11,
    "start_time": "2023-04-02T12:29:26.551Z"
   },
   {
    "duration": 3,
    "start_time": "2023-04-02T12:31:04.635Z"
   },
   {
    "duration": 3,
    "start_time": "2023-04-02T12:31:08.536Z"
   },
   {
    "duration": 3,
    "start_time": "2023-04-02T12:32:57.304Z"
   },
   {
    "duration": 10,
    "start_time": "2023-04-02T12:46:32.298Z"
   },
   {
    "duration": 216,
    "start_time": "2023-04-02T12:46:50.632Z"
   },
   {
    "duration": 184,
    "start_time": "2023-04-02T12:47:00.215Z"
   },
   {
    "duration": 5,
    "start_time": "2023-04-02T12:47:24.234Z"
   },
   {
    "duration": 174,
    "start_time": "2023-04-02T12:48:05.018Z"
   },
   {
    "duration": 4,
    "start_time": "2023-04-02T13:15:24.710Z"
   },
   {
    "duration": 242,
    "start_time": "2023-04-02T13:26:27.875Z"
   },
   {
    "duration": 6,
    "start_time": "2023-04-02T13:52:52.185Z"
   },
   {
    "duration": 8,
    "start_time": "2023-04-02T13:53:03.592Z"
   },
   {
    "duration": 223795,
    "start_time": "2023-04-02T13:53:51.497Z"
   }
  ],
  "kernelspec": {
   "display_name": "Python 3 (ipykernel)",
   "language": "python",
   "name": "python3"
  },
  "language_info": {
   "codemirror_mode": {
    "name": "ipython",
    "version": 3
   },
   "file_extension": ".py",
   "mimetype": "text/x-python",
   "name": "python",
   "nbconvert_exporter": "python",
   "pygments_lexer": "ipython3",
   "version": "3.10.9"
  },
  "toc": {
   "base_numbering": 1,
   "nav_menu": {},
   "number_sections": true,
   "sideBar": true,
   "skip_h1_title": true,
   "title_cell": "Table of Contents",
   "title_sidebar": "Contents",
   "toc_cell": false,
   "toc_position": {},
   "toc_section_display": true,
   "toc_window_display": false
  }
 },
 "nbformat": 4,
 "nbformat_minor": 2
}
